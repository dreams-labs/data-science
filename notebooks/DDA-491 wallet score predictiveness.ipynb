{
 "cells": [
  {
   "cell_type": "markdown",
   "metadata": {},
   "source": [
    "### start"
   ]
  },
  {
   "cell_type": "code",
   "execution_count": null,
   "metadata": {},
   "outputs": [],
   "source": [
    "# pyright: reportMissingImports=false\n",
    "# pyright: reportMissingModuleSource=false\n",
    "\n",
    "import uuid\n",
    "import random\n",
    "import hashlib\n",
    "import os\n",
    "import sys\n",
    "import gc\n",
    "import time\n",
    "import logging\n",
    "import re\n",
    "import pdb\n",
    "from pathlib import Path\n",
    "import datetime\n",
    "from datetime import datetime,timedelta\n",
    "import json\n",
    "import warnings\n",
    "import yaml\n",
    "from typing import Dict,Union,List,Any,Tuple\n",
    "import pytest\n",
    "import importlib\n",
    "from dotenv import load_dotenv\n",
    "import pandas as pd\n",
    "import numpy as np\n",
    "import requests\n",
    "import pandas_gbq\n",
    "import scipy\n",
    "from scipy import stats\n",
    "from sklearn.model_selection import ParameterGrid, ParameterSampler\n",
    "from sklearn.model_selection import train_test_split\n",
    "from sklearn.preprocessing import StandardScaler\n",
    "from sklearn.pipeline import Pipeline\n",
    "from sklearn.compose import ColumnTransformer\n",
    "from sklearn.metrics import (\n",
    "    mean_squared_error,\n",
    "    mean_absolute_error,\n",
    "    r2_score,\n",
    "    explained_variance_score,\n",
    "    mean_absolute_percentage_error,\n",
    "    roc_auc_score\n",
    ")\n",
    "from sklearn.ensemble import GradientBoostingRegressor\n",
    "from sklearn.ensemble import RandomForestRegressor\n",
    "from xgboost import XGBRegressor\n",
    "from scipy.signal import argrelextrema\n",
    "from dreams_core.googlecloud import GoogleCloud as dgc\n",
    "from dreams_core import core as dc\n",
    "import matplotlib.pyplot as plt\n",
    "import seaborn as sns\n",
    "import progressbar\n",
    "\n",
    "# load_dotenv(Path(\"../../../Local/.env\"))\n",
    "\n",
    "# Custom format function for displaying |numbers/\n",
    "pd.set_option('display.float_format', lambda x: f'{x:.12g}')\n",
    "# pd.reset_option('display.float_format')\n",
    "\n",
    "# Suppress warnings\n",
    "warnings.filterwarnings(\"ignore\", message=\"MallocStackLogging\")\n",
    "\n",
    "# silence pygame donation request\n",
    "os.environ['PYGAME_HIDE_SUPPORT_PROMPT'] = \"hide\"\n",
    "os.environ['LOGGING_FILE']=\"../../../Local/logs/wallet_modeling.log\"\n",
    "os.environ['ALERT_SOUND_FILEPATH']=\"../../../Local/assets/sounds/mixkit-alert-bells-echo-765.wav\"\n",
    "\n",
    "# Dark mode charts\n",
    "plt.rcParams['figure.facecolor'] = '#181818'  # Custom background color (dark gray in this case)\n",
    "plt.rcParams['axes.facecolor'] = '#181818'\n",
    "plt.rcParams['text.color'] = '#afc6ba'\n",
    "plt.rcParams['axes.labelcolor'] = '#afc6ba'\n",
    "plt.rcParams['xtick.color'] = '#afc6ba'\n",
    "plt.rcParams['ytick.color'] = '#afc6ba'\n",
    "plt.rcParams['axes.titlecolor'] = '#afc6ba'\n",
    "\n",
    "# import local modules\n",
    "# pyright: reportMissingImports=false\n",
    "sys.path.append('..//src')\n",
    "import utils as u\n",
    "import training_data.data_retrieval as dr\n",
    "import training_data.profits_row_imputation as pri\n",
    "import coin_wallet_metrics.coin_wallet_metrics as cwm\n",
    "import coin_wallet_metrics.indicators as ind\n",
    "import feature_engineering.feature_generation as fg\n",
    "import feature_engineering.time_windows_orchestration as tw\n",
    "import feature_engineering.flattening as flt\n",
    "import feature_engineering.data_splitting as ds\n",
    "import feature_engineering.target_variables as tv\n",
    "import feature_engineering.preprocessing as prp\n",
    "import modeling as m\n",
    "import insights.analysis as ia\n",
    "import insights.experiments as exp\n",
    "\n",
    "# Wallet features\n",
    "import wallet_features.clustering_features as wcl\n",
    "import wallet_features.market_cap_features as wmc\n",
    "import wallet_features.market_timing_features as wmt\n",
    "import wallet_features.performance_features as wpf\n",
    "import wallet_features.trading_features as wtf\n",
    "import wallet_features.transfers_features as wts\n",
    "import wallet_features.wallet_features_orchestrator as wfo\n",
    "\n",
    "# Wallet modeling\n",
    "import wallet_modeling.wallet_modeling_orchestrator as wmo\n",
    "import wallet_modeling.wallet_training_data as wtd\n",
    "import wallet_modeling.model_reporting as wmr\n",
    "import wallet_modeling.wallet_model as wm\n",
    "import wallet_modeling.experiments_manager as wem\n",
    "from wallet_modeling.wallets_config_manager import WalletsConfig\n",
    "\n",
    "# Wallet insights\n",
    "import wallet_insights.wallet_model_evaluation as wime\n",
    "import wallet_insights.wallet_validation_analysis as wiwv\n",
    "\n",
    "# Coin features\n",
    "import coin_wallet_features.wallet_segmentation as cws\n",
    "import coin_wallet_features.wallet_balance_features as cwb\n",
    "\n",
    "# Coin modeling\n",
    "import coin_modeling.coin_model as cm\n",
    "\n",
    "# Coin insights\n",
    "import coin_insights.coin_model_evaluation as cime\n",
    "import coin_insights.coin_validation_analysis as civa\n",
    "\n",
    "\n",
    "# reload all modules\n",
    "modules = [\n",
    "    u, dr, pri, cwm, ind, fg, tw, flt, ds, tv, prp, m, ia, exp,\n",
    "    wmo, wtd, wmr, wm, wem,\n",
    "    wcl, wmc, wmt, wpf, wtf, wts, wfo,\n",
    "    wime, wiwv,\n",
    "    cws, cwb,\n",
    "    cm,\n",
    "    cime, civa,\n",
    "]\n",
    "[importlib.reload(module) for module in modules]\n",
    "\n",
    "# load all configs\n",
    "config, metrics_config, modeling_config, experiments_config = u.load_all_configs('../config')\n",
    "wallets_config = WalletsConfig.load_from_yaml('../config/wallets_config.yaml')\n",
    "wallets_config.reload()\n",
    "wallets_metrics_config = u.load_config('../config/wallets_metrics_config.yaml')\n",
    "wallets_features_config = yaml.safe_load(Path('../config/wallets_features_config.yaml').read_text(encoding='utf-8'))\n",
    "wallets_coin_config = yaml.safe_load(Path('../config/wallets_coin_config.yaml').read_text(encoding='utf-8'))\n",
    "\n",
    "\n",
    "# configure logger\n",
    "logger = dc.setup_logger()\n",
    "# logger = u.setup_local_logging(logger)\n",
    "logger.setLevel(logging.INFO)\n",
    "\n",
    "logger.info(\"Good morning, let's get to work\")"
   ]
  },
  {
   "cell_type": "code",
   "execution_count": null,
   "metadata": {},
   "outputs": [],
   "source": [
    "u.export_code(\n",
    "    code_directories=[\n",
    "        # 'training_data',\n",
    "        'wallet_features',\n",
    "        # 'wallet_modeling',\n",
    "        # 'wallet_insights'\n",
    "    ],\n",
    "    # include_config = True,\n",
    "    # ipynb_notebook = 'DDA-456 wallet validation performance.ipynb'\n",
    ")\n",
    "\n",
    "u.obj_mem()"
   ]
  },
  {
   "cell_type": "markdown",
   "metadata": {},
   "source": [
    "# Wallet Model Construction"
   ]
  },
  {
   "cell_type": "markdown",
   "metadata": {},
   "source": [
    "## Training Data Sequence"
   ]
  },
  {
   "cell_type": "markdown",
   "metadata": {},
   "source": [
    "### retrieve training datasets"
   ]
  },
  {
   "cell_type": "code",
   "execution_count": null,
   "metadata": {},
   "outputs": [],
   "source": [
    "[importlib.reload(module) for module in modules]\n",
    "wallets_config.reload()\n",
    "wallets_metrics_config = u.load_config('../config/wallets_metrics_config.yaml')\n",
    "wallets_features_config = yaml.safe_load(Path('../config/wallets_features_config.yaml').read_text(encoding='utf-8'))\n",
    "\n",
    "# Complete Pre-Training Profits/Market Data\n",
    "# -----------------------------------------\n",
    "# Retrieve training period datasets and save them to temp/wallet_modeling_dfs\n",
    "_,_,_ = wmo.retrieve_period_datasets(\n",
    "    wallets_config['training_data']['training_period_start'],\n",
    "    wallets_config['training_data']['training_period_end'],\n",
    "    parquet_prefix = 'training')\n",
    "\n",
    "u.obj_mem()"
   ]
  },
  {
   "cell_type": "markdown",
   "metadata": {},
   "source": [
    "### define cohort and clean training datasets (loadable parquet)"
   ]
  },
  {
   "cell_type": "code",
   "execution_count": null,
   "metadata": {},
   "outputs": [],
   "source": [
    "[importlib.reload(module) for module in modules]\n",
    "wallets_config.reload()\n",
    "wallets_metrics_config = u.load_config('../config/wallets_metrics_config.yaml')\n",
    "wallets_features_config = yaml.safe_load(Path('../config/wallets_features_config.yaml').read_text(encoding='utf-8'))\n",
    "\n",
    "\n",
    "\n",
    "# Add Indicators to Market Data\n",
    "# ----------------------------------------------------------\n",
    "# Load relevant parquet dfs with pre-training history\n",
    "training_market_data_df_full = pd.read_parquet(\"temp/wallet_modeling_dfs/training_market_data_df_full.parquet\")\n",
    "\n",
    "# Generate indicators and save file\n",
    "_ = wmo.generate_training_indicators_df(training_market_data_df_full,wallets_metrics_config)\n",
    "\n",
    "\n",
    "\n",
    "# Identify Wallet Cohort\n",
    "# ----------------------------------------------------------\n",
    "# Remove market data from prior to the starting balance date\n",
    "training_market_data_df = training_market_data_df_full[training_market_data_df_full['date']\n",
    "                                        >=wallets_config['training_data']['training_starting_balance_date']]\n",
    "u.assert_period(training_market_data_df,\n",
    "                wallets_config['training_data']['training_period_start'],\n",
    "                wallets_config['training_data']['training_period_end'])\n",
    "del training_market_data_df_full\n",
    "gc.collect()\n",
    "\n",
    "# Retrieve full profits history\n",
    "training_profits_df_full = pd.read_parquet(\"temp/wallet_modeling_dfs/training_profits_df_full.parquet\")\n",
    "\n",
    "# Define wallet cohort and return cohort-filtered training_profits_df\n",
    "training_profits_df, training_wallet_cohort = wmo.define_training_wallet_cohort(training_profits_df_full,\n",
    "                                                                                training_market_data_df)\n",
    "u.assert_period(training_profits_df,\n",
    "                wallets_config['training_data']['training_period_start'],\n",
    "                wallets_config['training_data']['training_period_end'])\n",
    "training_profits_df.to_parquet(\"temp/wallet_modeling_dfs/training_profits_df.parquet\",index=True)\n",
    "del training_profits_df_full,training_profits_df,training_market_data_df\n",
    "gc.collect()\n",
    "\n",
    "# Retrieve Transfers Data\n",
    "# ----------------------------------------------------------\n",
    "# Transfers data retrieval for the wallet_ids in temp.wallet_modeling_training_cohort\n",
    "training_transfers_sequencing_df = wts.retrieve_transfers_sequencing()\n",
    "training_transfers_sequencing_df.to_parquet(\"temp/wallet_modeling_dfs/training_transfers_sequencing_df.parquet\",index=True)\n",
    "del training_transfers_sequencing_df\n",
    "gc.collect()\n",
    "\n",
    "u.obj_mem()"
   ]
  },
  {
   "cell_type": "markdown",
   "metadata": {},
   "source": [
    "### generate training features (loadable parquet)"
   ]
  },
  {
   "cell_type": "code",
   "execution_count": null,
   "metadata": {},
   "outputs": [],
   "source": [
    "[importlib.reload(module) for module in modules]\n",
    "wallets_config.reload()\n",
    "\n",
    "\n",
    "# Load files\n",
    "training_profits_df = pd.read_parquet(\"temp/wallet_modeling_dfs/training_profits_df.parquet\")\n",
    "training_market_indicators_data_df = pd.read_parquet(\"temp/wallet_modeling_dfs/training_market_indicators_data_df.parquet\")\n",
    "training_transfers_sequencing_df = pd.read_parquet(\"temp/wallet_modeling_dfs/training_transfers_sequencing_df.parquet\")\n",
    "training_wallet_cohort = list(set(training_profits_df['wallet_address']))\n",
    "\n",
    "\n",
    "# Generate Features for the Full Training Period\n",
    "# ----------------------------------------------------------\n",
    "logger.info(\"Generating features for full training period...\")\n",
    "training_wallet_features_df = wfo.calculate_wallet_features(training_profits_df,\n",
    "                                                            training_market_indicators_data_df,\n",
    "                                                            training_transfers_sequencing_df,\n",
    "                                                            training_wallet_cohort,\n",
    "                                                            wallets_config['training_data']['training_period_start'],\n",
    "                                                            wallets_config['training_data']['training_period_end'])\n",
    "\n",
    "# Define the start of training_data_df appending a suffix for the window\n",
    "training_data_df = training_wallet_features_df.add_suffix(\"|all_windows\")\n",
    "\n",
    "u.obj_mem()"
   ]
  },
  {
   "cell_type": "markdown",
   "metadata": {},
   "source": [
    "#### generate windowed training features"
   ]
  },
  {
   "cell_type": "code",
   "execution_count": null,
   "metadata": {},
   "outputs": [],
   "source": [
    "[importlib.reload(module) for module in modules]\n",
    "wallets_config.reload()\n",
    "\n",
    "# Generate Cohort-Filtered Profits Data for Training Windows\n",
    "# ----------------------------------------------------------\n",
    "# Generate wallet_cohort-filtered profits_df for all training windows\n",
    "training_windows_profits_dfs = wmo.split_training_window_profits_dfs(\n",
    "                                                        training_profits_df,\n",
    "                                                        training_market_indicators_data_df,\n",
    "                                                        training_wallet_cohort)\n",
    "del training_profits_df\n",
    "gc.collect()\n",
    "\n",
    "# Generate Features for Each Individual Window\n",
    "# ----------------------------------------------------------\n",
    "# Generate features for each window\n",
    "for i, window_profits_df in enumerate(training_windows_profits_dfs, 1):\n",
    "    logger.info(\"Generating features for window %s...\", i)\n",
    "\n",
    "    # Extract the window_df boundary dates that were validated by split_training_window_profits_dfs()\n",
    "    window_opening_balance_date = window_profits_df['date'].min()\n",
    "    window_start_date = window_opening_balance_date + timedelta(days=1)\n",
    "    window_end_date = window_profits_df['date'].max()\n",
    "\n",
    "    # Generate the features\n",
    "    window_wallet_features_df = wfo.calculate_wallet_features(\n",
    "        window_profits_df,  # profits_df is filtered to the window\n",
    "        training_market_indicators_data_df,training_transfers_sequencing_df,  # full training period dfs\n",
    "        training_wallet_cohort,  # full training cohort\n",
    "        window_start_date.strftime('%Y-%m-%d'), window_end_date.strftime('%Y-%m-%d')  # window-specific dates\n",
    "    )\n",
    "\n",
    "    # Add column suffix and join to training_data_df\n",
    "    window_wallet_features_df = window_wallet_features_df.add_suffix(f'|w{i}')\n",
    "    training_data_df = training_data_df.join(window_wallet_features_df, how='left')\n",
    "\n",
    "\n",
    "del window_profits_df,window_wallet_features_df,training_market_indicators_data_df,training_transfers_sequencing_df\n",
    "gc.collect()\n",
    "\n",
    "u.obj_mem()"
   ]
  },
  {
   "cell_type": "code",
   "execution_count": null,
   "metadata": {},
   "outputs": [],
   "source": [
    "[importlib.reload(module) for module in modules]\n",
    "wallets_config.reload()\n",
    "\n",
    "# Generate Clusters Using All Other Features\n",
    "# ----------------------------------------------------------\n",
    "# Append clustering features based on all numeric features in the base training data\n",
    "training_cluster_features_df = wcl.create_basic_cluster_features(training_data_df)\n",
    "training_cluster_features_df = training_cluster_features_df.add_prefix('cluster|')\n",
    "training_data_df = training_data_df.join(training_cluster_features_df, how='inner')\n",
    "\n",
    "\n",
    "# Save TRAINING_DATA_DF\n",
    "# ----------------------------------------------------------\n",
    "# Verify all input wallets exist in final output\n",
    "missing_wallets = set(training_wallet_cohort) - set(training_data_df.index)\n",
    "if missing_wallets:\n",
    "    raise ValueError(f\"Lost {len(missing_wallets)} wallets from original cohort during feature generation. First few missing: {list(missing_wallets)[:5]}\")\n",
    "logger.info(\"Feature generation complete. Final training_df shape: %s\", training_data_df.shape)\n",
    "\n",
    "\n",
    "# Save and clear from memory\n",
    "training_data_df.to_parquet(\"temp/wallet_modeling_dfs/training_data_df.parquet\",index=True)\n",
    "del training_data_df,training_cluster_features_df\n",
    "gc.collect()\n",
    "u.obj_mem()"
   ]
  },
  {
   "cell_type": "markdown",
   "metadata": {},
   "source": [
    "## Wallet Model Target Variable and Wallet Cohort"
   ]
  },
  {
   "cell_type": "markdown",
   "metadata": {},
   "source": [
    "### Retrieve modeling period datasets"
   ]
  },
  {
   "cell_type": "code",
   "execution_count": null,
   "metadata": {},
   "outputs": [],
   "source": [
    "[importlib.reload(module) for module in modules]\n",
    "wallets_config.reload()\n",
    "wallets_metrics_config = u.load_config('../config/wallets_metrics_config.yaml')\n",
    "wallets_features_config = yaml.safe_load(Path('../config/wallets_features_config.yaml').read_text(encoding='utf-8'))\n",
    "\n",
    "\n",
    "# Retrieve Modeling Profits and Market Data\n",
    "# ----------------------------------------------------------\n",
    "# Retrieve training coin cohort to restrict modeling period data to only training period coins\n",
    "training_coin_cohort = pd.read_parquet(\"temp/wallet_modeling_dfs/training_market_indicators_data_df.parquet\",\n",
    "                                       columns=['coin_id'])['coin_id'].unique()\n",
    "# Retrieve full historical through modeling period datasets\n",
    "modeling_profits_df_full, modeling_market_data_df_full, modeling_coin_cohort = wmo.retrieve_period_datasets(\n",
    "    wallets_config['training_data']['modeling_period_start'],\n",
    "    wallets_config['training_data']['modeling_period_end'],\n",
    "    coin_cohort=training_coin_cohort\n",
    ")\n",
    "\n",
    "# Remove pre-modeling period prices\n",
    "modeling_market_data_df = modeling_market_data_df_full[modeling_market_data_df_full['date']\n",
    "                                                       >=wallets_config['training_data']['modeling_starting_balance_date']]\n",
    "del modeling_market_data_df_full,training_coin_cohort\n",
    "gc.collect()\n",
    "\n",
    "\n",
    "# Filter to only training wallet cohort\n",
    "training_wallet_cohort = pd.read_parquet(\"temp/wallet_modeling_dfs/training_data_df.parquet\", columns=[]).index.values\n",
    "modeling_profits_df = modeling_profits_df_full[modeling_profits_df_full['wallet_address'].isin(training_wallet_cohort)]\n",
    "del modeling_profits_df_full\n",
    "gc.collect()\n",
    "\n",
    "\n",
    "# Assert period, save files, remove from memory\n",
    "u.assert_period(modeling_market_data_df,\n",
    "                wallets_config['training_data']['modeling_period_start'],\n",
    "                wallets_config['training_data']['modeling_period_end'])\n",
    "u.assert_period(modeling_profits_df,\n",
    "                wallets_config['training_data']['modeling_period_start'],\n",
    "                wallets_config['training_data']['modeling_period_end'])\n",
    "modeling_profits_df.to_parquet(\"temp/wallet_modeling_dfs/modeling_profits_df.parquet\",index=False)\n",
    "modeling_market_data_df.to_parquet(\"temp/wallet_modeling_dfs/modeling_market_data_df.parquet\",index=False)\n",
    "del modeling_profits_df,modeling_market_data_df\n",
    "gc.collect()"
   ]
  },
  {
   "cell_type": "markdown",
   "metadata": {},
   "source": [
    "### define modeling cohort and features (loadable parquet)"
   ]
  },
  {
   "cell_type": "code",
   "execution_count": null,
   "metadata": {},
   "outputs": [],
   "source": [
    "[importlib.reload(module) for module in modules]\n",
    "wallets_config.reload()\n",
    "\n",
    "\n",
    "# Create training_cohort-Indexed modeling_wallet_features_df\n",
    "# -----------------------------------------------------------\n",
    "# Create a DataFrame with training wallet cohort as the index\n",
    "training_wallet_cohort = pd.read_parquet(\"temp/wallet_modeling_dfs/training_data_df.parquet\", columns=[]).index.values\n",
    "modeling_wallet_features_df = pd.DataFrame(index=training_wallet_cohort)\n",
    "modeling_wallet_features_df.index.name = 'wallet_address'\n",
    "\n",
    "# Store feature sets with their prefixes for bulk renaming\n",
    "feature_column_names = {}\n",
    "\n",
    "\n",
    "# Identify Modeling Period Cohort\n",
    "# -----------------------------------------------------------\n",
    "# Retrieve trading features for all wallets in training_cohort with boolean for in_modeling_cohort\n",
    "modeling_profits_df = pd.read_parquet(\"temp/wallet_modeling_dfs/modeling_profits_df.parquet\")\n",
    "modeling_trading_features_df = wmo.identify_modeling_cohort(modeling_profits_df)\n",
    "modeling_wallet_features_df = modeling_wallet_features_df.join(modeling_trading_features_df, how='left')\\\n",
    "    .fillna({col: 0 for col in modeling_trading_features_df.columns})\n",
    "\n",
    "\n",
    "# Generate Modeling Period Performance Features\n",
    "# -----------------------------------------------------------\n",
    "# Calculate performance metrics for the training cohort (wallets with 0 activity still impact rank orders)\n",
    "modeling_performance_features_df = wpf.calculate_performance_features(modeling_wallet_features_df)\n",
    "modeling_wallet_features_df = modeling_wallet_features_df.join(modeling_performance_features_df, how='left')\\\n",
    "    .fillna({col: 0 for col in modeling_performance_features_df.columns})\n",
    "\n",
    "\n",
    "modeling_wallet_features_df.to_parquet(\"temp/wallet_modeling_dfs/modeling_wallet_features_df.parquet\",index=True)\n",
    "del modeling_profits_df,modeling_wallet_features_df,modeling_trading_features_df,modeling_performance_features_df\n",
    "gc.collect()\n",
    "\n",
    "u.obj_mem()"
   ]
  },
  {
   "cell_type": "markdown",
   "metadata": {},
   "source": [
    "## Wallet Model Construction and Analysis"
   ]
  },
  {
   "cell_type": "markdown",
   "metadata": {},
   "source": [
    "### select target variable and build model (loadable parquet)"
   ]
  },
  {
   "cell_type": "code",
   "execution_count": null,
   "metadata": {},
   "outputs": [],
   "source": [
    "[importlib.reload(module) for module in modules]\n",
    "wallets_config.reload()\n",
    "\n",
    "# Create MODELING_DF and Construct Wallet Model\n",
    "# ----------------------------------------------------------\n",
    "# Retrieve training data for the full training wallet cohort\n",
    "training_data_df = pd.read_parquet(\"temp/wallet_modeling_dfs/training_data_df.parquet\")\n",
    "modeling_wallet_features_df = pd.read_parquet(\"temp/wallet_modeling_dfs/modeling_wallet_features_df.parquet\")\n",
    "\n",
    "# Filter training data to only the modeling cohort through inner join to target variable\n",
    "modeling_cohort_target_var_df = modeling_wallet_features_df[['in_modeling_cohort', wallets_config['modeling']['target_variable']]]\n",
    "\n",
    "# Run the experiment and get results\n",
    "wallet_model = wm.WalletModel(wallets_config)\n",
    "wallet_model_results = wallet_model.run_experiment(training_data_df,modeling_cohort_target_var_df)\n",
    "del training_data_df\n",
    "gc.collect()\n",
    "\n",
    "# Extract the trained model\n",
    "model = wallet_model_results['pipeline'].named_steps['regressor']\n",
    "\n",
    "# Generate and save all model artifacts\n",
    "model_id, evaluator, modeling_wallet_scores_df = wmr.generate_and_save_model_artifacts(\n",
    "    model_results=wallet_model_results,\n",
    "    base_path='../wallet_modeling'\n",
    ")\n",
    "\n",
    "# Rename and save score\n",
    "score_name = wallets_config['modeling']['score_name']\n",
    "modeling_wallet_scores_df = modeling_wallet_scores_df.rename(columns={'score': score_name})\n",
    "modeling_wallet_scores_df.to_parquet(\"temp/wallet_modeling_dfs/modeling_wallet_scores_df.parquet\",index=True)\n",
    "\n",
    "\n",
    "u.notify()"
   ]
  },
  {
   "cell_type": "markdown",
   "metadata": {},
   "source": [
    "### assess wallet model performance"
   ]
  },
  {
   "cell_type": "code",
   "execution_count": null,
   "metadata": {},
   "outputs": [],
   "source": [
    "[importlib.reload(module) for module in modules]\n",
    "wallets_config.reload()\n",
    "\n",
    "# Reload evaluator\n",
    "wallet_evaluator = wime.RegressionEvaluator(\n",
    "    y_train=wallet_model_results['y_train'],\n",
    "    y_true=wallet_model_results['y_test'],\n",
    "    y_pred=wallet_model_results['y_pred'],\n",
    "    training_cohort_pred=wallet_model_results['training_cohort_pred'],\n",
    "    training_cohort_actuals=wallet_model_results['training_cohort_actuals'],\n",
    "    model=model,\n",
    "    feature_names=wallet_model_results['X_train'].columns.tolist()\n",
    ")\n",
    "\n",
    "# Print results\n",
    "print(wallet_evaluator.summary_report())\n",
    "wallet_evaluator.plot_evaluation()\n",
    "wallet_evaluator.importance_summary()"
   ]
  },
  {
   "cell_type": "markdown",
   "metadata": {},
   "source": [
    "### Cluster analysis"
   ]
  },
  {
   "cell_type": "code",
   "execution_count": null,
   "metadata": {},
   "outputs": [],
   "source": [
    "[importlib.reload(module) for module in modules]\n",
    "wallets_config.reload()\n",
    "\n",
    "# Load parquet\n",
    "training_data_df = pd.read_parquet(\"temp/wallet_modeling_dfs/training_data_df.parquet\")\n",
    "\n",
    "\n",
    "# List of the x features with the highest importance in the model\n",
    "x_features = 6\n",
    "top_feature_metrics = list((pd.DataFrame(wallet_evaluator.metrics['importances'])\n",
    "                      .sort_values(by='importance',ascending=False)\n",
    "                      .head(x_features)['feature']))\n",
    "comparison_metrics = list(set(top_feature_metrics))\n",
    "\n",
    "\n",
    "\n",
    "# Cluster numbers\n",
    "n_clusters=4\n",
    "\n",
    "styled_df,cluster_results_df = wime.create_cluster_report(training_data_df, wallet_model_results, n_clusters, comparison_metrics, 'median')\n",
    "\n",
    "del(training_data_df)\n",
    "gc.collect()\n",
    "\n",
    "styled_df"
   ]
  },
  {
   "cell_type": "markdown",
   "metadata": {},
   "source": [
    "# Validation Period Analysis"
   ]
  },
  {
   "cell_type": "markdown",
   "metadata": {},
   "source": [
    "## Load validation and modeling datasets"
   ]
  },
  {
   "cell_type": "markdown",
   "metadata": {},
   "source": [
    "### Retrieve validation datasets"
   ]
  },
  {
   "cell_type": "code",
   "execution_count": null,
   "metadata": {},
   "outputs": [],
   "source": [
    "[importlib.reload(module) for module in modules]\n",
    "wallets_config.reload()\n",
    "wallets_coin_config = yaml.safe_load(Path('../config/wallets_coin_config.yaml').read_text(encoding='utf-8'))\n",
    "\n",
    "\n",
    "# Retrieve Validation Profits and Market Data\n",
    "# ----------------------------------------------------------\n",
    "# Retrieve full historical through validation period datasets\n",
    "\n",
    "# Retrieve training coin cohort to ensure all training period coins are reflected\n",
    "# TODO: assess whether this cohort filter should be removed\n",
    "training_coin_cohort = pd.read_parquet(\"temp/wallet_modeling_dfs/training_market_indicators_data_df.parquet\",\n",
    "                                       columns=['coin_id'])['coin_id'].unique()\n",
    "validation_profits_df, validation_market_data_df_full, validation_coin_cohort = wmo.retrieve_period_datasets(\n",
    "    wallets_config['training_data']['validation_period_start'],\n",
    "    wallets_config['training_data']['validation_period_end'],\n",
    "    training_coin_cohort\n",
    ")\n",
    "\n",
    "# Remove pre-validation period prices\n",
    "validation_market_data_df = validation_market_data_df_full[validation_market_data_df_full['date']\n",
    "                                                       >=wallets_config['training_data']['validation_starting_balance_date']]\n",
    "del validation_market_data_df_full\n",
    "gc.collect()\n",
    "\n",
    "\n",
    "# Assert period, save files, remove from memory\n",
    "u.assert_period(validation_market_data_df,\n",
    "                wallets_config['training_data']['validation_period_start'],\n",
    "                wallets_config['training_data']['validation_period_end'])\n",
    "u.assert_period(validation_profits_df,\n",
    "                wallets_config['training_data']['validation_period_start'],\n",
    "                wallets_config['training_data']['validation_period_end'])\n",
    "validation_profits_df.to_parquet(\"temp/wallet_modeling_dfs/validation_profits_df.parquet\",index=False)\n",
    "validation_market_data_df.to_parquet(\"temp/wallet_modeling_dfs/validation_market_data_df.parquet\",index=False)\n",
    "del validation_profits_df,validation_market_data_df\n",
    "gc.collect()"
   ]
  },
  {
   "cell_type": "markdown",
   "metadata": {},
   "source": [
    "### Load modeling dataset files (loadable parquet)"
   ]
  },
  {
   "cell_type": "code",
   "execution_count": null,
   "metadata": {},
   "outputs": [],
   "source": [
    "[importlib.reload(module) for module in modules]\n",
    "wallets_config.reload()\n",
    "wallets_coin_config = yaml.safe_load(Path('../config/wallets_coin_config.yaml').read_text(encoding='utf-8'))\n",
    "\n",
    "# Load coin cohort (currently carried through training/modeling/validation periods)\n",
    "training_coin_cohort = pd.read_parquet(\"temp/wallet_modeling_dfs/training_market_indicators_data_df.parquet\",\n",
    "                                       columns=['coin_id'])['coin_id'].unique()\n",
    "\n",
    "\n",
    "# Load modeling period scores and data\n",
    "modeling_wallet_scores_df = pd.read_parquet(\"temp/wallet_modeling_dfs/modeling_wallet_scores_df.parquet\")\n",
    "modeling_market_data_df = pd.read_parquet(\"temp/wallet_modeling_dfs/modeling_market_data_df.parquet\")\n",
    "modeling_profits_df = pd.read_parquet(\"temp/wallet_modeling_dfs/modeling_profits_df.parquet\")\n",
    "u.assert_period(modeling_market_data_df,\n",
    "                wallets_config['training_data']['modeling_period_start'],\n",
    "                wallets_config['training_data']['modeling_period_end'])\n",
    "u.assert_period(modeling_profits_df,\n",
    "                wallets_config['training_data']['modeling_period_start'],\n",
    "                wallets_config['training_data']['modeling_period_end'])\n",
    "\n",
    "\n",
    "u.obj_mem()"
   ]
  },
  {
   "cell_type": "markdown",
   "metadata": {},
   "source": [
    "### Load validation dataset files (loadable parquet)"
   ]
  },
  {
   "cell_type": "code",
   "execution_count": null,
   "metadata": {},
   "outputs": [],
   "source": [
    "[importlib.reload(module) for module in modules]\n",
    "wallets_config.reload()\n",
    "wallets_coin_config = yaml.safe_load(Path('../config/wallets_coin_config.yaml').read_text(encoding='utf-8'))\n",
    "\n",
    "# Load parquet\n",
    "validation_profits_df = pd.read_parquet(\"temp/wallet_modeling_dfs/validation_profits_df.parquet\")\n",
    "validation_market_data_df = pd.read_parquet(\"temp/wallet_modeling_dfs/validation_market_data_df.parquet\")\n",
    "training_wallet_cohort = pd.read_parquet(\"temp/wallet_modeling_dfs/training_data_df.parquet\", columns=[]).index.values\n",
    "u.assert_period(validation_profits_df,\n",
    "                wallets_config['training_data']['validation_period_start'],\n",
    "                wallets_config['training_data']['validation_period_end'])\n",
    "u.assert_period(validation_market_data_df,\n",
    "                wallets_config['training_data']['validation_period_start'],\n",
    "                wallets_config['training_data']['validation_period_end'])\n",
    "\n",
    "\n",
    "u.obj_mem()"
   ]
  },
  {
   "cell_type": "markdown",
   "metadata": {},
   "source": [
    "## Wallet aggregated analysis"
   ]
  },
  {
   "cell_type": "markdown",
   "metadata": {},
   "source": [
    "### generate validation wallet features"
   ]
  },
  {
   "cell_type": "code",
   "execution_count": null,
   "metadata": {},
   "outputs": [],
   "source": [
    "[importlib.reload(module) for module in modules]\n",
    "wallets_config.reload()\n",
    "wallets_coin_config = yaml.safe_load(Path('../config/wallets_coin_config.yaml').read_text(encoding='utf-8'))\n",
    "\n",
    "\n",
    "# Create a DataFrame with all wallets that should exist\n",
    "validation_wallet_features_df = pd.DataFrame(index=training_wallet_cohort)\n",
    "validation_wallet_features_df.index.name = 'wallet_address'\n",
    "\n",
    "\n",
    "# Calculate modeling period wallet metrics\n",
    "validation_trading_features_df = wtf.calculate_wallet_trading_features(validation_profits_df,\n",
    "                                                            wallets_config['training_data']['validation_period_start'],\n",
    "                                                            wallets_config['training_data']['validation_period_end'])\n",
    "validation_wallet_features_df = validation_wallet_features_df.join(validation_trading_features_df, how='left')\\\n",
    "    .fillna({col: 0 for col in validation_trading_features_df.columns})\n",
    "\n",
    "# Performance features (inner join, no fill)\n",
    "performance_features_df = wpf.calculate_performance_features(validation_wallet_features_df)\n",
    "validation_wallet_features_df = validation_wallet_features_df.join(performance_features_df, how='inner')"
   ]
  },
  {
   "cell_type": "markdown",
   "metadata": {},
   "source": [
    "### wallet validation period trading/performance by score quantile"
   ]
  },
  {
   "cell_type": "code",
   "execution_count": null,
   "metadata": {},
   "outputs": [],
   "source": [
    "[importlib.reload(module) for module in modules]\n",
    "wallets_config.reload()\n",
    "\n",
    "# Create analysis by prediction bands\n",
    "metrics = [\n",
    "    'crypto_net_gain/max_investment/winsorized',\n",
    "    'crypto_net_gain/max_investment/base',\n",
    "    'crypto_net_gain/max_investment/ntile_rank',\n",
    "    'crypto_net_gain/active_twb/winsorized',\n",
    "    'crypto_net_gain/active_twb/base',\n",
    "    'max_investment',\n",
    "    'crypto_net_gain',\n",
    "    'net_crypto_investment',\n",
    "    'total_volume',\n",
    "]\n",
    "\n",
    "min_wallet_volume_usd = 0\n",
    "num_quantiles = 5\n",
    "\n",
    "wiwv.create_quantile_report(\n",
    "    validation_wallet_features_df,\n",
    "    wallet_model_results['training_cohort_pred'],\n",
    "    metrics,  # Your existing metrics list\n",
    "    num_quantiles,  # Split into ntiles\n",
    "    min_wallet_volume_usd\n",
    ")\n"
   ]
  },
  {
   "cell_type": "markdown",
   "metadata": {},
   "source": [
    "## Coin aggregated analysis"
   ]
  },
  {
   "cell_type": "markdown",
   "metadata": {},
   "source": [
    "### coin-aggregated wallet metrics by coin performance"
   ]
  },
  {
   "cell_type": "code",
   "execution_count": null,
   "metadata": {},
   "outputs": [],
   "source": [
    "[importlib.reload(module) for module in modules]\n",
    "wallets_config.reload()\n",
    "\n",
    "# Load wallet scores from the modeling period\n",
    "modeling_profits_df = pd.read_parquet(\"temp/wallet_modeling_dfs/modeling_profits_df.parquet\")\n",
    "modeling_wallet_scores_df = pd.read_parquet(\"temp/wallet_modeling_dfs/modeling_wallet_scores_df.parquet\")\n",
    "all_coin_ids = list(set(modeling_profits_df['coin_id']))\n",
    "\n",
    "# Generate coin-level features based on modeling period end wallet scores and balances\n",
    "coin_wallet_balance_features_modeling_end_df = cwb.calculate_coin_wallet_balance_features(\n",
    "    modeling_profits_df,\n",
    "    modeling_wallet_scores_df,\n",
    "    wallets_config['training_data']['modeling_period_end'],\n",
    "    all_coin_ids\n",
    ")\n",
    "\n",
    "# Calculate and join coin return performance during validation period\n",
    "validation_coin_performance_df = civa.calculate_coin_performance(\n",
    "    validation_market_data_df,\n",
    "    wallets_config['training_data']['validation_period_start'],\n",
    "    wallets_config['training_data']['validation_period_end']\n",
    ")\n",
    "validation_coin_wallet_features_df = coin_wallet_balance_features_modeling_end_df.join(validation_coin_performance_df,how='inner')\n"
   ]
  },
  {
   "cell_type": "markdown",
   "metadata": {},
   "source": [
    "### apply filters"
   ]
  },
  {
   "cell_type": "code",
   "execution_count": null,
   "metadata": {},
   "outputs": [],
   "source": [
    "[importlib.reload(module) for module in modules]\n",
    "wallets_config.reload()\n",
    "wallets_coin_config = yaml.safe_load(Path('../config/wallets_coin_config.yaml').read_text(encoding='utf-8'))\n",
    "\n",
    "min_cohort_wallets = wallets_coin_config['coin_modeling']['min_cohort_wallets']\n",
    "min_cohort_balance = wallets_coin_config['coin_modeling']['min_cohort_balance']\n",
    "\n",
    "\n",
    "validation_coin_wallet_features_df = validation_coin_wallet_features_df[\n",
    "    (validation_coin_wallet_features_df['top_100pct/count'] > min_cohort_wallets)\n",
    "    & (validation_coin_wallet_features_df['top_100pct/balance'] > min_cohort_balance)\n",
    "]"
   ]
  },
  {
   "cell_type": "markdown",
   "metadata": {},
   "source": [
    "### generate reports"
   ]
  },
  {
   "cell_type": "code",
   "execution_count": null,
   "metadata": {},
   "outputs": [],
   "source": [
    "validation_coin_wallet_features_df.columns"
   ]
  },
  {
   "cell_type": "code",
   "execution_count": null,
   "metadata": {},
   "outputs": [],
   "source": [
    "[importlib.reload(module) for module in modules]\n",
    "wallets_config.reload()\n",
    "wallets_coin_config = yaml.safe_load(Path('../config/wallets_coin_config.yaml').read_text(encoding='utf-8'))\n",
    "\n",
    "\n",
    "\n",
    "# Wallet metrics to analyze\n",
    "wallet_metrics = [\n",
    "    'top_100pct/balance_wtd_mean_score',\n",
    "    'top_10pct/count',\n",
    "    'top_25pct/count',\n",
    "    'top_50pct/count',\n",
    "    'top_100pct/count',\n",
    "    'top_10pct/balance',\n",
    "    'top_25pct/balance',\n",
    "    'top_50pct/balance',\n",
    "    'top_100pct/balance',\n",
    "    'top_10pct/count_pct',\n",
    "    'top_25pct/count_pct',\n",
    "    'top_50pct/count_pct',\n",
    "    'top_10pct/balance_pct',\n",
    "    'top_25pct/balance_pct',\n",
    "    'top_50pct/balance_pct',\n",
    "]\n",
    "\n",
    "# number of score buckets\n",
    "n_quantiles = 5\n",
    "\n",
    "analyze_df = civa.analyze_metric_segments(\n",
    "    validation_coin_wallet_features_df,\n",
    "    wallet_metrics,\n",
    "    n_quantiles\n",
    ")\n",
    "civa.style_metric_segments(analyze_df)"
   ]
  },
  {
   "cell_type": "markdown",
   "metadata": {},
   "source": [
    "## old analysis"
   ]
  },
  {
   "cell_type": "code",
   "execution_count": null,
   "metadata": {},
   "outputs": [],
   "source": [
    "list(validation_coin_wallet_features_df.columns)"
   ]
  },
  {
   "cell_type": "code",
   "execution_count": null,
   "metadata": {},
   "outputs": [],
   "source": [
    "[importlib.reload(module) for module in modules]\n",
    "wallets_config.reload()\n",
    "wallets_coin_config = yaml.safe_load(Path('../config/wallets_coin_config.yaml').read_text(encoding='utf-8'))\n",
    "\n",
    "\n",
    "# Wallet metrics to analyze\n",
    "wallet_metrics = [\n",
    "    'top_100pct/balance_wtd_mean_score',\n",
    "    'top_10pct/count',\n",
    "    'top_25pct/count',\n",
    "    'top_50pct/count',\n",
    "    'top_100pct/count',\n",
    "    'top_10pct/count_pct',\n",
    "    'top_10pct/balance_pct',\n",
    "    'top_25pct/count_pct',\n",
    "    'top_25pct/balance_pct',\n",
    "    'top_50pct/count_pct',\n",
    "    'top_50pct/balance_pct',\n",
    "]\n",
    "# wallet_metrics = list(validation_coin_wallet_features_df.columns)\n",
    "\n",
    "# Create styled performance analysis\n",
    "civa.create_top_coins_wallet_metrics_report(validation_coin_wallet_features_df,percentile=90,wallet_metrics=wallet_metrics,method='mean')\n"
   ]
  },
  {
   "cell_type": "markdown",
   "metadata": {},
   "source": [
    "### plotting coin feature performance vs market cap"
   ]
  },
  {
   "cell_type": "code",
   "execution_count": null,
   "metadata": {},
   "outputs": [],
   "source": [
    "[importlib.reload(module) for module in modules]\n",
    "wallets_config.reload()\n",
    "\n",
    "\n",
    "# Get the analysis results\n",
    "segment_results, summary_df = civa.analyze_market_cap_segments(\n",
    "    coin_wallet_features_df,\n",
    "    top_n=10\n",
    ")\n",
    "\n",
    "# Or create the visualizations\n",
    "civa.plot_segment_heatmap(summary_df)\n",
    "civa.plot_metric_consistency(summary_df)  # Optional secondary visualization\n"
   ]
  },
  {
   "cell_type": "markdown",
   "metadata": {},
   "source": [
    "### coin performance of top n for each bucket"
   ]
  },
  {
   "cell_type": "code",
   "execution_count": null,
   "metadata": {},
   "outputs": [],
   "source": [
    "[importlib.reload(module) for module in modules]\n",
    "wallets_config.reload()\n",
    "\n",
    "# Run analysis\n",
    "top_n = wallets_config['coin_validation_analysis']['top_n']\n",
    "max_market_cap = wallets_config['coin_validation_analysis']['max_market_cap']\n",
    "min_market_cap = wallets_config['coin_validation_analysis']['min_market_cap']\n",
    "\n",
    "metric_top_coin_performance_df = civa.validate_coin_performance(coin_wallet_features_df,top_n,\n",
    "                                                                max_market_cap, min_market_cap)\n",
    "\n",
    "metric_top_coin_performance_df"
   ]
  },
  {
   "cell_type": "code",
   "execution_count": null,
   "metadata": {},
   "outputs": [],
   "source": [
    "[importlib.reload(module) for module in modules]\n",
    "wallets_config.reload()\n",
    "\n",
    "civa.print_performance_analysis(coin_wallet_features_df)"
   ]
  },
  {
   "cell_type": "markdown",
   "metadata": {},
   "source": [
    "# Coin Model Construction"
   ]
  },
  {
   "cell_type": "markdown",
   "metadata": {},
   "source": [
    "### non-wallet coin model feature generation (slow)"
   ]
  },
  {
   "cell_type": "code",
   "execution_count": null,
   "metadata": {},
   "outputs": [],
   "source": [
    "[importlib.reload(module) for module in modules]  # Reload all modules\n",
    "config, metrics_config, modeling_config, experiments_config = u.load_all_configs('../config')  # Reload all configs\n",
    "\n",
    "# Generate features based on the coin config files\n",
    "coin_features_training_data_df, _, _ = tw.generate_all_time_windows_model_inputs(config,metrics_config,modeling_config)\n",
    "\n",
    "# Remove time window index since we aren't using that for now\n",
    "coin_features_training_data_df = coin_features_training_data_df.reset_index(level='time_window', drop=True)\n",
    "\n",
    "# Save to parquet\n",
    "coin_features_training_data_df.to_parquet(\"temp/coin_modeling_dfs/coin_features_training_data_df.parquet\",index=True)\n",
    "\n",
    "u.notify()"
   ]
  },
  {
   "cell_type": "markdown",
   "metadata": {},
   "source": [
    "## assign wallets to segments"
   ]
  },
  {
   "cell_type": "code",
   "execution_count": null,
   "metadata": {},
   "outputs": [],
   "source": [
    "[importlib.reload(module) for module in modules]\n",
    "wallets_config.reload()\n",
    "wallets_coin_config = yaml.safe_load(Path('../config/wallets_coin_config.yaml').read_text(encoding='utf-8'))\n",
    "\n",
    "# Create base df with all wallet addresses and scores\n",
    "wallet_scores = [wallets_config['modeling']['score_name']]\n",
    "wallet_segmentation_df = modeling_wallet_scores_df[wallet_scores].copy().add_prefix('score|')\n",
    "\n",
    "# Add \"all\" segment for full population level aggregations\n",
    "wallet_segmentation_df['all_wallets'] = 'wallets'\n",
    "\n",
    "\n",
    "# Add score quantile assignments\n",
    "score_segment_quantiles = wallets_coin_config['wallet_segmentation']['score_segment_quantiles']\n",
    "modeling_wallet_scores_df.columns = [wallets_config['modeling']['score_name'],'in_modeling_cohort']\n",
    "score_series = modeling_wallet_scores_df[wallets_config['modeling']['score_name']]\n",
    "\n",
    "wallet_score_quantiles_df = cws.assign_wallet_quantiles(score_series, score_segment_quantiles)\n",
    "wallet_segmentation_df = wallet_segmentation_df.join(wallet_score_quantiles_df,how='inner')\n",
    "\n",
    "\n",
    "# Add training period-based cluster labels\n",
    "training_period_n_clusters = wallets_coin_config['wallet_segmentation']['training_period_n_clusters']\n",
    "training_data_df = pd.read_parquet(\"temp/wallet_modeling_dfs/training_data_df.parquet\")\n",
    "wallet_clusters_df = wcl.assign_clusters_from_distances(training_data_df,[training_period_n_clusters])\n",
    "\n",
    "wallet_clusters_df = wallet_clusters_df.add_prefix('training_')\n",
    "wallet_segmentation_df = wallet_segmentation_df.join(wallet_clusters_df,how='inner')\n",
    "del(training_data_df)\n",
    "gc.collect\n",
    "\n",
    "\n",
    "wallet_segmentation_df.head()"
   ]
  },
  {
   "cell_type": "code",
   "execution_count": null,
   "metadata": {},
   "outputs": [],
   "source": [
    "segmentations = wallet_segmentation_df.columns[~wallet_segmentation_df.columns.str.startswith('score|')]\n",
    "for s in segmentations:\n",
    "    print(s)"
   ]
  },
  {
   "cell_type": "code",
   "execution_count": null,
   "metadata": {},
   "outputs": [],
   "source": [
    "[importlib.reload(module) for module in modules]\n",
    "wallets_config.reload()\n",
    "wallets_coin_config = yaml.safe_load(Path('../config/wallets_coin_config.yaml').read_text(encoding='utf-8'))\n",
    "\n",
    "\n",
    "# Define complete coin list and initialize df with\n",
    "coin_wallet_features_df = pd.DataFrame(index=training_coin_cohort)\n",
    "coin_wallet_features_df.index.name = 'coin_id'\n",
    "\n",
    "\n",
    "# Loop through all segmentations and generate features\n",
    "segmentation_columns = wallet_segmentation_df.columns[~wallet_segmentation_df.columns.str.startswith('score|')]\n",
    "\n",
    "for s_col in segmentation_columns:\n",
    "\n",
    "    # Generate coin-level features based on modeling period end wallet scores and balances\n",
    "    segment_balance_df = cwb.calculate_segment_wallet_balance_features(\n",
    "        modeling_profits_df,\n",
    "        wallet_segmentation_df,\n",
    "        s_col,\n",
    "        wallets_config['training_data']['modeling_period_end'],\n",
    "        all_coin_ids\n",
    "    )\n",
    "\n",
    "    coin_wallet_features_df = coin_wallet_features_df.join(segment_balance_df, how='inner')\n",
    "\n",
    "\n",
    "coin_wallet_features_df.columns"
   ]
  },
  {
   "cell_type": "code",
   "execution_count": null,
   "metadata": {},
   "outputs": [],
   "source": [
    "[importlib.reload(module) for module in modules]\n",
    "wallets_config.reload()\n",
    "wallets_coin_config = yaml.safe_load(Path('../config/wallets_coin_config.yaml').read_text(encoding='utf-8'))\n",
    "\n",
    "\n",
    "# Define complete coin list and initialize df with\n",
    "all_coin_ids = list(set(modeling_profits_df['coin_id']))\n",
    "coin_wallet_features_df = pd.DataFrame(index=all_coin_ids)\n",
    "coin_wallet_features_df.index.name = 'coin_id'\n",
    "\n",
    "# Generate coin-level features based on modeling period end wallet scores and balances\n",
    "segment_balance_df = cwb.calculate_segmented_wallet_features(\n",
    "    modeling_profits_df,\n",
    "    wallet_segmentation_df['training_k4_cluster'],\n",
    "    wallets_config['training_data']['modeling_period_end'],\n",
    "    all_coin_ids\n",
    ")\n",
    "segment_balance_df.describe()\n",
    "segment_balance_df.head()"
   ]
  },
  {
   "cell_type": "code",
   "execution_count": null,
   "metadata": {},
   "outputs": [],
   "source": [
    "segment_balance_df.add_prefix"
   ]
  },
  {
   "cell_type": "code",
   "execution_count": null,
   "metadata": {},
   "outputs": [],
   "source": [
    "wallet_segmentation_df[f'score_{score_name}_quantile'].name"
   ]
  },
  {
   "cell_type": "code",
   "execution_count": null,
   "metadata": {},
   "outputs": [],
   "source": [
    "profits_df = modeling_profits_df.copy()\n",
    "wallet_segments = wallet_segmentation_df['score_quantile']\n",
    "balance_date = wallets_config['training_data']['modeling_period_end']\n",
    "all_coin_ids = all_coin_ids\n",
    "\n",
    "\n",
    "# Convert date and filter to balance date\n",
    "balance_date = pd.to_datetime(balance_date)\n",
    "balances_df = profits_df[profits_df['date'] == balance_date].copy()\n",
    "\n",
    "# Get required columns and merge segments\n",
    "analysis_df = balances_df[['coin_id', 'wallet_address', 'usd_balance']].merge(\n",
    "    wallet_segments.rename('segment'),\n",
    "    left_on='wallet_address',\n",
    "    right_index=True,\n",
    "    how='left'\n",
    ")\n",
    "\n",
    "# Initialize output with all coins\n",
    "result_df = pd.DataFrame(index=all_coin_ids)\n",
    "result_df.index.name = 'coin_id'\n",
    "\n",
    "# Calculate total metrics first for percentages\n",
    "totals = analysis_df.groupby('coin_id', observed=True).agg({\n",
    "    'usd_balance': 'sum',\n",
    "    'wallet_address': 'count'\n",
    "}).rename(columns={\n",
    "    'usd_balance': 'total/balance',\n",
    "    'wallet_address': 'total/count'\n",
    "})\n",
    "\n",
    "# Calculate metrics for each segment\n",
    "for segment in wallet_segments.unique():\n",
    "    segment_metrics = analysis_df[analysis_df['segment'] == segment].groupby(\n",
    "        'coin_id',\n",
    "        observed=True\n",
    "    ).agg({\n",
    "        'usd_balance': 'sum',\n",
    "        'wallet_address': 'count'\n",
    "    }).rename(columns={\n",
    "        'usd_balance': f'{segment}/balance',\n",
    "        'wallet_address': f'{segment}/count'\n",
    "    })\n",
    "\n",
    "    # Add percentage metrics\n",
    "    segment_metrics[f'{segment}/balance_pct'] = (\n",
    "        segment_metrics[f'{segment}/balance'] / totals['total/balance']\n",
    "    ).fillna(0)\n",
    "\n",
    "#     segment_metrics[f'{segment}/count_pct'] = (\n",
    "#         segment_metrics[f'{segment}/count'] / totals['total/count']\n",
    "#     ).fillna(0)\n",
    "\n",
    "#     result_df = result_df.join(segment_metrics, how='left')\n",
    "\n",
    "# # Fill missing values with 0 for all metrics\n",
    "# result_df = result_df.fillna(0)\n",
    "\n",
    "# # Validate no missing coins\n",
    "# missing_coins = set(all_coin_ids) - set(result_df.index)\n",
    "# if missing_coins:\n",
    "#     raise ValueError(f\"Found {len(missing_coins)} coin_ids missing from analysis\")\n",
    "\n",
    "# return result_df\n"
   ]
  },
  {
   "cell_type": "code",
   "execution_count": null,
   "metadata": {},
   "outputs": [],
   "source": []
  },
  {
   "cell_type": "code",
   "execution_count": null,
   "metadata": {},
   "outputs": [],
   "source": []
  },
  {
   "cell_type": "markdown",
   "metadata": {},
   "source": [
    "## Prepare coin_training_data_df"
   ]
  },
  {
   "cell_type": "markdown",
   "metadata": {},
   "source": [
    "### generate coin wallet balance features"
   ]
  },
  {
   "cell_type": "code",
   "execution_count": null,
   "metadata": {},
   "outputs": [],
   "source": [
    "[importlib.reload(module) for module in modules]\n",
    "wallets_config.reload()\n",
    "wallets_coin_config = yaml.safe_load(Path('../config/wallets_coin_config.yaml').read_text(encoding='utf-8'))\n",
    "\n",
    "\n",
    "# Define complete coin list and initialize df with\n",
    "all_coin_ids = list(set(modeling_profits_df['coin_id']))\n",
    "coin_wallet_features_df = pd.DataFrame(index=all_coin_ids)\n",
    "coin_wallet_features_df.index.name = 'coin_id'\n",
    "\n",
    "# Generate coin-level features based on modeling period end wallet scores and balances\n",
    "coin_wallet_balance_features_modeling_end_df = cwb.calculate_coin_wallet_balance_features(\n",
    "    modeling_profits_df,\n",
    "    modeling_wallet_scores_df,\n",
    "    wallets_config['training_data']['modeling_period_end'],\n",
    "    all_coin_ids\n",
    ")\n",
    "coin_wallet_balance_features_modeling_end_df = coin_wallet_balance_features_modeling_end_df.add_prefix('wallet_balance|')\n",
    "coin_wallet_balance_features_modeling_end_df = coin_wallet_balance_features_modeling_end_df.add_suffix('|modeling_end')\n",
    "coin_wallet_features_df = coin_wallet_features_df.join(coin_wallet_balance_features_modeling_end_df,how='inner')\n",
    "\n",
    "# # Generate coin-level features based on modeling period start wallet scores and balances\n",
    "# coin_wallet_balance_features_modeling_start_df = cwb.calculate_coin_wallet_balance_features(\n",
    "#     modeling_profits_df,\n",
    "#     modeling_wallet_scores_df,\n",
    "#     wallets_config['training_data']['modeling_period_start'],\n",
    "#     all_coin_ids\n",
    "# )\n",
    "# coin_wallet_balance_features_modeling_start_df = coin_wallet_balance_features_modeling_start_df.add_prefix('wallet_balance|')\n",
    "# coin_wallet_balance_features_modeling_start_df = coin_wallet_balance_features_modeling_start_df.add_suffix('|modeling_start')\n",
    "# coin_wallet_features_df = coin_wallet_features_df.join(coin_wallet_balance_features_modeling_start_df,how='inner')\n",
    "\n",
    "coin_wallet_features_df.describe()\n",
    "coin_wallet_features_df.columns\n",
    "coin_wallet_features_df.shape"
   ]
  },
  {
   "cell_type": "code",
   "execution_count": null,
   "metadata": {},
   "outputs": [],
   "source": [
    "modeling_wallet_scores_df"
   ]
  },
  {
   "cell_type": "code",
   "execution_count": null,
   "metadata": {},
   "outputs": [],
   "source": [
    "def assign_wallet_quantiles(wallet_scores_df: pd.DataFrame) -> pd.DataFrame:\n",
    "   \"\"\"\n",
    "   Assigns each wallet to a single quantile bucket based on score.\n",
    "\n",
    "   Params:\n",
    "   - wallet_scores_df (DataFrame): Wallet scores data indexed by wallet_address\n",
    "       Must contain 'score' column\n",
    "\n",
    "   Returns:\n",
    "   - DataFrame: Original wallet_scores_df with new 'score_quantile' column\n",
    "       indicating which quantile bucket the wallet belongs to (e.g. '0-1%', '1-5%', etc)\n",
    "   \"\"\"\n",
    "   # Get quantile thresholds from config\n",
    "   quantiles = sorted(wallets_coin_config['features']['top_wallets_quantiles'])\n",
    "\n",
    "   # Create bin edges from 0 to 1, reversed since we want top scores in first bins\n",
    "   bin_edges = [0] + [1 - q for q in reversed(quantiles)] + [1]\n",
    "\n",
    "   # Create labels for each bin (e.g. '0-1%', '1-5%', etc)\n",
    "   bin_labels = []\n",
    "   for i in range(len(bin_edges) - 1):\n",
    "       start_pct = int(bin_edges[i] * 100)\n",
    "       end_pct = int(bin_edges[i + 1] * 100)\n",
    "       bin_labels.append(f'{start_pct}_{end_pct}pct')\n",
    "\n",
    "   # Assign quantile labels using pd.qcut\n",
    "   result_df = wallet_scores_df.copy()\n",
    "   result_df['score_quantile'] = pd.qcut(\n",
    "       result_df['score'],\n",
    "       q=bin_edges,\n",
    "       labels=bin_labels,\n",
    "       duplicates='drop'\n",
    "   )\n",
    "\n",
    "   return result_df\n",
    "\n",
    "assign_wallet_quantiles(modeling_wallet_scores_df)"
   ]
  },
  {
   "cell_type": "code",
   "execution_count": null,
   "metadata": {},
   "outputs": [],
   "source": [
    "coin_wallet_balance_features_modeling_end_df.columns"
   ]
  },
  {
   "cell_type": "markdown",
   "metadata": {},
   "source": [
    "### add quantile columns"
   ]
  },
  {
   "cell_type": "code",
   "execution_count": null,
   "metadata": {},
   "outputs": [],
   "source": [
    "# n_quantiles = 4\n",
    "\n",
    "# coin_wallet_features_df = cwb.add_quantile_columns(coin_wallet_features_df,4)\n",
    "# coin_wallet_features_df.shape"
   ]
  },
  {
   "cell_type": "markdown",
   "metadata": {},
   "source": [
    "### Merge to coin_training_data_df_full"
   ]
  },
  {
   "cell_type": "code",
   "execution_count": null,
   "metadata": {},
   "outputs": [],
   "source": [
    "# Retrieve data from coin features pipeline\n",
    "coin_features_training_data_df = pd.read_parquet(\"temp/coin_modeling_dfs/coin_features_training_data_df.parquet\")\n",
    "\n",
    "# Confirm overlap\n",
    "coin_features_ids = coin_features_training_data_df.index\n",
    "coin_wallet_features_ids = coin_wallet_features_df.index\n",
    "wallet_features_only_ids = set(coin_wallet_features_ids) - set(coin_features_ids)\n",
    "\n",
    "if len(wallet_features_only_ids) == 0:\n",
    "    logger.info(\"All %s coins with wallet features were found in the base features set.\",\n",
    "                len(coin_wallet_features_ids))\n",
    "\n",
    "else:\n",
    "    raise ValueError(f\"Wallet features contain {len(wallet_features_only_ids)} coins not in the other coin features\")\n",
    "\n",
    "\n",
    "# Join together\n",
    "coin_training_data_df_full = coin_wallet_features_df.join(coin_features_training_data_df,how='inner')\n",
    "coin_training_data_df_full.shape\n",
    "\n",
    "coin_training_data_df_full = coin_wallet_features_df.copy()\n",
    "coin_training_data_df_full.describe()"
   ]
  },
  {
   "cell_type": "markdown",
   "metadata": {},
   "source": [
    "### apply filters"
   ]
  },
  {
   "cell_type": "code",
   "execution_count": null,
   "metadata": {},
   "outputs": [],
   "source": [
    "[importlib.reload(module) for module in modules]\n",
    "wallets_config.reload()\n",
    "wallets_coin_config = yaml.safe_load(Path('../config/wallets_coin_config.yaml').read_text(encoding='utf-8'))\n",
    "\n",
    "\n",
    "logger.info(\"Starting coins: %s\", len(coin_training_data_df_full))\n",
    "\n",
    "# Filter based on holdings\n",
    "min_cohort_wallets = wallets_coin_config['coin_modeling']['min_cohort_wallets']\n",
    "min_cohort_balance = wallets_coin_config['coin_modeling']['min_cohort_balance']\n",
    "\n",
    "coin_training_data_df = coin_training_data_df_full[\n",
    "    (coin_training_data_df_full['wallet_balance|top_100pct/count|modeling_end'] >= min_cohort_wallets)\n",
    "    & (coin_training_data_df_full['wallet_balance|top_100pct/balance|modeling_end'] >= min_cohort_balance)\n",
    "]\n",
    "logger.info(\"Coins after balance filters: %s\", len(coin_training_data_df))\n",
    "\n",
    "# # Filter based on market cap\n",
    "# min_market_cap = wallets_coin_config['coin_modeling']['min_market_cap']\n",
    "# max_market_cap = wallets_coin_config['coin_modeling']['max_market_cap']\n",
    "\n",
    "# coin_training_data_df = coin_training_data_df[\n",
    "#     (coin_training_data_df['time_series|market_data|market_cap_last'] >= min_market_cap)\n",
    "#     & (coin_training_data_df['time_series|market_data|market_cap_last'] <= max_market_cap)\n",
    "# ]\n",
    "# logger.info(\"Coins after balance filters: %s\", len(coin_training_data_df))\n",
    "\n",
    "coin_training_data_df.describe()"
   ]
  },
  {
   "cell_type": "markdown",
   "metadata": {},
   "source": [
    "## Prepare coin_modeling_df"
   ]
  },
  {
   "cell_type": "markdown",
   "metadata": {},
   "source": [
    "### Prepare target variable (parquet loadable)"
   ]
  },
  {
   "cell_type": "code",
   "execution_count": null,
   "metadata": {},
   "outputs": [],
   "source": [
    "[importlib.reload(module) for module in modules]\n",
    "wallets_config.reload()\n",
    "wallets_coin_config = yaml.safe_load(Path('../config/wallets_coin_config.yaml').read_text(encoding='utf-8'))\n",
    "\n",
    "# Load market data\n",
    "validation_market_data_df = pd.read_parquet(\"temp/wallet_modeling_dfs/validation_market_data_df.parquet\")\n",
    "\n",
    "\n",
    "# Calculate coin return performance during validation period\n",
    "validation_coin_performance_df = civa.calculate_coin_performance(\n",
    "    validation_market_data_df,\n",
    "    wallets_config['training_data']['validation_period_start'],\n",
    "    wallets_config['training_data']['validation_period_end']\n",
    ")\n",
    "\n",
    "# Drop columns with np.nan coin_return values, which indicate a 0 starting price\n",
    "validation_coin_performance_df = validation_coin_performance_df.dropna()\n",
    "\n",
    "validation_coin_performance_df['coin_return_winsorized'] = u.winsorize(\n",
    "        validation_coin_performance_df['coin_return'],\n",
    "        wallets_coin_config['coin_modeling']['returns_winsorization'])\n",
    "\n",
    "# Validation: check if any coin_ids missing from final features\n",
    "missing_coins = set(coin_training_data_df.index) - set(validation_coin_performance_df.index)\n",
    "if missing_coins:\n",
    "    raise ValueError(f\"Found {len(missing_coins)} coin_ids in training_data_df without validation period target variables.\")\n",
    "\n",
    "\n",
    "# Attach target variable column to training_data_df\n",
    "target_var_column = wallets_coin_config['coin_modeling']['target_variable']\n",
    "coin_modeling_df = coin_training_data_df.join(validation_coin_performance_df[[target_var_column]])\n",
    "\n",
    "coin_modeling_df.describe()"
   ]
  },
  {
   "cell_type": "markdown",
   "metadata": {},
   "source": [
    "### analyze correlations"
   ]
  },
  {
   "cell_type": "code",
   "execution_count": null,
   "metadata": {},
   "outputs": [],
   "source": [
    "import pandas as pd\n",
    "\n",
    "# Assuming your DataFrame is named `df`\n",
    "# Calculate correlations\n",
    "correlation_matrix = coin_modeling_df.corr()\n",
    "\n",
    "# Extract correlations with the target variable\n",
    "target_correlations = correlation_matrix[target_var_column].sort_values(ascending=False)\n",
    "\n",
    "# Display the top features correlated with the target\n",
    "target_correlations[:25]\n",
    "target_correlations"
   ]
  },
  {
   "cell_type": "markdown",
   "metadata": {},
   "source": [
    "## Build coin model"
   ]
  },
  {
   "cell_type": "code",
   "execution_count": null,
   "metadata": {},
   "outputs": [],
   "source": [
    "[importlib.reload(module) for module in modules]\n",
    "wallets_config.reload()\n",
    "wallets_coin_config = yaml.safe_load(Path('../config/wallets_coin_config.yaml').read_text(encoding='utf-8'))\n",
    "\n",
    "\n",
    "# Initialize and run model\n",
    "coin_model = cm.CoinModel(wallets_coin_config=wallets_coin_config)\n",
    "coin_model_results = coin_model.run_experiment(feature_df=coin_modeling_df)\n",
    "\n",
    "\n",
    "# Initialize evaluator\n",
    "coin_evaluator = cime.CoinRegressionEvaluator(\n",
    "    y_test=coin_model_results['y_test'],\n",
    "    y_pred=coin_model_results['y_pred'],\n",
    "    model=coin_model.pipeline.named_steps['regressor'],\n",
    "    feature_names=coin_model_results['X_train'].columns.tolist()\n",
    ")\n",
    "\n",
    "# Generate reports\n",
    "print(evaluator.summary_report())\n",
    "evaluator.plot_evaluation()\n",
    "\n",
    "u.notify()"
   ]
  },
  {
   "cell_type": "markdown",
   "metadata": {},
   "source": [
    "# Junkyard"
   ]
  },
  {
   "cell_type": "code",
   "execution_count": null,
   "metadata": {},
   "outputs": [],
   "source": []
  },
  {
   "cell_type": "markdown",
   "metadata": {},
   "source": [
    "# Tests failing"
   ]
  },
  {
   "cell_type": "code",
   "execution_count": null,
   "metadata": {},
   "outputs": [],
   "source": [
    "[importlib.reload(module) for module in modules]\n",
    "wallets_config.reload()"
   ]
  },
  {
   "cell_type": "code",
   "execution_count": null,
   "metadata": {},
   "outputs": [],
   "source": []
  }
 ],
 "metadata": {
  "kernelspec": {
   "display_name": "Python 3",
   "language": "python",
   "name": "python3"
  },
  "language_info": {
   "codemirror_mode": {
    "name": "ipython",
    "version": 3
   },
   "file_extension": ".py",
   "mimetype": "text/x-python",
   "name": "python",
   "nbconvert_exporter": "python",
   "pygments_lexer": "ipython3",
   "version": "3.11.9"
  }
 },
 "nbformat": 4,
 "nbformat_minor": 2
}
