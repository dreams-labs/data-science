{
 "cells": [
  {
   "cell_type": "code",
   "execution_count": null,
   "metadata": {},
   "outputs": [],
   "source": [
    "import sys\n",
    "import os\n",
    "import time\n",
    "import logging\n",
    "import datetime\n",
    "import json\n",
    "from datetime import datetime, timedelta\n",
    "import yaml\n",
    "import importlib\n",
    "from dotenv import load_dotenv\n",
    "import pandas as pd\n",
    "import numpy as np\n",
    "import requests\n",
    "import pandas_gbq\n",
    "from dreams_core.googlecloud import GoogleCloud as dgc\n",
    "from dreams_core import core as dc\n",
    "import matplotlib.pyplot as plt\n",
    "from scipy.signal import argrelextrema\n",
    "import progressbar\n",
    "\n",
    "\n",
    "# load dotenv\n",
    "load_dotenv()\n",
    "\n",
    "# import local files if necessary\n",
    "sys.path.append('..//src')\n",
    "from utils import load_config, cw_filter_df, create_progress_bar\n",
    "import training_data as td\n",
    "importlib.reload(td)\n",
    "import feature_engineering as fe\n",
    "importlib.reload(fe)\n",
    "import coin_wallet_metrics as cwm\n",
    "importlib.reload(cwm)\n",
    "import modeling as m\n",
    "importlib.reload(m)\n",
    "import insights as i\n",
    "importlib.reload(i)\n",
    "import utils as u\n",
    "importlib.reload(u)\n",
    "\n",
    "# load configs\n",
    "config = load_config('../config/config.yaml')\n",
    "metrics_config = load_config('../config/metrics_config.yaml')\n",
    "modeling_config = load_config('../config/modeling_config.yaml')\n",
    "experiments_config = load_config('../config/experiments_config.yaml')\n",
    "\n",
    "# configure logger\n",
    "logger = dc.setup_logger()\n",
    "logger.setLevel(logging.INFO)\n",
    "\n",
    "# Custom format function for displaying numbers\n",
    "pd.set_option('display.float_format', lambda x: f'{x:.12g}')\n",
    "# pd.reset_option('display.float_format')"
   ]
  },
  {
   "cell_type": "code",
   "execution_count": null,
   "metadata": {},
   "outputs": [],
   "source": [
    "importlib.reload(td)\n",
    "importlib.reload(cwm)\n",
    "importlib.reload(fe)\n",
    "importlib.reload(m)\n",
    "importlib.reload(i)\n",
    "config = load_config('../config/config.yaml')\n",
    "metrics_config = load_config('../config/metrics_config.yaml')\n",
    "modeling_config = load_config('../config/modeling_config.yaml')\n",
    "experiments_config = load_config('../config/experiments_config.yaml')\n"
   ]
  },
  {
   "cell_type": "markdown",
   "metadata": {},
   "source": [
    "## Training Data (profits_df) Generation"
   ]
  },
  {
   "cell_type": "code",
   "execution_count": null,
   "metadata": {},
   "outputs": [],
   "source": [
    "config['data_cleaning']['max_gap_days']"
   ]
  },
  {
   "cell_type": "code",
   "execution_count": null,
   "metadata": {},
   "outputs": [],
   "source": [
    "importlib.reload(td)\n",
    "\n",
    "\n",
    "# retrieve and clean prices data\n",
    "prices_df = td.retrieve_prices_data()\n",
    "prices_df,prices_log = td.fill_prices_gaps(prices_df,config['data_cleaning']['max_gap_days'])"
   ]
  },
  {
   "cell_type": "code",
   "execution_count": null,
   "metadata": {},
   "outputs": [],
   "source": [
    "prices_df.shape"
   ]
  },
  {
   "cell_type": "code",
   "execution_count": null,
   "metadata": {},
   "outputs": [],
   "source": [
    "len(list(prices_log[prices_log['outcome']=='gaps above threshold']['coin_id']))"
   ]
  },
  {
   "cell_type": "code",
   "execution_count": null,
   "metadata": {},
   "outputs": [],
   "source": [
    "coin_id = '1e8030b4-452a-43b1-a834-2bf90ae640b5'\n",
    "coin_df = prices_df[prices_df['coin_id'] == coin_id].sort_values('date', ascending=True).copy()"
   ]
  },
  {
   "cell_type": "code",
   "execution_count": null,
   "metadata": {},
   "outputs": [],
   "source": [
    "# Step 1: Reindex to create rows for all missing dates\n",
    "coin_df = prices_df[prices_df['coin_id'] == coin_id].copy()\n",
    "\n",
    "# Create the full date range\n",
    "full_date_range = pd.date_range(start=coin_df['date'].min(), end=coin_df['date'].max(), freq='D')\n",
    "\n",
    "# # Reindex to get all dates\n",
    "# coin_df = coin_df.set_index('date').reindex(full_date_range).rename_axis('date').reset_index()\n",
    "# coin_df['coin_id'] = coin_id  # Fills coin_id in the newly created rows\n",
    "\n",
    "# # Step 2: Count the number of sequential missing dates\n",
    "# missing_values = coin_df['price'].isnull().astype(int)\n",
    "# consecutive_groups = coin_df['price'].notnull().cumsum()\n",
    "# coin_df['missing_gap'] = missing_values.groupby(consecutive_groups).cumsum()\n",
    "\n",
    "# # Check if there are no gaps at all\n",
    "# if coin_df['missing_gap'].max() == 0:\n",
    "#     outcomes.append({'coin_id': coin_id, 'outcome': 'no gaps'})\n",
    "#     filled_results.append(coin_df)\n",
    "#     continue\n",
    "\n",
    "# # Check if any gaps exceed max_gap_days\n",
    "# if coin_df['missing_gap'].max() > max_gap_days:\n",
    "#     outcomes.append({'coin_id': coin_id, 'outcome': 'gaps above threshold'})\n",
    "#     continue\n",
    "\n",
    "# # Step 3: Forward-fill any gaps that are smaller than max_gap_days\n",
    "# coin_df['price'] = coin_df['price'].ffill(limit=max_gap_days)\n",
    "\n",
    "# # Remove rows with larger gaps that shouldn't be filled (already handled by check above)\n",
    "# coin_df = coin_df[coin_df['missing_gap'] <= max_gap_days]\n",
    "\n",
    "\n",
    "# # Append to the result list\n",
    "# filled_results.append(coin_df)\n",
    "# outcomes.append({'coin_id': coin_id, 'outcome': 'gaps below threshold'})"
   ]
  },
  {
   "cell_type": "code",
   "execution_count": null,
   "metadata": {},
   "outputs": [],
   "source": [
    "\n",
    "# Input data\n",
    "prices_df_mixed_gaps = pd.DataFrame({\n",
    "    'coin_id': ['coin1', 'coin1', 'coin1', 'coin2', 'coin2', 'coin2', 'coin3', 'coin3'],\n",
    "    'date': pd.to_datetime(['2024-01-01', '2024-01-02', '2024-01-03',\n",
    "                            '2024-01-01', '2024-01-04', '2024-01-05',\n",
    "                            '2024-01-01', '2024-01-10']),\n",
    "    'price': [100, 101, 102, 200, 204, 205, 300, 310]\n",
    "})\n",
    "\n",
    "# Expected data:\n",
    "# - coin1 has no gaps.\n",
    "# - coin2 has gaps below the threshold (filled for 2024-01-02, 2024-01-03).\n",
    "# - coin3 has a gap too large (should be excluded).\n",
    "expected_data = {\n",
    "    'date': pd.to_datetime(['2024-01-01', '2024-01-02', '2024-01-03',  # coin1\n",
    "                            '2024-01-01', '2024-01-02', '2024-01-03', '2024-01-04', '2024-01-05']),  # coin2\n",
    "    'coin_id': ['coin1', 'coin1', 'coin1',\n",
    "                'coin2', 'coin2', 'coin2', 'coin2', 'coin2'],\n",
    "    'price': [100.0, 101, 102,\n",
    "                200, 200, 200, 204, 205]\n",
    "}\n",
    "expected_df = pd.DataFrame(expected_data)[['date', 'coin_id', 'price']]\n",
    "\n",
    "# Run the function\n",
    "prices_filled_df, outcomes_df = td.fill_prices_gaps(prices_df_mixed_gaps, max_gap_days)\n",
    "\n",
    "# Reorder columns for comparison\n",
    "prices_filled_df = prices_filled_df[['date', 'coin_id', 'price']]\n",
    "\n",
    "# Assertions\n",
    "pd.testing.assert_frame_equal(prices_filled_df, expected_df)\n",
    "assert 'no gaps' in outcomes_df['outcome'].values\n",
    "assert 'gaps below threshold' in outcomes_df['outcome'].values\n",
    "assert 'gaps above threshold' in outcomes_df['outcome'].values\n"
   ]
  },
  {
   "cell_type": "code",
   "execution_count": null,
   "metadata": {},
   "outputs": [],
   "source": [
    "expected_df"
   ]
  },
  {
   "cell_type": "code",
   "execution_count": null,
   "metadata": {},
   "outputs": [],
   "source": [
    "prices_filled_df"
   ]
  },
  {
   "cell_type": "code",
   "execution_count": null,
   "metadata": {},
   "outputs": [],
   "source": [
    "prices_df_gaps_above_max"
   ]
  },
  {
   "cell_type": "code",
   "execution_count": null,
   "metadata": {},
   "outputs": [],
   "source": [
    "expected_df"
   ]
  },
  {
   "cell_type": "code",
   "execution_count": null,
   "metadata": {},
   "outputs": [],
   "source": [
    "prices_filled_df"
   ]
  },
  {
   "cell_type": "code",
   "execution_count": null,
   "metadata": {},
   "outputs": [],
   "source": [
    "expected_df"
   ]
  },
  {
   "cell_type": "code",
   "execution_count": null,
   "metadata": {},
   "outputs": [],
   "source": [
    "\n",
    "\n",
    "# Test Case 2: Gaps below max_gap_days\n",
    "\n",
    "data = {\n",
    "    'coin_id': ['coin1', 'coin1', 'coin1', 'coin2', 'coin2'],\n",
    "    'date': pd.to_datetime(['2024-01-01', '2024-01-03', '2024-01-04',\n",
    "                            '2024-01-01', '2024-01-03']),\n",
    "    'price': [100, 102, 103, 200, 202]\n",
    "}\n",
    "expected_data = {\n",
    "    'date': pd.to_datetime(['2024-01-01', '2024-01-02', '2024-01-03',\n",
    "                            '2024-01-01', '2024-01-02', '2024-01-03']),\n",
    "    'coin_id': ['coin1', 'coin1', 'coin1', 'coin2', 'coin2', 'coin2'],\n",
    "    'price': [100, 100, 102, 200, 200, 202]\n",
    "}\n",
    "prices_df_gaps_below_max = pd.DataFrame(data)\n",
    "max_gap_days = 2\n",
    "prices_filled_df, outcomes_df = td.fill_prices_gaps(prices_df_gaps_below_max, max_gap_days)\n",
    "\n",
    "expected_df = pd.DataFrame(expected_data)\n",
    "prices_filled_df = prices_filled_df[['coin_id', 'date', 'price']]\n",
    "pd.testing.assert_frame_equal(prices_filled_df, expected_df)\n",
    "\n",
    "# Check the outcomes DataFrame\n",
    "assert all(outcomes_df['outcome'] == 'gaps below threshold')\n",
    "\n",
    "# # Test Case 2 (Version 2): Gaps exactly max_gap_days\n",
    "# def test_gaps_at_max():\n",
    "#     data = {\n",
    "#         'coin_id': ['coin1', 'coin1', 'coin1', 'coin2', 'coin2'],\n",
    "#         'date': pd.to_datetime(['2024-01-01', '2024-01-03', '2024-01-05',\n",
    "#                                 '2024-01-01', '2024-01-03']),\n",
    "#         'price': [100, 102, 103, 200, 202]\n",
    "#     }\n",
    "#     prices_df_gaps_at_max = pd.DataFrame(data)\n",
    "#     max_gap_days = 2\n",
    "#     prices_filled_df, outcomes_df = fill_prices_gaps(prices_df_gaps_at_max, max_gap_days)\n",
    "\n",
    "#     print(\"Test 2 (Version 2): Gaps at Max\")\n",
    "#     print(\"Filled Prices DataFrame:\\n\", prices_filled_df)\n",
    "#     print(\"Outcomes DataFrame:\\n\", outcomes_df)\n",
    "\n",
    "# # Test Case 3: Gaps above max_gap_days\n",
    "# def test_gaps_above_max():\n",
    "#     data = {\n",
    "#         'coin_id': ['coin1', 'coin1', 'coin1', 'coin2', 'coin2'],\n",
    "#         'date': pd.to_datetime(['2024-01-01', '2024-01-05', '2024-01-06',\n",
    "#                                 '2024-01-01', '2024-01-07']),\n",
    "#         'price': [100, 105, 106, 200, 207]\n",
    "#     }\n",
    "#     prices_df_gaps_above_max = pd.DataFrame(data)\n",
    "#     max_gap_days = 2\n",
    "#     prices_filled_df, outcomes_df = fill_prices_gaps(prices_df_gaps_above_max, max_gap_days)\n",
    "\n",
    "#     print(\"Test 3: Gaps Above Max\")\n",
    "#     print(\"Filled Prices DataFrame:\\n\", prices_filled_df)\n",
    "#     print(\"Outcomes DataFrame:\\n\", outcomes_df)\n",
    "\n",
    "# # Test Case 4: Mixed gaps scenario\n",
    "# def test_mixed_gaps():\n",
    "#     data = {\n",
    "#         'coin_id': ['coin1', 'coin1', 'coin1', 'coin2', 'coin2', 'coin2', 'coin3', 'coin3'],\n",
    "#         'date': pd.to_datetime(['2024-01-01', '2024-01-02', '2024-01-03',\n",
    "#                                 '2024-01-01', '2024-01-04', '2024-01-05',\n",
    "#                                 '2024-01-01', '2024-01-10']),\n",
    "#         'price': [100, 101, 102, 200, 204, 205, 300, 310]\n",
    "#     }\n",
    "#     prices_df_mixed_gaps = pd.DataFrame(data)\n",
    "#     max_gap_days = 2\n",
    "#     prices_filled_df, outcomes_df = fill_prices_gaps(prices_df_mixed_gaps, max_gap_days)\n",
    "\n",
    "#     print(\"Test 4: Mixed Gaps\")\n",
    "#     print(\"Filled Prices DataFrame:\\n\", prices_filled_df)\n",
    "#     print(\"Outcomes DataFrame:\\n\", outcomes_df)\n",
    "\n",
    "all(outcomes_df['outcome'] == 'no gaps')"
   ]
  },
  {
   "cell_type": "code",
   "execution_count": null,
   "metadata": {},
   "outputs": [],
   "source": [
    "prices_filled_df"
   ]
  },
  {
   "cell_type": "code",
   "execution_count": null,
   "metadata": {},
   "outputs": [],
   "source": [
    "prices_df_no_gaps"
   ]
  },
  {
   "cell_type": "code",
   "execution_count": null,
   "metadata": {},
   "outputs": [],
   "source": [
    "pd.testing.assert_frame_equal(prices_filled_df, prices_df_no_gaps)"
   ]
  },
  {
   "cell_type": "markdown",
   "metadata": {},
   "source": [
    "## Metrics and Feature Engineering"
   ]
  },
  {
   "cell_type": "code",
   "execution_count": null,
   "metadata": {},
   "outputs": [],
   "source": [
    "importlib.reload(td)\n",
    "importlib.reload(cwm)\n",
    "importlib.reload(fe)\n",
    "importlib.reload(m)\n",
    "importlib.reload(i)\n",
    "config = load_config('../config/config.yaml')\n",
    "metrics_config = load_config('../config/metrics_config.yaml')\n",
    "modeling_config = load_config('../config/modeling_config.yaml')\n",
    "\n",
    "\n",
    "# identify cohort\n",
    "cohort_summary_df = td.classify_wallet_cohort(profits_df, config['wallet_cohorts']['sharks'])\n",
    "\n",
    "# generate and flatten buysell_metrics\n",
    "cohort_wallets = cohort_summary_df[cohort_summary_df['in_cohort']==True]['wallet_address']\n",
    "buysell_metrics_df = cwm.generate_buysell_metrics_df(profits_df,config['training_data']['training_period_end'],cohort_wallets)\n",
    "\n",
    "# flatten, save, and preprocess the flattened df\n",
    "flattened_output_directory = os.path.join(modeling_config['modeling']['modeling_folder'],'outputs/flattened_outputs')\n",
    "cohort_name = list(config['wallet_cohorts'].keys())[0]\n",
    "metric_description = f\"{cohort_name}_cohort\"\n",
    "\n",
    "flattened_buysell_metrics_df = fe.flatten_coin_date_df(buysell_metrics_df,metrics_config,config['training_data']['training_period_end'])\n",
    "flattened_df, flattened_filepath = fe.save_flattened_outputs(flattened_buysell_metrics_df, flattened_output_directory, metric_description, config['training_data']['modeling_period_start'])\n",
    "preprocessed_df, preprocessed_filepath = fe.preprocess_coin_df(flattened_filepath, modeling_config, metrics_config)\n",
    "\n",
    "# create the training data df\n",
    "input_directory = f\"{preprocessed_filepath.split('preprocessed_outputs/')[0]}preprocessed_outputs/\"\n",
    "input_filenames = [\n",
    "    preprocessed_filepath.split('preprocessed_outputs/')[1]\n",
    "]\n",
    "training_data_df = fe.create_training_data_df(input_directory, input_filenames)\n",
    "\n",
    "# create the target variable df\n",
    "target_variable_df,_ = fe.create_target_variables_mooncrater(prices_df, config['training_data'], modeling_config)\n",
    "\n",
    "# merge the two into the final model input df\n",
    "model_input_df = fe.prepare_model_input_df(training_data_df, target_variable_df, modeling_config['modeling']['target_column'])\n",
    "\n",
    "# split the df into train and test sets\n",
    "X_train, X_test, y_train, y_test = m.split_model_input(\n",
    "    model_input_df,\n",
    "    modeling_config['modeling']['target_column'],\n",
    "    modeling_config['modeling']['train_test_split'],\n",
    "    modeling_config['modeling']['random_state']\n",
    ")\n",
    "\n",
    "# 3.4 Train the model using the current configuration and log the results\n",
    "model, model_id = m.train_model(X_train, y_train, modeling_folder, modeling_config['modeling']['model_params'])\n",
    "\n",
    "# 3.5 Evaluate the model's performance on the test set\n",
    "metrics = m.evaluate_model(model, X_test, y_test, model_id, modeling_folder)\n",
    "\n",
    "# 3.6 Log the experiment results for this configuration\n",
    "m.log_trial_results(modeling_folder, model_id, experiment_id)"
   ]
  },
  {
   "cell_type": "code",
   "execution_count": null,
   "metadata": {},
   "outputs": [],
   "source": []
  }
 ],
 "metadata": {
  "kernelspec": {
   "display_name": "dreams_venv",
   "language": "python",
   "name": "python3"
  },
  "language_info": {
   "codemirror_mode": {
    "name": "ipython",
    "version": 3
   },
   "file_extension": ".py",
   "mimetype": "text/x-python",
   "name": "python",
   "nbconvert_exporter": "python",
   "pygments_lexer": "ipython3",
   "version": "3.11.9"
  }
 },
 "nbformat": 4,
 "nbformat_minor": 2
}
