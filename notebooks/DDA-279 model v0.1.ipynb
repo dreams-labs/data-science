{
 "cells": [
  {
   "cell_type": "code",
   "execution_count": 2,
   "metadata": {},
   "outputs": [],
   "source": [
    "import sys\n",
    "import os\n",
    "import time\n",
    "import logging\n",
    "import datetime\n",
    "from datetime import datetime, timedelta\n",
    "import yaml\n",
    "import importlib\n",
    "from dotenv import load_dotenv\n",
    "import pandas as pd\n",
    "import numpy as np\n",
    "import requests\n",
    "import pandas_gbq\n",
    "from dreams_core.googlecloud import GoogleCloud as dgc\n",
    "from dreams_core import core as dc\n",
    "import matplotlib.pyplot as plt\n",
    "from scipy.signal import argrelextrema\n",
    "\n",
    "# load dotenv\n",
    "load_dotenv()\n",
    "\n",
    "\n",
    "# import local files if necessary\n",
    "sys.path.append('..//src')\n",
    "from utils import load_config, cw_filter_df\n",
    "import training_data as td\n",
    "importlib.reload(td)\n",
    "import feature_engineering as fe\n",
    "importlib.reload(fe)\n",
    "import coin_wallet_metrics as cwm\n",
    "importlib.reload(cwm)\n",
    "\n",
    "\n",
    "# configure logger\n",
    "logger = dc.setup_logger()\n",
    "logger.setLevel(logging.INFO)\n",
    "\n",
    "# Custom format function for displaying numbers\n",
    "pd.set_option('display.float_format', lambda x: f'{x:.12g}')\n",
    "# pd.reset_option('display.float_format')"
   ]
  },
  {
   "cell_type": "markdown",
   "metadata": {},
   "source": [
    "#### Load the datasets"
   ]
  },
  {
   "cell_type": "code",
   "execution_count": 3,
   "metadata": {},
   "outputs": [
    {
     "name": "stderr",
     "output_type": "stream",
     "text": [
      "[12/Sep/2024 23:04:29] INFO [dreams_core.core.retrieve_prices_data:42] retrieved prices data with shape (120763, 3)\n",
      "[12/Sep/2024 23:04:29] INFO [dreams_core.core.fill_prices_gaps:126] 382 coins had no gaps, 19 coins had gaps filled, and 38 coins were dropped due to large gaps.\n",
      "[12/Sep/2024 23:04:29] INFO [dreams_core.core.<module>:11] Prices data shape: (110929, 3)\n",
      "[12/Sep/2024 23:04:58] INFO [dreams_core.core.retrieve_transfers_data:414] retrieved transfers_df with shape (23823401, 5) after 28.1 seconds.\n",
      "[12/Sep/2024 23:04:58] INFO [dreams_core.core.prepare_profits_data:455] Preparing profits_df data...\n",
      "[12/Sep/2024 23:05:49] INFO [dreams_core.core.calculate_wallet_profitability:635] Generated profits df after 20.17 seconds\n",
      "[12/Sep/2024 23:06:12] INFO [dreams_core.core.clean_profits_df:706] Finished cleaning profits_df after 22.70 seconds.\n",
      "[12/Sep/2024 23:06:21] INFO [dreams_core.core.classify_shark_coins:772] creation of shark_coins_df complete.\n",
      "[12/Sep/2024 23:06:21] INFO [dreams_core.core.generate_buysell_metrics_df:33] Preparing buysell_metrics_df...\n",
      "[12/Sep/2024 23:06:24] INFO [dreams_core.core.generate_buysell_metrics_df:99] Generated buysell_metrics_df after 3.72 seconds.\n",
      "[12/Sep/2024 23:06:25] INFO [dreams_core.core.flatten_coin_date_df:79] Flattening columns ['buyers_new', 'total_bought', 'total_sold', 'total_buyers', 'total_sellers'] into coin-level features...\n",
      "[12/Sep/2024 23:06:25] INFO [dreams_core.core.flatten_coin_date_df:95] Flattened input df into coin-level features with shape (118, 58) after 0.15 seconds.\n"
     ]
    }
   ],
   "source": [
    "importlib.reload(td)\n",
    "importlib.reload(cwm)\n",
    "importlib.reload(fe) \n",
    "\n",
    "config = load_config('../config/config.yaml')\n",
    "metrics_config = load_config('../config/config_metrics.yaml')\n",
    "\n",
    "# retrieve and clean prices data\n",
    "prices_df = td.retrieve_prices_data()\n",
    "prices_df,_ = td.fill_prices_gaps(prices_df,config['data_cleaning']['max_gap_days'])\n",
    "logger.info(f\"Prices data shape: {prices_df.shape}\")\n",
    "\n",
    "# retrieve transfers data\n",
    "transfers_df = td.retrieve_transfers_data(\n",
    "    config['training_data']['training_period_start'],\n",
    "    config['training_data']['modeling_period_start'],\n",
    "    config['training_data']['modeling_period_end']\n",
    "    )\n",
    "\n",
    "# compile profits_df\n",
    "profits_df = td.prepare_profits_data(transfers_df, prices_df)\n",
    "profits_df = td.calculate_wallet_profitability(profits_df)\n",
    "profits_df,_ = td.clean_profits_df(profits_df, config['data_cleaning'])\n",
    "\n",
    "# identify sharks\n",
    "shark_coins_df = td.classify_shark_coins(profits_df, config['training_data'])\n",
    "shark_wallets_df = td.classify_shark_wallets(shark_coins_df,config['training_data'])\n",
    "\n",
    "# generate and flatten buysell_metrics\n",
    "cohort_wallets = shark_wallets_df[shark_wallets_df['is_shark']==True]['wallet_address'].unique()\n",
    "cohort_coins = shark_coins_df['coin_id'].unique()\n",
    "buysell_metrics_df = cwm.generate_buysell_metrics_df(profits_df,config['training_data']['training_period_end'],cohort_wallets,cohort_coins)\n",
    "flattened_buysell_metrics_df = fe.flatten_coin_date_df(buysell_metrics_df,metrics_config,config['training_data']['training_period_end'])\n"
   ]
  },
  {
   "cell_type": "code",
   "execution_count": 4,
   "metadata": {},
   "outputs": [],
   "source": [
    "version='0.0'\n",
    "modeling_period_start = config['training_data']['modeling_period_start']\n",
    "output_path = '..//modeling/outputs/flattened_outputs'\n",
    "\n",
    "# def save_flattened_outputs(flattened_df, output_path, training_period_start, version=None):\n",
    "# Call flatten_coin_date_df to get the transformed data\n",
    "flattened_df = flattened_buysell_metrics_df\n",
    "\n",
    "# Generate timestamp\n",
    "timestamp = datetime.now().strftime('%Y-%m-%d_%H-%M')\n",
    "\n",
    "# Define filename, optionally include version\n",
    "version_suffix = f\"_v{version}\" if version else \"\"\n",
    "filename = f\"flattened_output_{timestamp}_trainingstart_{training_period_start}{version_suffix}.csv\"\n",
    "\n",
    "# Define full path and save the DataFrame\n",
    "full_path = os.path.join(output_path, filename)\n",
    "flattened_df.to_csv(full_path, index=False)\n"
   ]
  },
  {
   "cell_type": "code",
   "execution_count": null,
   "metadata": {},
   "outputs": [],
   "source": []
  }
 ],
 "metadata": {
  "kernelspec": {
   "display_name": "dreams_venv",
   "language": "python",
   "name": "python3"
  },
  "language_info": {
   "codemirror_mode": {
    "name": "ipython",
    "version": 3
   },
   "file_extension": ".py",
   "mimetype": "text/x-python",
   "name": "python",
   "nbconvert_exporter": "python",
   "pygments_lexer": "ipython3",
   "version": "3.11.9"
  }
 },
 "nbformat": 4,
 "nbformat_minor": 2
}
