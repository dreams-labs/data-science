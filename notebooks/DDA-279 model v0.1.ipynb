{
 "cells": [
  {
   "cell_type": "code",
   "execution_count": 2,
   "metadata": {},
   "outputs": [],
   "source": [
    "import sys\n",
    "import os\n",
    "import time\n",
    "import logging\n",
    "import datetime\n",
    "from datetime import datetime, timedelta\n",
    "import yaml\n",
    "import importlib\n",
    "from dotenv import load_dotenv\n",
    "import pandas as pd\n",
    "import numpy as np\n",
    "import requests\n",
    "import pandas_gbq\n",
    "from dreams_core.googlecloud import GoogleCloud as dgc\n",
    "from dreams_core import core as dc\n",
    "import matplotlib.pyplot as plt\n",
    "from scipy.signal import argrelextrema\n",
    "\n",
    "# load dotenv\n",
    "load_dotenv()\n",
    "\n",
    "\n",
    "# import local files if necessary\n",
    "sys.path.append('..//src')\n",
    "from utils import load_config, cw_filter_df\n",
    "import training_data as td\n",
    "importlib.reload(td)\n",
    "import feature_engineering as fe\n",
    "importlib.reload(fe)\n",
    "import coin_wallet_metrics as cwm\n",
    "importlib.reload(cwm)\n",
    "\n",
    "\n",
    "# configure logger\n",
    "logger = dc.setup_logger()\n",
    "logger.setLevel(logging.INFO)\n",
    "\n",
    "# Custom format function for displaying numbers\n",
    "pd.set_option('display.float_format', lambda x: f'{x:.12g}')\n",
    "# pd.reset_option('display.float_format')"
   ]
  },
  {
   "cell_type": "code",
   "execution_count": 11,
   "metadata": {},
   "outputs": [],
   "source": [
    "importlib.reload(td)\n",
    "importlib.reload(cwm)\n",
    "importlib.reload(fe) \n",
    "\n",
    "config = load_config('../config/config.yaml')\n",
    "metrics_config = load_config('../config/config_metrics.yaml')\n",
    "modeling_config = load_config('../config/config_modeling.yaml')"
   ]
  },
  {
   "cell_type": "markdown",
   "metadata": {},
   "source": [
    "#### Load the datasets"
   ]
  },
  {
   "cell_type": "code",
   "execution_count": 3,
   "metadata": {},
   "outputs": [
    {
     "name": "stderr",
     "output_type": "stream",
     "text": [
      "[12/Sep/2024 23:04:29] INFO [dreams_core.core.retrieve_prices_data:42] retrieved prices data with shape (120763, 3)\n",
      "[12/Sep/2024 23:04:29] INFO [dreams_core.core.fill_prices_gaps:126] 382 coins had no gaps, 19 coins had gaps filled, and 38 coins were dropped due to large gaps.\n",
      "[12/Sep/2024 23:04:29] INFO [dreams_core.core.<module>:11] Prices data shape: (110929, 3)\n",
      "[12/Sep/2024 23:04:58] INFO [dreams_core.core.retrieve_transfers_data:414] retrieved transfers_df with shape (23823401, 5) after 28.1 seconds.\n",
      "[12/Sep/2024 23:04:58] INFO [dreams_core.core.prepare_profits_data:455] Preparing profits_df data...\n",
      "[12/Sep/2024 23:05:49] INFO [dreams_core.core.calculate_wallet_profitability:635] Generated profits df after 20.17 seconds\n",
      "[12/Sep/2024 23:06:12] INFO [dreams_core.core.clean_profits_df:706] Finished cleaning profits_df after 22.70 seconds.\n",
      "[12/Sep/2024 23:06:21] INFO [dreams_core.core.classify_shark_coins:772] creation of shark_coins_df complete.\n",
      "[12/Sep/2024 23:06:21] INFO [dreams_core.core.generate_buysell_metrics_df:33] Preparing buysell_metrics_df...\n",
      "[12/Sep/2024 23:06:24] INFO [dreams_core.core.generate_buysell_metrics_df:99] Generated buysell_metrics_df after 3.72 seconds.\n",
      "[12/Sep/2024 23:06:25] INFO [dreams_core.core.flatten_coin_date_df:79] Flattening columns ['buyers_new', 'total_bought', 'total_sold', 'total_buyers', 'total_sellers'] into coin-level features...\n",
      "[12/Sep/2024 23:06:25] INFO [dreams_core.core.flatten_coin_date_df:95] Flattened input df into coin-level features with shape (118, 58) after 0.15 seconds.\n"
     ]
    }
   ],
   "source": [
    "# retrieve and clean prices data\n",
    "prices_df = td.retrieve_prices_data()\n",
    "prices_df,_ = td.fill_prices_gaps(prices_df,config['data_cleaning']['max_gap_days'])\n",
    "logger.info(f\"Prices data shape: {prices_df.shape}\")\n",
    "\n",
    "# retrieve transfers data\n",
    "transfers_df = td.retrieve_transfers_data(\n",
    "    config['training_data']['training_period_start'],\n",
    "    config['training_data']['modeling_period_start'],\n",
    "    config['training_data']['modeling_period_end']\n",
    "    )\n",
    "\n",
    "# compile profits_df\n",
    "profits_df = td.prepare_profits_data(transfers_df, prices_df)\n",
    "profits_df = td.calculate_wallet_profitability(profits_df)\n",
    "profits_df,_ = td.clean_profits_df(profits_df, config['data_cleaning'])\n",
    "\n",
    "# identify sharks\n",
    "shark_coins_df = td.classify_shark_coins(profits_df, config['training_data'])\n",
    "shark_wallets_df = td.classify_shark_wallets(shark_coins_df,config['training_data'])\n",
    "\n",
    "# generate and flatten buysell_metrics\n",
    "cohort_wallets = shark_wallets_df[shark_wallets_df['is_shark']==True]['wallet_address'].unique()\n",
    "cohort_coins = shark_coins_df['coin_id'].unique()\n",
    "buysell_metrics_df = cwm.generate_buysell_metrics_df(profits_df,config['training_data']['training_period_end'],cohort_wallets,cohort_coins)\n",
    "flattened_buysell_metrics_df = fe.flatten_coin_date_df(buysell_metrics_df,metrics_config,config['training_data']['training_period_end'])\n"
   ]
  },
  {
   "cell_type": "code",
   "execution_count": 14,
   "metadata": {},
   "outputs": [
    {
     "data": {
      "text/plain": [
       "Index(['coin_id', 'buyers_new_sum', 'buyers_new_mean', 'buyers_new_median',\n",
       "       'buyers_new_std', 'buyers_new_sum_7d_period_1',\n",
       "       'buyers_new_max_7d_period_1', 'buyers_new_median_7d_period_1',\n",
       "       'buyers_new_change_7d_period_1', 'buyers_new_pct_change_7d_period_1',\n",
       "       'buyers_new_sum_7d_period_2', 'buyers_new_max_7d_period_2',\n",
       "       'buyers_new_median_7d_period_2', 'buyers_new_change_7d_period_2',\n",
       "       'buyers_new_pct_change_7d_period_2', 'buyers_new_sum_7d_period_3',\n",
       "       'buyers_new_max_7d_period_3', 'buyers_new_median_7d_period_3',\n",
       "       'buyers_new_change_7d_period_3', 'buyers_new_pct_change_7d_period_3',\n",
       "       'buyers_new_sum_7d_period_4', 'buyers_new_max_7d_period_4',\n",
       "       'buyers_new_median_7d_period_4', 'buyers_new_change_7d_period_4',\n",
       "       'buyers_new_pct_change_7d_period_4', 'buyers_new_sum_7d_period_5',\n",
       "       'buyers_new_max_7d_period_5', 'buyers_new_median_7d_period_5',\n",
       "       'buyers_new_change_7d_period_5', 'buyers_new_pct_change_7d_period_5',\n",
       "       'buyers_new_sum_7d_period_6', 'buyers_new_max_7d_period_6',\n",
       "       'buyers_new_median_7d_period_6', 'buyers_new_change_7d_period_6',\n",
       "       'buyers_new_pct_change_7d_period_6', 'buyers_new_sum_7d_period_7',\n",
       "       'buyers_new_max_7d_period_7', 'buyers_new_median_7d_period_7',\n",
       "       'buyers_new_change_7d_period_7', 'buyers_new_pct_change_7d_period_7',\n",
       "       'buyers_new_sum_7d_period_8', 'buyers_new_max_7d_period_8',\n",
       "       'buyers_new_median_7d_period_8', 'buyers_new_change_7d_period_8',\n",
       "       'buyers_new_pct_change_7d_period_8', 'total_bought_sum',\n",
       "       'total_bought_median', 'total_bought_sum_7d_period_1',\n",
       "       'total_bought_sum_7d_period_2', 'total_bought_sum_7d_period_3',\n",
       "       'total_bought_sum_7d_period_4', 'total_bought_sum_7d_period_5',\n",
       "       'total_bought_sum_7d_period_6', 'total_bought_sum_7d_period_7',\n",
       "       'total_bought_sum_7d_period_8', 'total_sold_sum', 'total_buyers_sum',\n",
       "       'total_sellers_sum'],\n",
       "      dtype='object')"
      ]
     },
     "execution_count": 14,
     "metadata": {},
     "output_type": "execute_result"
    }
   ],
   "source": [
    "input_path = '..//modeling/outputs/flattened_outputs/flattened_output_2024-09-13_00-36_trainingstart_2024-05-01.csv'\n",
    "\n",
    "flattened_df = pd.read_csv(input_path)\n",
    "flattened_df.columns"
   ]
  },
  {
   "cell_type": "markdown",
   "metadata": {},
   "source": [
    "pd.read_csv('..')"
   ]
  },
  {
   "cell_type": "code",
   "execution_count": 18,
   "metadata": {},
   "outputs": [],
   "source": [
    "importlib.reload(td)\n",
    "importlib.reload(cwm)\n",
    "importlib.reload(fe) \n",
    "\n",
    "config = load_config('../config/config.yaml')\n",
    "metrics_config = load_config('../config/config_metrics.yaml')\n",
    "modeling_config = load_config('../config/config_modeling.yaml')\n",
    "\n",
    "\n",
    "logger.setLevel(logging.DEBUG)\n",
    "\n",
    "def preprocess_coin_df(input_path, modeling_config):\n",
    "    \"\"\"\n",
    "    Preprocess the flattened coin DataFrame by applying feature selection.\n",
    "    \n",
    "    Params:\n",
    "    - input_path (str): Path to the flattened CSV file.\n",
    "    - modeling_config (dict): Configuration with modeling-specific parameters.\n",
    "\n",
    "    Returns:\n",
    "    - full_path (str): The full path to the saved preprocessed CSV file.\n",
    "    \"\"\"\n",
    "    # Step 1: Load the flattened data\n",
    "    df = pd.read_csv(input_path)\n",
    "\n",
    "    # Step 2: Check for missing values and raise an error if any are found\n",
    "    if df.isnull().values.any():\n",
    "        raise ValueError(\"Missing values detected in the DataFrame.\")\n",
    "\n",
    "    # Step 3: Apply feature selection (using drop_features)\n",
    "    drop_features = modeling_config['preprocessing'].get('drop_features', [])\n",
    "    initial_columns = set(df.columns)\n",
    "    df = df.drop(columns=drop_features, errors='ignore')\n",
    "    dropped_columns = initial_columns - set(df.columns)\n",
    "\n",
    "    # Step 4: Generate output path and filename based on input\n",
    "    base_filename = os.path.basename(input_path).replace(\".csv\", \"\")\n",
    "    output_filename = f\"{base_filename}_preprocessed.csv\"\n",
    "    output_path = os.path.join(os.path.dirname(input_path).replace(\"flattened_outputs\", \"preprocessed_outputs\"), output_filename)\n",
    "\n",
    "    # Step 5: Save the preprocessed data\n",
    "    df.to_csv(output_path, index=False)\n",
    "\n",
    "    # Log the changes made\n",
    "    logger.debug(f\"Preprocessed file saved at: {output_path}\")\n",
    "    logger.debug(f\"Dropped {len(dropped_columns)} columns: {', '.join(dropped_columns)}\")\n",
    "\n",
    "    return output_path"
   ]
  },
  {
   "cell_type": "code",
   "execution_count": null,
   "metadata": {},
   "outputs": [],
   "source": []
  }
 ],
 "metadata": {
  "kernelspec": {
   "display_name": "dreams_venv",
   "language": "python",
   "name": "python3"
  },
  "language_info": {
   "codemirror_mode": {
    "name": "ipython",
    "version": 3
   },
   "file_extension": ".py",
   "mimetype": "text/x-python",
   "name": "python",
   "nbconvert_exporter": "python",
   "pygments_lexer": "ipython3",
   "version": "3.11.9"
  }
 },
 "nbformat": 4,
 "nbformat_minor": 2
}
