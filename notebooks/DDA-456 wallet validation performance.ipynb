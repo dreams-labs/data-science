{
 "cells": [
  {
   "cell_type": "code",
   "execution_count": null,
   "metadata": {},
   "outputs": [],
   "source": [
    "# pyright: reportMissingImports=false\n",
    "# pyright: reportMissingModuleSource=false\n",
    "\n",
    "import uuid\n",
    "import random\n",
    "import hashlib\n",
    "import os\n",
    "import sys\n",
    "import gc\n",
    "import time\n",
    "import logging\n",
    "import re\n",
    "import pdb\n",
    "from pathlib import Path\n",
    "import datetime\n",
    "from datetime import datetime,timedelta\n",
    "import json\n",
    "import warnings\n",
    "import yaml\n",
    "from typing import Dict,Union,List,Any,Tuple\n",
    "import pytest\n",
    "import importlib\n",
    "from dotenv import load_dotenv\n",
    "import pandas as pd\n",
    "import numpy as np\n",
    "import requests\n",
    "import pandas_gbq\n",
    "from scipy import stats\n",
    "from sklearn.model_selection import ParameterGrid, ParameterSampler\n",
    "from sklearn.model_selection import train_test_split\n",
    "from sklearn.preprocessing import StandardScaler\n",
    "from sklearn.pipeline import Pipeline\n",
    "from sklearn.compose import ColumnTransformer\n",
    "from sklearn.metrics import (\n",
    "    mean_squared_error,\n",
    "    mean_absolute_error,\n",
    "    r2_score,\n",
    "    explained_variance_score,\n",
    "    mean_absolute_percentage_error,\n",
    "    roc_auc_score\n",
    ")\n",
    "from sklearn.ensemble import GradientBoostingRegressor\n",
    "from sklearn.ensemble import RandomForestRegressor\n",
    "from xgboost import XGBRegressor\n",
    "from scipy.signal import argrelextrema\n",
    "from dreams_core.googlecloud import GoogleCloud as dgc\n",
    "from dreams_core import core as dc\n",
    "import matplotlib.pyplot as plt\n",
    "import seaborn as sns\n",
    "import progressbar\n",
    "\n",
    "# load_dotenv(Path(\"../../../Local/.env\"))\n",
    "\n",
    "# Custom format function for displaying |numbers/\n",
    "pd.set_option('display.float_format', lambda x: f'{x:.12g}')\n",
    "# pd.reset_option('display.float_format')\n",
    "\n",
    "# Suppress warnings\n",
    "warnings.filterwarnings(\"ignore\", message=\"MallocStackLogging\")\n",
    "\n",
    "# silence pygame donation request\n",
    "os.environ['PYGAME_HIDE_SUPPORT_PROMPT'] = \"hide\"\n",
    "os.environ['ALERT_SOUND_FILEPATH']=\"../../../Local/assets/sounds/mixkit-alert-bells-echo-765.wav\"\n",
    "\n",
    "# Dark mode charts\n",
    "plt.rcParams['figure.facecolor'] = '#181818'  # Custom background color (dark gray in this case)\n",
    "plt.rcParams['axes.facecolor'] = '#181818'\n",
    "plt.rcParams['text.color'] = '#afc6ba'\n",
    "plt.rcParams['axes.labelcolor'] = '#afc6ba'\n",
    "plt.rcParams['xtick.color'] = '#afc6ba'\n",
    "plt.rcParams['ytick.color'] = '#afc6ba'\n",
    "plt.rcParams['axes.titlecolor'] = '#afc6ba'\n",
    "\n",
    "# import local modules\n",
    "# pyright: reportMissingImports=false\n",
    "sys.path.append('..//src')\n",
    "import utils as u\n",
    "import training_data.data_retrieval as dr\n",
    "import training_data.profits_row_imputation as pri\n",
    "import coin_wallet_metrics.coin_wallet_metrics as cwm\n",
    "import coin_wallet_metrics.indicators as ind\n",
    "import feature_engineering.feature_generation as fg\n",
    "import feature_engineering.time_windows_orchestration as tw\n",
    "import feature_engineering.flattening as flt\n",
    "import feature_engineering.data_splitting as ds\n",
    "import feature_engineering.target_variables as tv\n",
    "import feature_engineering.preprocessing as prp\n",
    "import modeling as m\n",
    "import insights.analysis as ia\n",
    "import insights.experiments as exp\n",
    "\n",
    "# Wallet modeling\n",
    "import wallet_modeling.wallet_modeling_orchestrator as wmo\n",
    "import wallet_modeling.wallet_training_data as wtd\n",
    "import wallet_modeling.model_reporting as wmr\n",
    "import wallet_modeling.wallet_model as wm\n",
    "import wallet_modeling.experiments_manager as wem\n",
    "from wallet_modeling.wallets_config_manager import WalletsConfig\n",
    "\n",
    "# Wallet features\n",
    "import wallet_features.clustering_features as wcl\n",
    "import wallet_features.market_cap_features as wmc\n",
    "import wallet_features.market_timing_features as wmt\n",
    "import wallet_features.performance_features as wpf\n",
    "import wallet_features.trading_features as wtf\n",
    "import wallet_features.transfers_features as wts\n",
    "import wallet_features.features_orchestrator as wfo\n",
    "\n",
    "# Wallet insights\n",
    "import wallet_insights.wallet_model_evaluation as wime\n",
    "import wallet_insights.wallet_validation_analysis as wiwv\n",
    "import wallet_insights.coin_validation_analysis as wicv\n",
    "import wallet_insights.coin_validation_model as wicm\n",
    "\n",
    "\n",
    "# reload all modules\n",
    "modules = [u, dr, pri, cwm, ind, fg, tw, flt, ds, tv, prp, m, ia, exp,\n",
    "           wmo, wtd, wmr, wm, wem,\n",
    "           wcl, wmc, wmt, wpf, wtf, wts, wfo,\n",
    "           wime, wiwv, wicv, wicm]\n",
    "[importlib.reload(module) for module in modules]\n",
    "\n",
    "# load all configs\n",
    "config, metrics_config, modeling_config, experiments_config = u.load_all_configs('../config')\n",
    "wallets_config = WalletsConfig.load_from_yaml('../config/wallets_config.yaml')\n",
    "wallets_config.reload()\n",
    "wallets_metrics_config = u.load_config('../config/wallets_metrics_config.yaml')\n",
    "wallets_features_config = yaml.safe_load(Path('../config/wallets_features_config.yaml').read_text(encoding='utf-8'))\n",
    "\n",
    "# configure logger\n",
    "logger = dc.setup_logger()\n",
    "logger.setLevel(logging.INFO)\n",
    "\n",
    "logger.info(\"Good morning, let's get to work\")"
   ]
  },
  {
   "cell_type": "code",
   "execution_count": null,
   "metadata": {},
   "outputs": [],
   "source": [
    "u.export_code(\n",
    "    code_directories=[\n",
    "        # 'training_data',\n",
    "        'wallet_features',\n",
    "        # 'wallet_modeling',\n",
    "        # 'wallet_insights'\n",
    "    ],\n",
    "    # include_config = True,\n",
    "    # ipynb_notebook = 'DDA-456 wallet validation performance.ipynb'\n",
    ")\n",
    "\n",
    "u.obj_mem()"
   ]
  },
  {
   "cell_type": "markdown",
   "metadata": {},
   "source": [
    "# Wallet Model Construction"
   ]
  },
  {
   "cell_type": "markdown",
   "metadata": {},
   "source": [
    "## Training Data Sequence"
   ]
  },
  {
   "cell_type": "markdown",
   "metadata": {},
   "source": [
    "### retrieve training datasets"
   ]
  },
  {
   "cell_type": "code",
   "execution_count": null,
   "metadata": {},
   "outputs": [],
   "source": [
    "[importlib.reload(module) for module in modules]\n",
    "wallets_config.reload()\n",
    "wallets_metrics_config = u.load_config('../config/wallets_metrics_config.yaml')\n",
    "wallets_features_config = yaml.safe_load(Path('../config/wallets_features_config.yaml').read_text(encoding='utf-8'))\n",
    "\n",
    "# Complete Pre-Training Profits/Market Data\n",
    "# -----------------------------------------\n",
    "# Retrieve training period datasets and save them to temp/wallet_modeling_dfs\n",
    "_,_,_ = wmo.retrieve_period_datasets(\n",
    "    wallets_config['training_data']['training_period_start'],\n",
    "    wallets_config['training_data']['training_period_end'],\n",
    "    parquet_prefix = 'training')\n"
   ]
  },
  {
   "cell_type": "markdown",
   "metadata": {},
   "source": [
    "### define cohort and clean training datasets (loadable parquet)"
   ]
  },
  {
   "cell_type": "code",
   "execution_count": null,
   "metadata": {},
   "outputs": [],
   "source": [
    "[importlib.reload(module) for module in modules]\n",
    "wallets_config.reload()\n",
    "wallets_metrics_config = u.load_config('../config/wallets_metrics_config.yaml')\n",
    "wallets_features_config = yaml.safe_load(Path('../config/wallets_features_config.yaml').read_text(encoding='utf-8'))\n",
    "\n",
    "\n",
    "\n",
    "# Add Indicators to Market Data\n",
    "# ----------------------------------------------------------\n",
    "# Load relevant parquet dfs with pre-training history\n",
    "training_market_data_df_full = pd.read_parquet(\"temp/wallet_modeling_dfs/training_market_data_df_full.parquet\")\n",
    "\n",
    "# Generate indicators and save file\n",
    "wmo.generate_training_indicators_df(training_market_data_df_full,wallets_metrics_config)\n",
    "\n",
    "\n",
    "\n",
    "# Identify Wallet Cohort\n",
    "# ----------------------------------------------------------\n",
    "# Remove market data from prior to the starting balance date\n",
    "training_market_data_df = training_market_data_df_full[training_market_data_df_full['date']\n",
    "                                                       >=wallets_config['training_data']['training_starting_balance_date']]\n",
    "del training_market_data_df_full\n",
    "gc.collect()\n",
    "\n",
    "# Retrieve full profits history\n",
    "training_profits_df_full = pd.read_parquet(\"temp/wallet_modeling_dfs/training_profits_df_full.parquet\")\n",
    "\n",
    "# Define wallet cohort\n",
    "training_wallet_cohort = wmo.define_wallet_cohort(training_profits_df_full,training_market_data_df)\n",
    "\n",
    "\n",
    "\n",
    "# Generate Cohort-Filtered Profits Data for Training Windows\n",
    "# ----------------------------------------------------------\n",
    "# Generate wallet_cohort-filtered profits_df for all training windows\n",
    "training_profits_df, training_windows_profits_dfs = wmo.split_training_window_profits_dfs(training_profits_df_full,\n",
    "                                                                         training_market_data_df,training_wallet_cohort)\n",
    "del training_profits_df_full,training_market_data_df\n",
    "gc.collect()\n",
    "\n",
    "\n",
    "\n",
    "# Retrieve Transfers Data\n",
    "# ----------------------------------------------------------\n",
    "# Transfers data retrieval for the wallet_ids in temp.wallet_modeling_training_cohort\n",
    "training_transfers_sequencing_df = wts.retrieve_transfers_sequencing()"
   ]
  },
  {
   "cell_type": "markdown",
   "metadata": {},
   "source": [
    "### generate training features"
   ]
  },
  {
   "cell_type": "code",
   "execution_count": null,
   "metadata": {},
   "outputs": [],
   "source": [
    "[importlib.reload(module) for module in modules]\n",
    "wallets_config.reload()\n",
    "\n",
    "\n",
    "# Generate Features for the Full Training Period\n",
    "# ----------------------------------------------------------\n",
    "logger.info(\"Generating features for full training period...\")\n",
    "training_market_indicators_data_df = pd.read_parquet(\"temp/wallet_modeling_dfs/training_market_indicators_data_df.parquet\")\n",
    "training_wallet_features_df = wfo.calculate_wallet_features(training_profits_df,\n",
    "                                                            training_market_indicators_data_df,\n",
    "                                                            training_transfers_sequencing_df,\n",
    "                                                            training_wallet_cohort,\n",
    "                                                            wallets_config['training_data']['training_period_start'],\n",
    "                                                            wallets_config['training_data']['training_period_end'])\n",
    "\n",
    "# Define the start of training_data_df appending a suffix for the window\n",
    "training_data_df = training_wallet_features_df.add_suffix(\"_all_windows\")\n",
    "\n",
    "# del training_profits_df,training_wallet_features_df\n",
    "gc.collect()"
   ]
  },
  {
   "cell_type": "code",
   "execution_count": null,
   "metadata": {},
   "outputs": [],
   "source": [
    "# Generate Features for Each Individual Window\n",
    "# ----------------------------------------------------------\n",
    "# Generate features for each window\n",
    "for i, window_profits_df in enumerate(training_windows_profits_dfs, 1):\n",
    "    logger.info(\"Generating features for window %s...\", i)\n",
    "\n",
    "    # Generate the features\n",
    "    window_wallet_features_df = wfo.calculate_wallet_features(window_profits_df, training_market_indicators_data_df,\n",
    "                                                             training_transfers_sequencing_df, training_wallet_cohort,\n",
    "                                                             wallets_config['training_data']['training_period_start'],\n",
    "                                                             wallets_config['training_data']['training_period_end'])\n",
    "\n",
    "    # Check for NaN values and identify problematic columns\n",
    "    nan_columns = window_wallet_features_df.columns[window_wallet_features_df.isna().any()].tolist()\n",
    "    if nan_columns:\n",
    "        raise ValueError(f\"NaN values detected in window {i} in columns: {nan_columns}\")\n",
    "\n",
    "    # Add column suffix and join to training_data_df\n",
    "    window_wallet_features_df = window_wallet_features_df.add_suffix(f'_w{i}')\n",
    "    training_data_df = training_data_df.join(window_wallet_features_df, how='left')\n",
    "\n",
    "    # Check for NaN values and identify problematic columns\n",
    "    nan_columns = training_data_df.columns[training_data_df.isna().any()].tolist()\n",
    "    if nan_columns:\n",
    "        raise ValueError(f\"NaN values detected in training_data_df after window {i} in columns: {nan_columns}\")\n",
    "\n",
    "\n",
    "del window_profits_df,window_wallet_features_df,training_market_indicators_data_df,training_transfers_sequencing_df\n",
    "gc.collect()\n",
    "\n",
    "u.obj_mem()"
   ]
  },
  {
   "cell_type": "code",
   "execution_count": null,
   "metadata": {},
   "outputs": [],
   "source": [
    "# Generate Clusters Using All Other Features\n",
    "# ----------------------------------------------------------\n",
    "# Append clustering features based on all numeric features in the base training data\n",
    "training_cluster_features_df = wcl.create_basic_cluster_features(training_data_df)\n",
    "training_cluster_features_df = training_cluster_features_df.add_prefix('cluster_')\n",
    "training_data_df = training_data_df.join(training_cluster_features_df, how='inner')\n",
    "\n",
    "\n",
    "\n",
    "# Save TRAINING_DATA_DF\n",
    "# ----------------------------------------------------------\n",
    "# Verify all input wallets exist in final output\n",
    "missing_wallets = set(training_wallet_cohort) - set(training_data_df.index)\n",
    "if missing_wallets:\n",
    "    raise ValueError(f\"Lost {len(missing_wallets)} wallets from original cohort during feature generation. First few missing: {list(missing_wallets)[:5]}\")\n",
    "\n",
    "# Save and clear from memory\n",
    "training_data_df.to_parquet(\"temp/wallet_modeling_dfs/training_data_df.parquet\",index=True)\n",
    "del training_data_df,training_cluster_features_df\n",
    "gc.collect()\n",
    "\n",
    "\n",
    "logger.info(\"Feature generation complete. Final training_df shape: %s\", training_data_df.shape)\n",
    "logger.info(f\"Current large object memory usage: {u.obj_mem()['size_mb'].sum():.1f} MB\")\n",
    "u.obj_mem()"
   ]
  },
  {
   "cell_type": "markdown",
   "metadata": {},
   "source": [
    "## Wallet Modeling"
   ]
  },
  {
   "cell_type": "markdown",
   "metadata": {},
   "source": [
    "### Retrieve modeling datasets (parquet loadable)"
   ]
  },
  {
   "cell_type": "code",
   "execution_count": null,
   "metadata": {},
   "outputs": [],
   "source": [
    "[importlib.reload(module) for module in modules]\n",
    "wallets_config.reload()\n",
    "wallets_metrics_config = u.load_config('../config/wallets_metrics_config.yaml')\n",
    "wallets_features_config = yaml.safe_load(Path('../config/wallets_features_config.yaml').read_text(encoding='utf-8'))\n",
    "\n",
    "\n",
    "# Retrieve Modeling Profits and Market Data\n",
    "# ----------------------------------------------------------\n",
    "# Retrieve full historical through modeling period datasets\n",
    "_, _, _ = wmo.retrieve_period_datasets(\n",
    "    wallets_config['training_data']['modeling_period_start'],\n",
    "    wallets_config['training_data']['modeling_period_end'],\n",
    "    parquet_prefix = 'modeling'\n",
    ")\n"
   ]
  },
  {
   "cell_type": "code",
   "execution_count": null,
   "metadata": {},
   "outputs": [],
   "source": [
    "[importlib.reload(module) for module in modules]\n",
    "wallets_config.reload()\n",
    "wallets_metrics_config = u.load_config('../config/wallets_metrics_config.yaml')\n",
    "wallets_features_config = yaml.safe_load(Path('../config/wallets_features_config.yaml').read_text(encoding='utf-8'))\n",
    "\n",
    "\n",
    "# Load parquet files\n",
    "modeling_market_data_df_full = pd.read_parquet(\"temp/wallet_modeling_dfs/modeling_market_data_df_full.parquet\")\n",
    "modeling_profits_df_full = pd.read_parquet(\"temp/wallet_modeling_dfs/modeling_profits_df_full.parquet\")\n",
    "\n",
    "\n",
    "# Remove pre-modeling period prices\n",
    "modeling_market_data_df = modeling_market_data_df_full[modeling_market_data_df_full['date']\n",
    "                                                       >=wallets_config['training_data']['modeling_starting_balance_date']]\n",
    "del modeling_market_data_df_full\n",
    "gc.collect()\n",
    "\n",
    "\n",
    "# Filter to only training wallet cohort\n",
    "training_wallet_cohort = pd.read_parquet(\"temp/wallet_modeling_dfs/training_data_df.parquet\", columns=[]).index.values\n",
    "modeling_profits_df = modeling_profits_df_full[modeling_profits_df_full['wallet_address'].isin(training_wallet_cohort)]\n",
    "del modeling_profits_df_full\n",
    "gc.collect()\n",
    "\n",
    "\n",
    "# Impute rows for period end\n",
    "modeling_profits_df = pri.impute_profits_for_multiple_dates(modeling_profits_df,\n",
    "                                                            modeling_market_data_df,\n",
    "                                                            [wallets_config['training_data']['modeling_period_end']],\n",
    "                                                            n_threads=1)\n",
    "\n",
    "\n",
    "# Assert period, save files, remove from memory\n",
    "u.assert_period(wallets_config,modeling_profits_df,'modeling')\n",
    "u.assert_period(wallets_config,modeling_market_data_df,'modeling')\n",
    "modeling_profits_df.to_parquet(\"temp/wallet_modeling_dfs/modeling_profits_df.parquet\",index=False)\n",
    "modeling_market_data_df.to_parquet(\"temp/wallet_modeling_dfs/modeling_market_data_df.parquet\",index=False)\n",
    "del modeling_profits_df,modeling_market_data_df\n",
    "gc.collect()"
   ]
  },
  {
   "cell_type": "markdown",
   "metadata": {},
   "source": [
    "### define modeling cohort and features (loadable parquet)"
   ]
  },
  {
   "cell_type": "code",
   "execution_count": null,
   "metadata": {},
   "outputs": [],
   "source": [
    "\n",
    "# Create training_cohort-Indexed modeling_wallet_features_df\n",
    "# -----------------------------------------------------------\n",
    "# Create a DataFrame with training wallet cohort as the index\n",
    "training_wallet_cohort = pd.read_parquet(\"temp/wallet_modeling_dfs/training_data_df.parquet\", columns=[]).index.values\n",
    "modeling_wallet_features_df = pd.DataFrame(index=training_wallet_cohort)\n",
    "modeling_wallet_features_df.index.name = 'wallet_address'\n",
    "\n",
    "modeling_wallet_features_df.shape"
   ]
  },
  {
   "cell_type": "code",
   "execution_count": null,
   "metadata": {},
   "outputs": [],
   "source": [
    "[importlib.reload(module) for module in modules]\n",
    "wallets_config.reload()\n",
    "\n",
    "\n",
    "# Create training_cohort-Indexed modeling_wallet_features_df\n",
    "# -----------------------------------------------------------\n",
    "# Create a DataFrame with training wallet cohort as the index\n",
    "training_wallet_cohort = pd.read_parquet(\"temp/wallet_modeling_dfs/training_data_df.parquet\", columns=[]).index.values\n",
    "modeling_wallet_features_df = pd.DataFrame(index=training_wallet_cohort)\n",
    "modeling_wallet_features_df.index.name = 'wallet_address'\n",
    "\n",
    "# Store feature sets with their prefixes for bulk renaming\n",
    "feature_column_names = {}\n",
    "\n",
    "\n",
    "# Identify Modeling Period Cohort\n",
    "# -----------------------------------------------------------\n",
    "# Retrieve trading features for all wallets in training_cohort with boolean for in_modeling_cohort\n",
    "modeling_profits_df = pd.read_parquet(\"temp/wallet_modeling_dfs/modeling_profits_df.parquet\")\n",
    "modeling_trading_features_df = wmo.identify_modeling_cohort(modeling_profits_df)\n",
    "modeling_wallet_features_df = modeling_wallet_features_df.join(modeling_trading_features_df, how='left')\\\n",
    "    .fillna({col: 0 for col in modeling_trading_features_df.columns})\n",
    "\n",
    "\n",
    "# Generate Modeling Period Performance Features\n",
    "# -----------------------------------------------------------\n",
    "# Calculate performance metrics for the training cohort (wallets with 0 activity still impact rank orders)\n",
    "modeling_performance_features_df = (wpf.calculate_performance_features(\n",
    "    modeling_wallet_features_df)\n",
    "    .copy()\n",
    "    .drop(['max_investment', 'crypto_net_gain'], axis=1))\n",
    "modeling_wallet_features_df = modeling_wallet_features_df.join(modeling_performance_features_df, how='left')\\\n",
    "    .fillna({col: 0 for col in modeling_performance_features_df.columns})"
   ]
  },
  {
   "cell_type": "markdown",
   "metadata": {},
   "source": [
    "### select target variable and build model"
   ]
  },
  {
   "cell_type": "code",
   "execution_count": null,
   "metadata": {},
   "outputs": [],
   "source": [
    "modeling_wallet_features_df.head()"
   ]
  },
  {
   "cell_type": "code",
   "execution_count": null,
   "metadata": {},
   "outputs": [],
   "source": [
    "model_results.keys()"
   ]
  },
  {
   "cell_type": "code",
   "execution_count": null,
   "metadata": {},
   "outputs": [],
   "source": [
    "[importlib.reload(module) for module in modules]\n",
    "wallets_config.reload()\n",
    "\n",
    "# Create MODELING_DF and Construct Wallet Model\n",
    "# ----------------------------------------------------------\n",
    "# Retrieve training data for the full training wallet cohort\n",
    "training_data_df = pd.read_parquet(\"temp/wallet_modeling_dfs/training_data_df.parquet\")\n",
    "\n",
    "# Filter training data to only the modeling cohort through inner join to target variable\n",
    "modeling_cohort_target_var_df = modeling_wallet_features_df[['in_modeling_cohort', wallets_config['modeling']['target_variable']]]\n",
    "\n",
    "# Run the experiment and get results\n",
    "wallet_model = wm.WalletModel(wallets_config)\n",
    "model_results = wallet_model.run_experiment(training_data_df,modeling_cohort_target_var_df)\n",
    "del training_data_df\n",
    "gc.collect()\n",
    "\n",
    "# Extract the trained model\n",
    "model = model_results['pipeline'].named_steps['regressor']\n",
    "\n",
    "# Generate and save all model artifacts\n",
    "model_id, evaluator, wallet_scores_df = wmr.generate_and_save_model_artifacts(\n",
    "    model_results=model_results,\n",
    "    base_path='../wallet_modeling'\n",
    ")\n",
    "u.notify()"
   ]
  },
  {
   "cell_type": "code",
   "execution_count": null,
   "metadata": {},
   "outputs": [],
   "source": [
    "modeling_cohort_target_var_df.describe()"
   ]
  },
  {
   "cell_type": "markdown",
   "metadata": {},
   "source": [
    "# Post Model Analysis"
   ]
  },
  {
   "cell_type": "markdown",
   "metadata": {},
   "source": [
    "### assess wallet model performance"
   ]
  },
  {
   "cell_type": "code",
   "execution_count": null,
   "metadata": {},
   "outputs": [],
   "source": [
    "[importlib.reload(module) for module in modules]\n",
    "wallets_config.reload()\n",
    "\n",
    "# Reload evaluator\n",
    "evaluator = wime.RegressionEvaluator(\n",
    "    y_train=model_results['y_train'],\n",
    "    y_true=model_results['y_test'],\n",
    "    y_pred=model_results['y_pred'],\n",
    "    training_cohort_pred=model_results['training_cohort_pred'],\n",
    "    training_cohort_actuals=model_results['training_cohort_actuals'],\n",
    "    model=model,\n",
    "    feature_names=model_results['X_train'].columns.tolist()\n",
    ")\n",
    "\n",
    "# Print results\n",
    "print(evaluator.summary_report())\n",
    "evaluator.plot_evaluation()\n",
    "\n",
    "evaluator.importance_summary()"
   ]
  },
  {
   "cell_type": "code",
   "execution_count": null,
   "metadata": {},
   "outputs": [],
   "source": [
    "pd.DataFrame(model_results['training_cohort_pred']).describe()"
   ]
  },
  {
   "cell_type": "markdown",
   "metadata": {},
   "source": [
    "### Cluster analysis"
   ]
  },
  {
   "cell_type": "code",
   "execution_count": null,
   "metadata": {},
   "outputs": [],
   "source": [
    "[importlib.reload(module) for module in modules]\n",
    "wallets_config.reload()\n",
    "\n",
    "\n",
    "# List of the x features with the highest importance in the model\n",
    "x_features = 8\n",
    "top_feature_metrics = list((pd.DataFrame(evaluator.metrics['importances'])\n",
    "                      .sort_values(by='importance',ascending=False)\n",
    "                      .head(x_features)['feature']))\n",
    "all_metrics = list(set(top_feature_metrics))\n",
    "\n",
    "# Cluster numbers\n",
    "n_clusters=4\n",
    "\n",
    "styled_df = wime.create_cluster_report(modeling_df, model_results, n_clusters, all_metrics)\n",
    "styled_df"
   ]
  },
  {
   "cell_type": "markdown",
   "metadata": {},
   "source": [
    "## Wallet Validation Period Performance"
   ]
  },
  {
   "cell_type": "markdown",
   "metadata": {},
   "source": [
    "### Retrieve validation datasets"
   ]
  },
  {
   "cell_type": "code",
   "execution_count": null,
   "metadata": {},
   "outputs": [],
   "source": [
    "[importlib.reload(module) for module in modules]\n",
    "wallets_config.reload()\n",
    "wallets_metrics_config = u.load_config('../config/wallets_metrics_config.yaml')\n",
    "wallets_features_config = yaml.safe_load(Path('../config/wallets_features_config.yaml').read_text(encoding='utf-8'))\n",
    "\n",
    "\n",
    "# Retrieve Validation Profits and Market Data\n",
    "# ----------------------------------------------------------\n",
    "# Retrieve full historical through validation period datasets\n",
    "wmo.retrieve_period_datasets(\n",
    "    wallets_config['training_data']['validation_period_start'],\n",
    "    wallets_config['training_data']['validation_period_end'],\n",
    "    parquet_prefix = 'validation'\n",
    ")"
   ]
  },
  {
   "cell_type": "code",
   "execution_count": null,
   "metadata": {},
   "outputs": [],
   "source": [
    "[importlib.reload(module) for module in modules]\n",
    "wallets_config.reload()\n",
    "\n",
    "\n",
    "# Load parquet files\n",
    "validation_market_data_df_full = pd.read_parquet(\"temp/wallet_modeling_dfs/validation_market_data_df_full.parquet\")\n",
    "validation_profits_df_full = pd.read_parquet(\"temp/wallet_modeling_dfs/validation_profits_df_full.parquet\")\n",
    "\n",
    "# Remove pre-validation period prices\n",
    "validation_market_data_df = validation_market_data_df_full[validation_market_data_df_full['date']\n",
    "                                                       >=wallets_config['training_data']['validation_period_start']]\n",
    "del validation_market_data_df_full\n",
    "gc.collect()\n",
    "\n",
    "\n",
    "# Filter to only training wallet cohort\n",
    "training_wallet_cohort = pd.read_parquet(\"temp/wallet_modeling_dfs/training_data_df.parquet\", columns=[]).index.values\n",
    "validation_profits_df = validation_profits_df_full[validation_profits_df_full['wallet_address'].isin(training_wallet_cohort)]\n",
    "del validation_profits_df_full\n",
    "gc.collect()\n",
    "\n",
    "# Impute rows for period end\n",
    "validation_profits_df = pri.impute_profits_for_multiple_dates(validation_profits_df,\n",
    "                                                              validation_market_data_df,\n",
    "                                                              [wallets_config['training_data']['validation_period_end']],\n",
    "                                                              n_threads=24)\n",
    "\n",
    "\n",
    "# Assert period, save files, remove from memory\n",
    "u.assert_period(wallets_config,validation_profits_df,'validation')\n",
    "u.assert_period(wallets_config,validation_market_data_df,'validation')\n",
    "validation_profits_df.to_parquet(\"temp/wallet_modeling_dfs/validation_profits_df.parquet\",index=False)\n",
    "validation_market_data_df.to_parquet(\"temp/wallet_modeling_dfs/validation_market_data_df.parquet\",index=False)\n",
    "del validation_profits_df,validation_market_data_df\n",
    "gc.collect()"
   ]
  },
  {
   "cell_type": "markdown",
   "metadata": {},
   "source": [
    "### generate wallet_validation_features_df"
   ]
  },
  {
   "cell_type": "code",
   "execution_count": null,
   "metadata": {},
   "outputs": [],
   "source": [
    "[importlib.reload(module) for module in modules]\n",
    "wallets_config.reload()\n",
    "\n",
    "# Load parquet\n",
    "validation_profits_df = pd.read_parquet(\"temp/wallet_modeling_dfs/modeling_profits_df.parquet\")\n",
    "validation_market_data_df = pd.read_parquet(\"temp/wallet_modeling_dfs/validation_market_data_df.parquet\")\n",
    "\n",
    "\n",
    "# Create a DataFrame with all wallets that should exist\n",
    "validation_wallet_features_df = pd.DataFrame(index=training_wallet_cohort)\n",
    "validation_wallet_features_df.index.name = 'wallet_address'\n",
    "\n",
    "\n",
    "# Calculate modeling period wallet metrics\n",
    "validation_profits_df = wtf.add_cash_flow_transfers_logic(validation_profits_df)\n",
    "trading_features_df = wtf.calculate_wallet_trading_features(validation_profits_df)\n",
    "validation_wallet_features_df = validation_wallet_features_df.join(trading_features_df, how='left')\\\n",
    "    .fillna({col: 0 for col in trading_features_df.columns})\n",
    "\n",
    "# Performance features (inner join, no fill)\n",
    "performance_features_df = (wpf.calculate_performance_features(validation_wallet_features_df)\n",
    "                                .drop(['max_investment', 'crypto_net_gain'], axis=1))  # already exist as trading features\n",
    "validation_wallet_features_df = validation_wallet_features_df.join(performance_features_df, how='inner')\n",
    "validation_wallet_features_df.describe()"
   ]
  },
  {
   "cell_type": "markdown",
   "metadata": {},
   "source": [
    "### wallet validation period trading/performance by score quantile"
   ]
  },
  {
   "cell_type": "code",
   "execution_count": null,
   "metadata": {},
   "outputs": [],
   "source": [
    "[importlib.reload(module) for module in modules]\n",
    "wallets_config.reload()\n",
    "\n",
    "# Create analysis by prediction bands\n",
    "metrics = [\n",
    "    'return',\n",
    "    'realized_return',\n",
    "    'return_unwinsorized',\n",
    "    'max_investment',\n",
    "    'crypto_net_gain',\n",
    "    'net_crypto_investment',\n",
    "    'total_volume',\n",
    "]\n",
    "\n",
    "min_wallet_volume_usd = 1000\n",
    "num_quantiles = 5\n",
    "\n",
    "wiwv.create_quantile_report(\n",
    "    validation_wallet_features_df,\n",
    "    model_results['y_pred'],\n",
    "    metrics,  # Your existing metrics list\n",
    "    num_quantiles,  # Split into quintiles\n",
    "    min_wallet_volume_usd\n",
    ")\n"
   ]
  },
  {
   "cell_type": "code",
   "execution_count": null,
   "metadata": {},
   "outputs": [],
   "source": []
  },
  {
   "cell_type": "code",
   "execution_count": null,
   "metadata": {},
   "outputs": [],
   "source": [
    "profits_df.isna().sum()"
   ]
  },
  {
   "cell_type": "markdown",
   "metadata": {},
   "source": [
    "### coin-aggregated wallet metrics by coin performance"
   ]
  },
  {
   "cell_type": "code",
   "execution_count": null,
   "metadata": {},
   "outputs": [],
   "source": [
    "[importlib.reload(module) for module in modules]\n",
    "wallets_config.reload()\n",
    "\n",
    "# Generate coin-level features about wallet behavior during the\n",
    "coin_wallet_features_df = wicv.calculate_coin_metrics_from_wallet_scores(\n",
    "    validation_profits_df,\n",
    "    wallet_scores_df,\n",
    "    validation_market_data_df\n",
    ")\n",
    "\n",
    "# Filter coins by market cap\n",
    "analyze_df = coin_wallet_features_df[\n",
    "    (coin_wallet_features_df['market_cap_filled'] >= wallets_config['coin_validation_analysis']['min_market_cap'])\n",
    "    & (coin_wallet_features_df['market_cap_filled'] <= wallets_config['coin_validation_analysis']['max_market_cap'])\n",
    "].copy()\n",
    "\n",
    "# Create styled performance analysis\n",
    "wicv.create_top_coins_wallet_metrics_report(analyze_df,percentile=90,method='median')\n"
   ]
  },
  {
   "cell_type": "markdown",
   "metadata": {},
   "source": [
    "## Basic coin model testing"
   ]
  },
  {
   "cell_type": "code",
   "execution_count": null,
   "metadata": {},
   "outputs": [],
   "source": [
    "[importlib.reload(module) for module in modules]\n",
    "wallets_config.reload()\n",
    "\n",
    "\n",
    "# 1. Generate model scores (using existing wallet model results)\n",
    "wallet_scores_df = pd.DataFrame({\n",
    "    'score': model_results['y_pred']\n",
    "}, index=model_results['X_test'].index)\n",
    "\n",
    "# 2. Prepare the modeling dataset using modeling period data\n",
    "coin_modeling_df = wicm.prepare_features_and_targets(\n",
    "    coin_validation_df=coin_validation_df,\n",
    "    modeling_profits_df=modeling_profits_df,\n",
    "    modeling_market_data_df=modeling_market_data_df,\n",
    "    wallet_scores_df=wallet_scores_df\n",
    ")\n",
    "\n",
    "# 3. Train model and get evaluation\n",
    "model, evaluator = wicm.train_coin_prediction_model(coin_modeling_df)\n",
    "\n",
    "# 4. View results\n",
    "print(evaluator.summary_report())\n",
    "evaluator.plot_evaluation()\n",
    "\n",
    "# 5. Optional: Generate feature importance summary\n",
    "evaluator.importance_summary()\n",
    "\n",
    "# 6. Optional: Analyze predictions by market cap segment\n",
    "predictions_df = pd.DataFrame({\n",
    "    'y_true': evaluator.y_true,\n",
    "    'y_pred': evaluator.y_pred,\n",
    "    'market_cap': coin_modeling_df['market_cap_filled']\n",
    "})\n",
    "\n",
    "segment_results, summary_df = wicv.analyze_market_cap_segments(predictions_df)\n",
    "wicv.plot_segment_heatmap(summary_df)"
   ]
  },
  {
   "cell_type": "code",
   "execution_count": null,
   "metadata": {},
   "outputs": [],
   "source": [
    "# Create a DataFrame with all wallets that should exist\n",
    "validation_wallet_features_df = pd.DataFrame(index=wallet_cohort)\n",
    "validation_wallet_features_df.index.name = 'wallet_address'\n",
    "\n",
    "\n",
    "# Calculate modeling period wallet metrics\n",
    "validation_profits_df = wtf.add_cash_flow_transfers_logic(validation_profits_df)\n",
    "trading_features_df = wtf.calculate_wallet_trading_features(validation_profits_df)\n",
    "validation_wallet_features_df = validation_wallet_features_df.join(trading_features_df, how='left')\\\n",
    "    .fillna({col: 0 for col in trading_features_df.columns})\n",
    "\n",
    "# Performance features (inner join, no fill)\n",
    "performance_features_df = (wpf.calculate_performance_features(validation_wallet_features_df)\n",
    "                                .drop(['max_investment', 'crypto_net_gain'], axis=1))  # already exist as trading features\n",
    "validation_wallet_features_df = validation_wallet_features_df.join(performance_features_df, how='inner')\n",
    "validation_wallet_features_df.describe()"
   ]
  },
  {
   "cell_type": "code",
   "execution_count": null,
   "metadata": {},
   "outputs": [],
   "source": [
    "# Create coin_modeling_df\n",
    "coin_modeling_df = coin_wallet_features_df.copy().drop('market_cap',axis=1)\n",
    "coin_modeling_df['coin_return_unwinsorized'] = coin_modeling_df['coin_return']\n",
    "coin_modeling_df['coin_return'] = u.winsorize(coin_modeling_df['coin_return'],0.05)\n",
    "\n",
    "# Filter coins by market cap\n",
    "coin_modeling_df = coin_modeling_df[\n",
    "    (coin_modeling_df['market_cap_filled'] >= wallets_config['coin_validation_analysis']['min_market_cap'])\n",
    "    & (coin_modeling_df['market_cap_filled'] <= wallets_config['coin_validation_analysis']['max_market_cap'])\n",
    "].copy()\n"
   ]
  },
  {
   "cell_type": "code",
   "execution_count": null,
   "metadata": {},
   "outputs": [],
   "source": [
    "coin_modeling_df"
   ]
  },
  {
   "cell_type": "code",
   "execution_count": null,
   "metadata": {},
   "outputs": [],
   "source": [
    "df = coin_modeling_df.copy()\n",
    "\n",
    "# 1. Simple feature prep and model\n",
    "X, y = wicm.prepare_features(df)\n",
    "X_train, X_test, y_train, y_test = train_test_split(X, y, test_size=0.3, random_state=42)\n",
    "\n",
    "model = XGBRegressor(\n",
    "    n_estimators=100,\n",
    "    learning_rate=0.1,\n",
    "    max_depth=3,\n",
    "    random_state=42\n",
    ")\n",
    "\n",
    "# 2. Train\n",
    "model.fit(X_train, y_train)\n",
    "\n",
    "# 3. Predict\n",
    "y_pred = model.predict(X_test)\n",
    "\n",
    "# 4. Evaluate with the fancy evaluator\n",
    "feature_names = df.columns.drop(['coin_return', 'market_cap_filled']).tolist()\n",
    "evaluator = wime.RegressionEvaluator(y_train, y_test, y_pred, model=model, feature_names=feature_names)\n",
    "\n",
    "# 5. Get the goods\n",
    "print(evaluator.summary_report())\n",
    "\n",
    "# 6. Plot everything\n",
    "evaluator.plot_evaluation()"
   ]
  },
  {
   "cell_type": "markdown",
   "metadata": {},
   "source": [
    "## Cluster analysis"
   ]
  },
  {
   "cell_type": "code",
   "execution_count": null,
   "metadata": {},
   "outputs": [],
   "source": []
  },
  {
   "cell_type": "markdown",
   "metadata": {},
   "source": [
    "## experiments beta"
   ]
  },
  {
   "cell_type": "code",
   "execution_count": null,
   "metadata": {},
   "outputs": [],
   "source": [
    "# Create modeling dataset using existing pipeline\n",
    "modeling_wallets_df = wmo.filter_modeling_period_wallets(modeling_profits_df)\n",
    "target_vars_df = wpf.calculate_performance_features(modeling_wallets_df)\n"
   ]
  },
  {
   "cell_type": "code",
   "execution_count": null,
   "metadata": {},
   "outputs": [],
   "source": [
    "### save model artifacts\n",
    "[importlib.reload(module) for module in modules]\n",
    "wallets_config.reload()\n",
    "\n",
    "# 1. Initialize dependencies\n",
    "metrics_config = {\n",
    "    'rmse': lambda y_true, y_pred: np.sqrt(mean_squared_error(y_true, y_pred)),\n",
    "    'r2': r2_score\n",
    "}\n",
    "\n",
    "# 2. Define experiment sequence\n",
    "sequence_config = {\n",
    "    'run_baseline': True,\n",
    "    'parameter_variations': {\n",
    "        'modeling': {\n",
    "            'target_variable': [\n",
    "                'max_investment',\n",
    "                'crypto_net_gain',\n",
    "                'return',\n",
    "                'realized_return',\n",
    "                'return_unwinsorized',\n",
    "                'performance_score',\n",
    "                'size_adjusted_rank'\n",
    "            ]\n",
    "        }\n",
    "    }\n",
    "}\n",
    "\n",
    "# 3. Create experiment manager\n",
    "exp_manager = wem.ExperimentsManager(\n",
    "    config=wallets_config.config,\n",
    "    training_data_df=training_data_df,\n",
    ")\n",
    "\n",
    "# 4. Run experiments and get results\n",
    "results_df = exp_manager.run_experiment_sequence(modeling_profits_df, sequence_config)\n",
    "\n",
    "# 5. View results\n",
    "print(results_df)"
   ]
  },
  {
   "cell_type": "code",
   "execution_count": null,
   "metadata": {},
   "outputs": [],
   "source": [
    "results_df"
   ]
  },
  {
   "cell_type": "markdown",
   "metadata": {},
   "source": [
    "### Validation period assessments"
   ]
  },
  {
   "cell_type": "code",
   "execution_count": null,
   "metadata": {},
   "outputs": [],
   "source": [
    "[importlib.reload(module) for module in modules]\n",
    "wallets_config.reload()\n",
    "\n",
    "wallet_performance_df, bucketed_performance_df = wicv.calculate_validation_metrics(\n",
    "    X_test=model_results['X_test'],\n",
    "    y_pred=model_results['y_pred'],\n",
    "    validation_profits_df=validation_profits_df,\n",
    "    n_buckets=10,\n",
    "    method='ntiles'\n",
    ")\n",
    "\n",
    "bucketed_performance_df"
   ]
  },
  {
   "cell_type": "markdown",
   "metadata": {},
   "source": [
    "## coin performance analysis"
   ]
  },
  {
   "cell_type": "markdown",
   "metadata": {},
   "source": [
    "### compare wallet metrics for the top n% of coins vs the others"
   ]
  },
  {
   "cell_type": "code",
   "execution_count": null,
   "metadata": {},
   "outputs": [],
   "source": [
    "[importlib.reload(module) for module in modules]\n",
    "wallets_config.reload()\n",
    "\n",
    "# Partition coin features for analysis\n",
    "analyze_df = coin_wallet_features_df[\n",
    "    (coin_wallet_features_df['market_cap_filled'] >= wallets_config['coin_validation_analysis']['min_market_cap'])\n",
    "    & (coin_wallet_features_df['market_cap_filled'] <= wallets_config['coin_validation_analysis']['max_market_cap'])\n",
    "].copy()\n",
    "\n",
    "# Create styled performance analysis\n",
    "styled_df = wicv.create_top_coins_wallet_metrics_report(analyze_df,percentile=90,method='median')\n",
    "\n",
    "# Display results\n",
    "styled_df"
   ]
  },
  {
   "cell_type": "markdown",
   "metadata": {},
   "source": [
    "### plotting coin feature performance vs market cap"
   ]
  },
  {
   "cell_type": "code",
   "execution_count": null,
   "metadata": {},
   "outputs": [],
   "source": [
    "[importlib.reload(module) for module in modules]\n",
    "wallets_config.reload()\n",
    "\n",
    "\n",
    "# Get the analysis results\n",
    "segment_results, summary_df = wicv.analyze_market_cap_segments(\n",
    "    coin_wallet_features_df,\n",
    "    top_n=10\n",
    ")\n",
    "\n",
    "# Or create the visualizations\n",
    "wicv.plot_segment_heatmap(summary_df)\n",
    "wicv.plot_metric_consistency(summary_df)  # Optional secondary visualization\n"
   ]
  },
  {
   "cell_type": "markdown",
   "metadata": {},
   "source": [
    "### coin performance of top n for each bucket"
   ]
  },
  {
   "cell_type": "code",
   "execution_count": null,
   "metadata": {},
   "outputs": [],
   "source": [
    "[importlib.reload(module) for module in modules]\n",
    "wallets_config.reload()\n",
    "\n",
    "# Run analysis\n",
    "top_n = wallets_config['coin_validation_analysis']['top_n']\n",
    "max_market_cap = wallets_config['coin_validation_analysis']['max_market_cap']\n",
    "min_market_cap = wallets_config['coin_validation_analysis']['min_market_cap']\n",
    "\n",
    "metric_top_coin_performance_df = wicv.validate_coin_performance(coin_wallet_features_df,top_n,\n",
    "                                                                max_market_cap, min_market_cap)\n",
    "\n",
    "metric_top_coin_performance_df"
   ]
  },
  {
   "cell_type": "markdown",
   "metadata": {},
   "source": [
    "### compare performance of high vs low score coins"
   ]
  },
  {
   "cell_type": "code",
   "execution_count": null,
   "metadata": {},
   "outputs": [],
   "source": [
    "coin_wallet_features_df"
   ]
  },
  {
   "cell_type": "code",
   "execution_count": null,
   "metadata": {},
   "outputs": [],
   "source": []
  },
  {
   "cell_type": "code",
   "execution_count": null,
   "metadata": {},
   "outputs": [],
   "source": [
    "[importlib.reload(module) for module in modules]\n",
    "wallets_config.reload()\n",
    "\n",
    "wicv.print_performance_analysis(coin_wallet_features_df)"
   ]
  },
  {
   "cell_type": "markdown",
   "metadata": {},
   "source": [
    "# Junkyard"
   ]
  },
  {
   "cell_type": "code",
   "execution_count": null,
   "metadata": {},
   "outputs": [],
   "source": [
    "training_profits_df[training_profits_df['date']==wallets_config['training_data']['training_starting_balance_date']]"
   ]
  },
  {
   "cell_type": "code",
   "execution_count": null,
   "metadata": {},
   "outputs": [],
   "source": [
    "training_profits_df[training_profits_df['date']==wallets_config['training_data']['training_period_end']]"
   ]
  },
  {
   "cell_type": "code",
   "execution_count": null,
   "metadata": {},
   "outputs": [],
   "source": []
  },
  {
   "cell_type": "markdown",
   "metadata": {},
   "source": [
    "### performance benchmarks"
   ]
  },
  {
   "cell_type": "code",
   "execution_count": null,
   "metadata": {},
   "outputs": [],
   "source": [
    "[importlib.reload(module) for module in modules]\n",
    "wallets_config.reload()\n",
    "wallets_metrics_config = u.load_config('../config/wallets_metrics_config.yaml')\n",
    "wallets_features_config = yaml.safe_load(Path('../config/wallets_features_config.yaml').read_text(encoding='utf-8'))\n",
    "\n",
    "\n",
    "df = u.cw_sample(training_profits_df_full,500000).copy()\n",
    "\n",
    "# Define wallet cohort\n",
    "training_wallet_cohort = wmo.define_wallet_cohort(df,training_market_data_df)\n",
    "\n",
    "\n",
    "\n",
    "# # Generate Cohort-Filtered Profits Data for Training Windows\n",
    "# # ----------------------------------------------------------\n",
    "# # Generate wallet_cohort-filtered profits_df for all training windows\n",
    "# training_profits_df, training_windows_profits_dfs = wmo.split_training_window_profits_dfs(training_profits_df_full,\n",
    "#                                                                          training_market_data_df,training_wallet_cohort)\n",
    "# del training_profits_df_full,training_market_data_df\n",
    "# gc.collect()\n",
    "\n",
    "\n",
    "\n",
    "# # Retrieve Transfers Data\n",
    "# # ----------------------------------------------------------\n",
    "# # Transfers data retrieval for the wallet_ids in temp.wallet_modeling_training_cohort\n",
    "# training_transfers_sequencing_df = wts.retrieve_transfers_sequencing()"
   ]
  },
  {
   "cell_type": "code",
   "execution_count": null,
   "metadata": {},
   "outputs": [],
   "source": []
  },
  {
   "cell_type": "code",
   "execution_count": null,
   "metadata": {},
   "outputs": [],
   "source": []
  },
  {
   "cell_type": "markdown",
   "metadata": {},
   "source": [
    "# Tests failing"
   ]
  },
  {
   "cell_type": "code",
   "execution_count": null,
   "metadata": {},
   "outputs": [],
   "source": [
    "[importlib.reload(module) for module in modules]\n",
    "wallets_config.reload()"
   ]
  },
  {
   "cell_type": "code",
   "execution_count": null,
   "metadata": {},
   "outputs": [],
   "source": [
    "\n",
    "class ProfitsValidator:\n",
    "    \"\"\"\n",
    "    Validates profits DataFrame follows expected format and constraints.\n",
    "    Only validates training period data.\n",
    "    \"\"\"\n",
    "    def validate_all(self, profits_df, training_period_start, training_period_end):\n",
    "        \"\"\"Run all validation checks and return dict of results\"\"\"\n",
    "\n",
    "        dates = {\n",
    "            'training_starting_balance_date': pd.to_datetime(training_period_start) - timedelta(days=1),\n",
    "            'training_period_start': pd.to_datetime(training_period_start),\n",
    "            'training_period_end': pd.to_datetime(training_period_end),\n",
    "        }\n",
    "\n",
    "        return {\n",
    "            'no_duplicates': self.check_no_duplicates(profits_df),\n",
    "            'period_boundaries': self.check_period_boundaries(profits_df, dates),\n",
    "            'no_negatives': self.check_no_negative_balances(profits_df),\n",
    "            'date_range': self.check_date_range(profits_df, dates),\n",
    "            'no_missing': self.check_no_missing_values(profits_df)\n",
    "        }\n",
    "\n",
    "    def check_no_duplicates(self, profits_df):\n",
    "        \"\"\"Check for duplicate records\"\"\"\n",
    "        deduped_df = profits_df[['coin_id', 'wallet_address', 'date']].drop_duplicates()\n",
    "        return len(profits_df) == len(deduped_df)\n",
    "\n",
    "    def check_period_boundaries(self, profits_df, dates):\n",
    "        \"\"\"Check records exist at period boundaries\"\"\"\n",
    "        profits_df['date'] = pd.to_datetime(profits_df['date'])\n",
    "        pairs = profits_df[['coin_id', 'wallet_address']].drop_duplicates()\n",
    "        n_pairs = len(pairs)\n",
    "\n",
    "        period_df = profits_df[profits_df['date'] == dates['training_period_end']]\n",
    "        period_pairs = period_df[['coin_id', 'wallet_address']].drop_duplicates()\n",
    "        return len(period_pairs) == n_pairs\n",
    "\n",
    "    def check_no_negative_balances(self, profits_df):\n",
    "        \"\"\"Check for negative USD balances\"\"\"\n",
    "        return (profits_df['usd_balance'] >= -0.1).all()\n",
    "\n",
    "    def check_date_range(self, profits_df, dates):\n",
    "        \"\"\"Verify date coverage\"\"\"\n",
    "        profits_df['date'] = pd.to_datetime(profits_df['date'])\n",
    "        return (profits_df['date'].min() >= dates['training_starting_balance_date'] and\n",
    "                profits_df['date'].max() == dates['training_period_end'])\n",
    "\n",
    "    def check_no_missing_values(self, profits_df):\n",
    "        \"\"\"Check for missing values\"\"\"\n",
    "        return not profits_df.isna().any().any()\n",
    "\n"
   ]
  },
  {
   "cell_type": "markdown",
   "metadata": {},
   "source": [
    "### fixtures"
   ]
  },
  {
   "cell_type": "code",
   "execution_count": null,
   "metadata": {},
   "outputs": [],
   "source": [
    "[importlib.reload(module) for module in modules]\n",
    "wallets_config.reload()\n",
    "# pylint:disable=line-too-long\n",
    "\n",
    "def test_profits_data():\n",
    "    \"\"\"\n",
    "    Returns raw profits data that can be remapped for many-to-many testing.\n",
    "    \"\"\"\n",
    "    training_period_start = '2024-01-01'\n",
    "    training_period_end = '2024-10-01'\n",
    "\n",
    "    profits_data = [\n",
    "        # w01_multiple_coins - btc & eth (multiple transactions, multiple coins)\n",
    "        {'coin_id': 'btc', 'wallet_address': 'w01_multiple_coins', 'date': '2024-01-01', 'usd_balance': 100, 'usd_net_transfers': 100, 'is_imputed': False},\n",
    "        {'coin_id': 'btc', 'wallet_address': 'w01_multiple_coins', 'date': '2024-05-01', 'usd_balance': 120, 'usd_net_transfers': 50, 'is_imputed': False},\n",
    "        {'coin_id': 'btc', 'wallet_address': 'w01_multiple_coins', 'date': '2024-10-01', 'usd_balance': 180, 'usd_net_transfers': 0, 'is_imputed': True},\n",
    "\n",
    "        {'coin_id': 'eth', 'wallet_address': 'w01_multiple_coins', 'date': '2024-01-01', 'usd_balance': 200, 'usd_net_transfers': 200, 'is_imputed': False},\n",
    "        {'coin_id': 'eth', 'wallet_address': 'w01_multiple_coins', 'date': '2024-05-01', 'usd_balance': 300, 'usd_net_transfers': 50, 'is_imputed': False},\n",
    "        {'coin_id': 'eth', 'wallet_address': 'w01_multiple_coins', 'date': '2024-10-01', 'usd_balance': 280, 'usd_net_transfers': 0, 'is_imputed': True},\n",
    "\n",
    "        # w02_net_loss - btc (net loss)\n",
    "        {'coin_id': 'btc', 'wallet_address': 'w02_net_loss', 'date': '2024-01-01', 'usd_balance': 300, 'usd_net_transfers': 300, 'is_imputed': False},\n",
    "        {'coin_id': 'btc', 'wallet_address': 'w02_net_loss', 'date': '2024-05-01', 'usd_balance': 250, 'usd_net_transfers': -100, 'is_imputed': False},\n",
    "        {'coin_id': 'btc', 'wallet_address': 'w02_net_loss', 'date': '2024-10-01', 'usd_balance': 100, 'usd_net_transfers': 0, 'is_imputed': True},\n",
    "\n",
    "        # w03_sell_all_and_rebuy\n",
    "        {'coin_id': 'eth', 'wallet_address': 'w03_sell_all_and_rebuy', 'date': '2024-01-01', 'usd_balance': 50, 'usd_net_transfers': 50, 'is_imputed': False},\n",
    "        {'coin_id': 'eth', 'wallet_address': 'w03_sell_all_and_rebuy', 'date': '2024-03-01', 'usd_balance': 0,  'usd_net_transfers': -50, 'is_imputed': False},\n",
    "        {'coin_id': 'eth', 'wallet_address': 'w03_sell_all_and_rebuy', 'date': '2024-08-01', 'usd_balance': 40, 'usd_net_transfers': 40, 'is_imputed': False},\n",
    "        {'coin_id': 'eth', 'wallet_address': 'w03_sell_all_and_rebuy', 'date': '2024-10-01', 'usd_balance': 42, 'usd_net_transfers': 0, 'is_imputed': True},\n",
    "\n",
    "        # w04_only_period_end - btc (only final row)\n",
    "        {'coin_id': 'sol', 'wallet_address': 'w04_only_period_end', 'date': '2024-10-01', 'usd_balance': 70, 'usd_net_transfers': 70, 'is_imputed': False},\n",
    "\n",
    "        # w04a_only_period_end_w_balance - btc\n",
    "        {'coin_id': 'eth', 'wallet_address': 'w04a_only_period_end_w_balance', 'date': '2023-12-31', 'usd_balance': 30, 'usd_net_transfers': 0, 'is_imputed': True},\n",
    "        {'coin_id': 'eth', 'wallet_address': 'w04a_only_period_end_w_balance', 'date': '2024-10-01', 'usd_balance': 90, 'usd_net_transfers': 50, 'is_imputed': False},\n",
    "\n",
    "        # w04b_only_period_start_buy\n",
    "        {'coin_id': 'sol', 'wallet_address': 'w04b_only_period_start_buy', 'date': '2024-01-01', 'usd_balance': 300, 'usd_net_transfers': 300, 'is_imputed': False},\n",
    "        {'coin_id': 'sol', 'wallet_address': 'w04b_only_period_start_buy', 'date': '2024-10-01', 'usd_balance': 900, 'usd_net_transfers': 0, 'is_imputed': True},\n",
    "\n",
    "        # w04c_only_period_start_buy_w_existing_balance\n",
    "        {'coin_id': 'btc', 'wallet_address': 'w04c_only_period_start_buy_w_existing_balance', 'date': '2023-12-31', 'usd_balance': 40, 'usd_net_transfers': 0, 'is_imputed': True},\n",
    "        {'coin_id': 'btc', 'wallet_address': 'w04c_only_period_start_buy_w_existing_balance', 'date': '2024-01-01', 'usd_balance': 350, 'usd_net_transfers': 300, 'is_imputed': False},\n",
    "        {'coin_id': 'btc', 'wallet_address': 'w04c_only_period_start_buy_w_existing_balance', 'date': '2024-10-01', 'usd_balance': 1050, 'usd_net_transfers': 0, 'is_imputed': True},\n",
    "\n",
    "        # w04d_only_period_start_sell\n",
    "        {'coin_id': 'sol', 'wallet_address': 'w04d_only_period_start_sell', 'date': '2023-12-31', 'usd_balance': 200, 'usd_net_transfers': 0, 'is_imputed': True},\n",
    "        {'coin_id': 'sol', 'wallet_address': 'w04d_only_period_start_sell', 'date': '2024-01-01', 'usd_balance': 0, 'usd_net_transfers': -200, 'is_imputed': False},\n",
    "        {'coin_id': 'sol', 'wallet_address': 'w04d_only_period_start_sell', 'date': '2024-10-01', 'usd_balance': 0, 'usd_net_transfers': 0, 'is_imputed': True},\n",
    "\n",
    "        # w04e_only_period_start_sell_partial\n",
    "        {'coin_id': 'btc', 'wallet_address': 'w04e_only_period_start_sell_partial', 'date': '2023-12-31', 'usd_balance': 510, 'usd_net_transfers': 0, 'is_imputed': True},\n",
    "        {'coin_id': 'btc', 'wallet_address': 'w04e_only_period_start_sell_partial', 'date': '2024-01-01', 'usd_balance': 500, 'usd_net_transfers': -10, 'is_imputed': False},\n",
    "        {'coin_id': 'btc', 'wallet_address': 'w04e_only_period_start_sell_partial', 'date': '2024-10-01', 'usd_balance': 600, 'usd_net_transfers': 0, 'is_imputed': True},\n",
    "\n",
    "        # w05_only_imputed - btc (only imputed rows at start and end)\n",
    "        {'coin_id': 'sol', 'wallet_address': 'w05_only_imputed', 'date': '2023-12-31', 'usd_balance': 50, 'usd_net_transfers': 0, 'is_imputed': True},\n",
    "        {'coin_id': 'sol', 'wallet_address': 'w05_only_imputed', 'date': '2024-10-01', 'usd_balance': 70, 'usd_net_transfers': 0, 'is_imputed': True},\n",
    "\n",
    "        # w06_tiny_transactions - very small transactions relative to portfolio size\n",
    "        {'coin_id': 'myro', 'wallet_address': 'w06_tiny_transactions', 'date': '2023-12-31', 'usd_balance': 1250, 'usd_net_transfers': 0, 'is_imputed': True},\n",
    "        {'coin_id': 'myro', 'wallet_address': 'w06_tiny_transactions', 'date': '2024-02-01', 'usd_balance': 1220, 'usd_net_transfers': 1, 'is_imputed': False},\n",
    "        {'coin_id': 'myro', 'wallet_address': 'w06_tiny_transactions', 'date': '2024-08-01', 'usd_balance': 0, 'usd_net_transfers': -350, 'is_imputed': False},\n",
    "        {'coin_id': 'myro', 'wallet_address': 'w06_tiny_transactions', 'date': '2024-10-01', 'usd_balance': 0, 'usd_net_transfers': 0, 'is_imputed': True},\n",
    "\n",
    "        # w07_tiny_transactions2 - very small transactions relative to portfolio size\n",
    "        {'coin_id': 'floki', 'wallet_address': 'w07_tiny_transactions2', 'date': '2023-12-31', 'usd_balance': 400, 'usd_net_transfers': 0, 'is_imputed': True},\n",
    "        {'coin_id': 'floki', 'wallet_address': 'w07_tiny_transactions2', 'date': '2024-02-01', 'usd_balance': 1220, 'usd_net_transfers': -20, 'is_imputed': False},\n",
    "        {'coin_id': 'floki', 'wallet_address': 'w07_tiny_transactions2', 'date': '2024-08-01', 'usd_balance': 0, 'usd_net_transfers': -150, 'is_imputed': False},\n",
    "        {'coin_id': 'floki', 'wallet_address': 'w07_tiny_transactions2', 'date': '2024-10-01', 'usd_balance': 0, 'usd_net_transfers': 0, 'is_imputed': True},\n",
    "\n",
    "        # w08_offsetting_transactions - large offsetting transactions in the middle of the period\n",
    "        {'coin_id': 'sol', 'wallet_address': 'w08_offsetting_transactions', 'date': '2023-12-31', 'usd_balance': 500, 'usd_net_transfers': 0, 'is_imputed': True},\n",
    "        {'coin_id': 'sol', 'wallet_address': 'w08_offsetting_transactions', 'date': '2024-02-01', 'usd_balance': 10400, 'usd_net_transfers': 10000, 'is_imputed': False},\n",
    "        {'coin_id': 'sol', 'wallet_address': 'w08_offsetting_transactions', 'date': '2024-02-02', 'usd_balance': 400, 'usd_net_transfers': -10000, 'is_imputed': False},\n",
    "        {'coin_id': 'sol', 'wallet_address': 'w08_offsetting_transactions', 'date': '2024-10-01', 'usd_balance': 750, 'usd_net_transfers': 0, 'is_imputed': True},\n",
    "\n",
    "        # w09_memecoin_winner - Large swings in portfolio value\n",
    "        {'coin_id': 'floki', 'wallet_address': 'w09_memecoin_winner', 'date': '2024-01-01', 'usd_balance': 100, 'usd_net_transfers': 100, 'is_imputed': False},\n",
    "        {'coin_id': 'floki', 'wallet_address': 'w09_memecoin_winner', 'date': '2024-03-01', 'usd_balance': 250, 'usd_net_transfers': -500, 'is_imputed': False},\n",
    "        {'coin_id': 'floki', 'wallet_address': 'w09_memecoin_winner', 'date': '2024-05-01', 'usd_balance': 50, 'usd_net_transfers': -100, 'is_imputed': False},\n",
    "        {'coin_id': 'floki', 'wallet_address': 'w09_memecoin_winner', 'date': '2024-10-01', 'usd_balance': 10, 'usd_net_transfers': 0, 'is_imputed': True},\n",
    "\n",
    "        # w10_memecoin_loser - Large swings in portfolio value\n",
    "        {'coin_id': 'myro', 'wallet_address': 'w10_memecoin_loser', 'date': '2024-03-01', 'usd_balance': 250, 'usd_net_transfers': 250, 'is_imputed': False},\n",
    "        {'coin_id': 'myro', 'wallet_address': 'w10_memecoin_loser', 'date': '2024-10-01', 'usd_balance': 0, 'usd_net_transfers': -20, 'is_imputed': False},\n",
    "\n",
    "        # w11_sells_early\n",
    "        {'coin_id': 'btc', 'wallet_address': 'w11_sells_early', 'date': '2024-03-01', 'usd_balance': 0, 'usd_net_transfers': 0, 'is_imputed': True},\n",
    "        {'coin_id': 'btc', 'wallet_address': 'w11_sells_early', 'date': '2024-04-01', 'usd_balance': 250, 'usd_net_transfers': 250, 'is_imputed': False},\n",
    "        {'coin_id': 'btc', 'wallet_address': 'w11_sells_early', 'date': '2024-5-01', 'usd_balance': 0, 'usd_net_transfers': -300, 'is_imputed': False},\n",
    "        {'coin_id': 'btc', 'wallet_address': 'w11_sells_early', 'date': '2024-10-01', 'usd_balance': 0, 'usd_net_transfers': 0, 'is_imputed': True},\n",
    "\n",
    "        # w12_buys_late\n",
    "        {'coin_id': 'sol', 'wallet_address': 'w12_buys_late', 'date': '2024-03-01', 'usd_balance': 0, 'usd_net_transfers': 0, 'is_imputed': True},\n",
    "        {'coin_id': 'sol', 'wallet_address': 'w12_buys_late', 'date': '2024-09-01', 'usd_balance': 500, 'usd_net_transfers': 250, 'is_imputed': False},\n",
    "        {'coin_id': 'sol', 'wallet_address': 'w12_buys_late', 'date': '2024-10-01', 'usd_balance': 550, 'usd_net_transfers': 0, 'is_imputed': True},\n",
    "    ]\n",
    "\n",
    "    return pd.DataFrame(profits_data), training_period_start, training_period_end\n",
    "\n",
    "\n",
    "\n",
    "test_profits_data = test_profits_data()\n",
    "\n",
    "def test_profits_df(test_profits_data):\n",
    "    \"\"\"\n",
    "    Returns test profits DataFrame with cash flow transfers added.\n",
    "    \"\"\"\n",
    "    profits_df, training_period_start, training_period_end = test_profits_data\n",
    "    profits_df = profits_df.copy()\n",
    "\n",
    "    # Validate test data format before proceeding\n",
    "    validator = ProfitsValidator()\n",
    "    validation_results = validator.validate_all(\n",
    "        profits_df,\n",
    "        training_period_start,\n",
    "        training_period_end\n",
    "    )\n",
    "    assert all(validation_results.values()), \"Test data failed validation checks.\"\n",
    "\n",
    "    # Remove rows with a rounded 0 balance and 0 transfers which happens in wmo.retrieve_datasets() once validation checks are passed\n",
    "    profits_df = profits_df[\n",
    "        ~((profits_df['usd_balance'] == 0) &\n",
    "        (profits_df['usd_net_transfers'] == 0))\n",
    "    ]\n",
    "\n",
    "\n",
    "    return profits_df,training_period_start, training_period_end\n",
    "\n",
    "test_profits_df, training_period_start, training_period_end = test_profits_df(test_profits_data)\n"
   ]
  },
  {
   "cell_type": "markdown",
   "metadata": {},
   "source": [
    "### remap"
   ]
  },
  {
   "cell_type": "code",
   "execution_count": null,
   "metadata": {},
   "outputs": [],
   "source": [
    "[importlib.reload(module) for module in modules]\n",
    "wallets_config.reload()\n",
    "\n",
    "def test_trading_features_df(test_profits_df):\n",
    "    \"\"\"\n",
    "    Returns trading features computed from test profits data.\n",
    "    \"\"\"\n",
    "\n",
    "    # Compute trading features\n",
    "    wallet_trading_features_df = wtf.calculate_wallet_trading_features(test_profits_df,\n",
    "                                                                       training_period_start,\n",
    "                                                                       training_period_end)\n",
    "\n",
    "    # Return dates for recalculation\n",
    "    return wallet_trading_features_df, training_period_start, training_period_end\n",
    "\n",
    "test_trading_features_df, training_period_start, training_period_end = test_trading_features_df(test_profits_df.copy())"
   ]
  },
  {
   "cell_type": "code",
   "execution_count": null,
   "metadata": {},
   "outputs": [],
   "source": [
    "def test_remapped_profits_df(test_profits_data):\n",
    "    \"\"\"\n",
    "    Remaps the base profits data so many wallets hold many of the same coins and adds cash flow transfers.\n",
    "    \"\"\"\n",
    "    # Reassign wallets to create a lot of overlap\n",
    "    reassign_dict = {\n",
    "        'w01_multiple_coins': 'w1',\n",
    "        'w02_net_loss': 'w2',\n",
    "        'w03_sell_all_and_rebuy': 'w2',\n",
    "        'w04_only_period_end': 'w3',\n",
    "        'w04a_only_period_end_w_balance': 'w3',\n",
    "        'w04b_only_period_start_buy': 'w2',\n",
    "        'w04c_only_period_start_buy_w_existing_balance': 'w4',\n",
    "        'w04d_only_period_start_sell': 'w4',\n",
    "        'w04e_only_period_start_sell_partial': 'w5',\n",
    "        'w05_only_imputed': 'w5',\n",
    "        'w06_tiny_transactions': 'w5',\n",
    "        'w07_tiny_transactions2': 'w2',\n",
    "        'w08_offsetting_transactions': 'w1',\n",
    "        'w09_memecoin_winner': 'w3',\n",
    "        'w10_memecoin_loser': 'w4',\n",
    "        'w11_sells_early': 'w6',\n",
    "        'w12_buys_late': 'w6'\n",
    "    }\n",
    "    profits_df, training_period_start, training_period_end = test_profits_data\n",
    "    remapped_profits_df = profits_df.copy()\n",
    "    remapped_profits_df['wallet_address_original'] = remapped_profits_df['wallet_address']\n",
    "    remapped_profits_df['wallet_address'] = remapped_profits_df['wallet_address'].map(reassign_dict)\n",
    "\n",
    "    # Rest of the sequence remains unchanged\n",
    "    profits_df = remapped_profits_df.copy()\n",
    "    training_period_start = '2024-01-01'\n",
    "    training_period_end = '2024-10-01'\n",
    "\n",
    "    # Validate test data format before proceeding\n",
    "    validator = ProfitsValidator()\n",
    "    validation_results = validator.validate_all(\n",
    "        profits_df,\n",
    "        training_period_start,\n",
    "        training_period_end\n",
    "    )\n",
    "    assert all(validation_results.values()), \"Test data failed validation checks.\"\n",
    "\n",
    "    # Remove rows with a rounded 0 balance and 0 transfers which happens in wmo.retrieve_datasets() once validation checks are passed\n",
    "    profits_df = profits_df[\n",
    "        ~((profits_df['usd_balance'] == 0) &\n",
    "        (profits_df['usd_net_transfers'] == 0))\n",
    "    ]\n",
    "\n",
    "    # Confirm that all the addresses have been mapped\n",
    "    expected_addresses = ['w1', 'w2', 'w3', 'w4', 'w5', 'w6']\n",
    "    assert sorted(list(profits_df['wallet_address'].unique())) == expected_addresses\n",
    "\n",
    "    return profits_df, training_period_start, training_period_end\n",
    "\n",
    "\n",
    "test_remapped_profits_df, training_period_start, training_period_end = test_remapped_profits_df(test_profits_data)\n",
    "\n",
    "def test_remapped_trading_features_df(test_remapped_profits_df):\n",
    "    \"\"\"\n",
    "    Returns trading features computed from test profits data.\n",
    "    \"\"\"\n",
    "    # Compute trading features\n",
    "    remapped_wallet_trading_features_df = wtf.calculate_wallet_trading_features(test_remapped_profits_df,\n",
    "                                                                       training_period_start,\n",
    "                                                                       training_period_end)\n",
    "\n",
    "    # Confirm that all the addresses have been mapped\n",
    "    expected_addresses = ['w1', 'w2', 'w3', 'w4', 'w5', 'w6']\n",
    "    assert sorted(list(remapped_wallet_trading_features_df.index.values)) == expected_addresses\n",
    "\n",
    "    return remapped_wallet_trading_features_df\n",
    "\n",
    "test_remapped_trading_features_df =test_remapped_trading_features_df(test_remapped_profits_df)"
   ]
  },
  {
   "cell_type": "code",
   "execution_count": null,
   "metadata": {},
   "outputs": [],
   "source": [
    "test_remapped_trading_features_df"
   ]
  },
  {
   "cell_type": "markdown",
   "metadata": {},
   "source": [
    "### codespace"
   ]
  },
  {
   "cell_type": "code",
   "execution_count": null,
   "metadata": {},
   "outputs": [],
   "source": [
    "test_trading_features_df.describe()"
   ]
  },
  {
   "cell_type": "code",
   "execution_count": null,
   "metadata": {},
   "outputs": [],
   "source": [
    "[importlib.reload(module) for module in modules]\n",
    "wallets_config.reload()\n",
    "\n",
    "w = 'w09_memecoin_winner'\n",
    "# w = 'w04c_only_period_start_buy_w_existing_balance'\n",
    "\n",
    "crypto_cols_profits_df = wtf.calculate_crypto_balance_columns(test_profits_df.copy(),training_period_start)\n",
    "\n",
    "display(crypto_cols_profits_df[crypto_cols_profits_df['wallet_address']==w])\n",
    "test_trading_features_df.loc[w]"
   ]
  },
  {
   "cell_type": "code",
   "execution_count": null,
   "metadata": {},
   "outputs": [],
   "source": [
    "# Filter to test case wallet\n",
    "wallet = 'w09_memecoin_winner'\n",
    "wallet_features = test_trading_features_df.loc[wallet]\n",
    "\n",
    "# Calculate expected values\n",
    "# total_crypto_buys: initial 100 buy\n",
    "expected_buys = 100\n",
    "\n",
    "# total_crypto_sells: 500 + 100 = 600 in sells\n",
    "expected_sells = 600\n",
    "\n",
    "# net_crypto_investment: 100 - 600 = -500\n",
    "expected_net = -500\n",
    "\n",
    "# crypto_net_gain: 10 ending - (-500 net investment) = 510\n",
    "expected_gain = 510\n",
    "\n",
    "# transaction_days: 2 days with non-imputed transactions (3/1 and 5/1)\n",
    "expected_txn_days = 3\n",
    "\n",
    "# unique_coins_traded: only traded floki\n",
    "expected_coins = 1\n",
    "\n",
    "# total_volume: abs(500) + abs(100) + 100 = 700\n",
    "expected_volume = 700  # |100| + |500| + |100| = 700\n",
    "\n",
    "# average_transaction: 600 / 2 = 300\n",
    "expected_avg_txn = 700/3  # 233.33\n",
    "\n",
    "\n",
    "# time_weighted_balance:\n",
    "# 100 * 60 days (1/1-3/1) = 6000\n",
    "# 33.333 * 61 days (3/1-5/1) = 2033.333\n",
    "# 11.111 * 153 days (5/1-10/1) = 1700\n",
    "# ((100 * 59) + (250 * 61) + (50 * 153)) / (59 + 61 + 153)\n",
    "expected_twb = ((100 * 60) + (33.3333 * 61) + (11.1111 * 153)) / (59 + 61 + 153) # 35.65\n",
    "\n",
    "expected_density = 3 / 274\n",
    "\n",
    "expected_ratio = 700 / 35.65322\n",
    "\n",
    "# Assert all values match\n",
    "assert wallet_features['total_crypto_buys'] == expected_buys\n",
    "assert wallet_features['total_crypto_sells'] == expected_sells\n",
    "assert wallet_features['net_crypto_investment'] == expected_net\n",
    "assert wallet_features['crypto_net_gain'] == expected_gain\n",
    "assert wallet_features['transaction_days'] == expected_txn_days\n",
    "assert wallet_features['unique_coins_traded'] == expected_coins\n",
    "assert wallet_features['total_volume'] == expected_volume\n",
    "assert wallet_features['average_transaction'] == expected_avg_txn\n",
    "assert np.isclose(wallet_features['time_weighted_balance'], expected_twb, rtol=1e-2)\n",
    "assert np.isclose(wallet_features['activity_density'], expected_density, rtol=1e-2)\n",
    "assert np.isclose(wallet_features['volume_vs_twb_ratio'], expected_ratio, rtol=1e-2)"
   ]
  },
  {
   "cell_type": "code",
   "execution_count": null,
   "metadata": {},
   "outputs": [],
   "source": [
    "wallet_features['time_weighted_balance']"
   ]
  },
  {
   "cell_type": "code",
   "execution_count": null,
   "metadata": {},
   "outputs": [],
   "source": []
  },
  {
   "cell_type": "code",
   "execution_count": null,
   "metadata": {},
   "outputs": [],
   "source": []
  },
  {
   "cell_type": "code",
   "execution_count": null,
   "metadata": {},
   "outputs": [],
   "source": []
  },
  {
   "cell_type": "code",
   "execution_count": null,
   "metadata": {},
   "outputs": [],
   "source": [
    "@pytest.mark.unit\n",
    "def test_ratio_metrics_after_remapping(test_profits_df,\n",
    "                                     test_remapped_profits_df,\n",
    "                                     test_remapped_trading_features_df):\n",
    "    \"\"\"\n",
    "    Verifies ratio-based metrics are calculated correctly after wallet remapping.\n",
    "\n",
    "    Tests:\n",
    "    1. average_transaction = total_volume / num_transactions\n",
    "    2. volume_vs_twb_ratio = total_volume / time_weighted_balance\n",
    "    \"\"\"\n",
    "    # Unpack tuples\n",
    "    test_profits_df, _, _ = test_profits_df\n",
    "    test_remapped_profits_df, _, _ = test_remapped_profits_df\n",
    "\n",
    "    # Create mapping from original to new wallets\n",
    "    wallet_mapping = (test_remapped_profits_df[['wallet_address', 'wallet_address_original']]\n",
    "                        .drop_duplicates()\n",
    "                        .set_index('wallet_address_original')['wallet_address'])\n",
    "\n",
    "    # Count transactions and sum volumes for non-imputed rows\n",
    "    metrics = (test_profits_df[~test_profits_df['is_imputed']]\n",
    "                .assign(new_wallet=lambda x: x['wallet_address'].map(wallet_mapping))\n",
    "                .groupby('new_wallet')\n",
    "                .agg(\n",
    "                    txn_count=('usd_net_transfers', 'size'),\n",
    "                    total_volume=('usd_net_transfers', lambda x: abs(x).sum())\n",
    "                ))\n",
    "\n",
    "    expected_avg_transaction = (metrics['total_volume'] / metrics['txn_count']).sort_index()\n",
    "\n",
    "    # Get actual metrics\n",
    "    actual = test_remapped_trading_features_df[[\n",
    "        'average_transaction',\n",
    "        'volume_vs_twb_ratio'\n",
    "    ]].sort_index()\n",
    "\n",
    "    # Compare metrics\n",
    "    assert np.allclose(expected_avg_transaction, actual['average_transaction'], rtol=1e-2), \\\n",
    "        \"Average transaction doesn't match after remapping\"\n",
    "\n",
    "    # Verify volume_vs_twb_ratio calculation\n",
    "    expected_ratio = np.where(\n",
    "        test_remapped_trading_features_df['time_weighted_balance'] > 0,\n",
    "        test_remapped_trading_features_df['total_volume'] /\n",
    "        test_remapped_trading_features_df['time_weighted_balance'],\n",
    "        0\n",
    "    )\n",
    "    assert np.allclose(expected_ratio, actual['volume_vs_twb_ratio'], rtol=1e-2), \\\n",
    "        \"Volume vs TWB ratio doesn't match expected calculation\""
   ]
  },
  {
   "cell_type": "code",
   "execution_count": null,
   "metadata": {},
   "outputs": [],
   "source": [
    "test_profits_df"
   ]
  },
  {
   "cell_type": "code",
   "execution_count": null,
   "metadata": {},
   "outputs": [],
   "source": [
    "period_days"
   ]
  },
  {
   "cell_type": "code",
   "execution_count": null,
   "metadata": {},
   "outputs": [],
   "source": [
    "expected_density"
   ]
  },
  {
   "cell_type": "code",
   "execution_count": null,
   "metadata": {},
   "outputs": [],
   "source": [
    "actual"
   ]
  },
  {
   "cell_type": "code",
   "execution_count": null,
   "metadata": {},
   "outputs": [],
   "source": []
  },
  {
   "cell_type": "code",
   "execution_count": null,
   "metadata": {},
   "outputs": [],
   "source": [
    "test_profits_df.head()"
   ]
  },
  {
   "cell_type": "code",
   "execution_count": null,
   "metadata": {},
   "outputs": [],
   "source": [
    "test_trading_features_df.head()"
   ]
  },
  {
   "cell_type": "code",
   "execution_count": null,
   "metadata": {},
   "outputs": [],
   "source": [
    "\n",
    "expected = (\n",
    "    test_trading_features_df['total_volume'] /\n",
    "    test_trading_features_df['time_weighted_balance']\n",
    ")\n",
    "actual = test_trading_features_df['volume_vs_twb_ratio']\n",
    "# assert np.allclose(actual, expected, rtol=1e-2)\n",
    "\n",
    "expected"
   ]
  },
  {
   "cell_type": "code",
   "execution_count": null,
   "metadata": {},
   "outputs": [],
   "source": [
    "# Unpack tuples\n",
    "test_profits_df, _, _ = test_profits_df\n",
    "test_remapped_profits_df, _, _ = test_remapped_profits_df\n",
    "\n",
    "# Create mapping from original to new wallets\n",
    "wallet_mapping = (test_remapped_profits_df[['wallet_address', 'wallet_address_original']]\n",
    "                    .drop_duplicates()\n",
    "                    .set_index('wallet_address_original')['wallet_address'])\n",
    "\n",
    "# Calculate expected transaction days (non-imputed activity)\n",
    "active_dates = (test_profits_df[~test_profits_df['is_imputed']]\n",
    "                .assign(new_wallet=lambda x: x['wallet_address'].map(wallet_mapping))\n",
    "                .groupby('new_wallet')['date']\n",
    "                .nunique()\n",
    "                .sort_index())\n",
    "\n",
    "# Calculate expected unique coins\n",
    "unique_coins = (test_profits_df[~test_profits_df['is_imputed']]\n",
    "                .assign(new_wallet=lambda x: x['wallet_address'].map(wallet_mapping))\n",
    "                .groupby('new_wallet')['coin_id']\n",
    "                .nunique()\n",
    "                .sort_index())\n",
    "\n",
    "# Calculate expected activity density\n",
    "period_days = (pd.to_datetime(test_profits_df['date']).max() -\n",
    "                pd.to_datetime(test_profits_df['date']).min()).days + 1\n",
    "expected_density = active_dates / period_days\n",
    "\n",
    "# Get actual metrics, sorted for comparison\n",
    "actual = test_remapped_trading_features_df[[\n",
    "    'transaction_days',\n",
    "    'unique_coins_traded',\n",
    "    'activity_density'\n",
    "]].sort_index()\n",
    "\n",
    "# Compare each metric with specific error messages\n",
    "assert np.allclose(active_dates, actual['transaction_days'], equal_nan=True), \\\n",
    "    \"Transaction days don't match after remapping\"\n",
    "assert np.allclose(unique_coins, actual['unique_coins_traded'], equal_nan=True), \\\n",
    "    \"Unique coins traded don't match after remapping\"\n",
    "assert np.allclose(expected_density, actual['activity_density'], equal_nan=True), \\\n",
    "    \"Activity density doesn't match after remapping\""
   ]
  },
  {
   "cell_type": "code",
   "execution_count": null,
   "metadata": {},
   "outputs": [],
   "source": [
    "((100 * 60) + (33.3333 * 61) + (11.1111 * 153)) / (59 + 61 + 153)"
   ]
  },
  {
   "cell_type": "code",
   "execution_count": null,
   "metadata": {},
   "outputs": [],
   "source": [
    "pd.to_datetime(period_start_date)"
   ]
  },
  {
   "cell_type": "code",
   "execution_count": null,
   "metadata": {},
   "outputs": [],
   "source": [
    "profits_df.dtypes"
   ]
  },
  {
   "cell_type": "code",
   "execution_count": null,
   "metadata": {},
   "outputs": [],
   "source": [
    "profits_df = crypto_cols_profits_df[crypto_cols_profits_df['wallet_address']==w].copy(8)\n",
    "period_start_date = training_period_start\n",
    "\n",
    "# Sort by date and calculate holding period for each balance\n",
    "profits_df = profits_df.sort_values(['wallet_address', 'coin_id', 'date'])\n",
    "\n",
    "\n",
    "# Calculate days held for each balance level\n",
    "profits_df['next_date'] = profits_df.groupby(['wallet_address', 'coin_id'])['date'].shift(-1)\n",
    "profits_df['days_held'] = (\n",
    "    profits_df['next_date'] - profits_df['date']\n",
    ").dt.total_seconds() / (24 * 60 * 60)\n",
    "\n",
    "# For the final period of each coin, use the last known date\n",
    "last_mask = profits_df['next_date'].isna()\n",
    "profits_df.loc[last_mask, 'days_held'] = 0\n",
    "\n",
    "# Calculate weighted cost (balance * days held)\n",
    "profits_df['weighted_cost'] = profits_df['crypto_cost_basis'] * profits_df['days_held']\n",
    "\n",
    "# First group by wallet-coin to get coin-level TWB\n",
    "coin_level_twb = profits_df.groupby(['wallet_address', 'coin_id']).agg(\n",
    "    total_days=('days_held', 'sum'),\n",
    "    sum_weighted_cost=('weighted_cost', 'sum')\n",
    ")\n",
    "coin_level_twb['coin_twb'] = (\n",
    "    coin_level_twb['sum_weighted_cost'] / coin_level_twb['total_days']\n",
    ")\n",
    "\n",
    "# Then sum up to wallet level\n",
    "wallet_twb = coin_level_twb.groupby('wallet_address')['coin_twb'].sum()\n",
    "\n",
    "profits_df"
   ]
  },
  {
   "cell_type": "code",
   "execution_count": null,
   "metadata": {},
   "outputs": [],
   "source": [
    "profits_df['start_date'] = greatest(profits_df['date'],period_start_date)"
   ]
  },
  {
   "cell_type": "code",
   "execution_count": null,
   "metadata": {},
   "outputs": [],
   "source": [
    "((500 * 32) + (10500 * 1) + (242 * (10500 * (1 - (10000/10400))))) / (32 + 1 + 242)\n"
   ]
  },
  {
   "cell_type": "code",
   "execution_count": null,
   "metadata": {},
   "outputs": [],
   "source": [
    "(242 * (10500 * (1 - (10000/10400))))"
   ]
  },
  {
   "cell_type": "code",
   "execution_count": null,
   "metadata": {},
   "outputs": [],
   "source": [
    "20000/451.7482"
   ]
  },
  {
   "cell_type": "code",
   "execution_count": null,
   "metadata": {},
   "outputs": [],
   "source": []
  }
 ],
 "metadata": {
  "kernelspec": {
   "display_name": "Python 3",
   "language": "python",
   "name": "python3"
  },
  "language_info": {
   "codemirror_mode": {
    "name": "ipython",
    "version": 3
   },
   "file_extension": ".py",
   "mimetype": "text/x-python",
   "name": "python",
   "nbconvert_exporter": "python",
   "pygments_lexer": "ipython3",
   "version": "3.11.9"
  }
 },
 "nbformat": 4,
 "nbformat_minor": 2
}
