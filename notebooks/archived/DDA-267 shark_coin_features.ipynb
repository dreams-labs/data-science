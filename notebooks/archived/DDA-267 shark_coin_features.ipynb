{
 "cells": [
  {
   "cell_type": "code",
   "execution_count": 20,
   "metadata": {},
   "outputs": [],
   "source": [
    "import sys\n",
    "import os\n",
    "import time\n",
    "import logging\n",
    "import datetime\n",
    "from datetime import datetime, timedelta\n",
    "import yaml\n",
    "import importlib\n",
    "from dotenv import load_dotenv\n",
    "import pandas as pd\n",
    "import numpy as np\n",
    "import requests\n",
    "import pandas_gbq\n",
    "from dreams_core.googlecloud import GoogleCloud as dgc\n",
    "from dreams_core import core as dc\n",
    "import matplotlib.pyplot as plt\n",
    "from scipy.signal import argrelextrema\n",
    "\n",
    "# load dotenv\n",
    "load_dotenv()\n",
    "\n",
    "\n",
    "# import local files if necessary\n",
    "sys.path.append('..//src')\n",
    "from utils import load_config, cw_filter_df\n",
    "import training_data as td\n",
    "importlib.reload(td)\n",
    "import feature_engineering as fe\n",
    "importlib.reload(fe)\n",
    "import coin_wallet_metrics as cwm\n",
    "importlib.reload(cwm)\n",
    "\n",
    "\n",
    "# configure logger\n",
    "logger = dc.setup_logger()\n",
    "logger.setLevel(logging.INFO)\n",
    "\n",
    "# Custom format function for displaying numbers\n",
    "pd.set_option('display.float_format', lambda x: f'{x:.12g}')\n",
    "# pd.reset_option('display.float_format')"
   ]
  },
  {
   "cell_type": "markdown",
   "metadata": {},
   "source": [
    "#### Load the datasets"
   ]
  },
  {
   "cell_type": "code",
   "execution_count": 220,
   "metadata": {},
   "outputs": [
    {
     "name": "stderr",
     "output_type": "stream",
     "text": [
      "[12/Sep/2024 20:04:57] INFO [dreams_core.core.retrieve_prices_data:42] retrieved prices data with shape (120763, 3)\n",
      "[12/Sep/2024 20:04:57] INFO [dreams_core.core.fill_prices_gaps:126] 382 coins had no gaps, 19 coins had gaps filled, and 38 coins were dropped due to large gaps.\n",
      "[12/Sep/2024 20:04:57] INFO [dreams_core.core.<module>:11] Prices data shape: (110929, 3)\n"
     ]
    },
    {
     "ename": "KeyboardInterrupt",
     "evalue": "",
     "output_type": "error",
     "traceback": [
      "\u001b[0;31m---------------------------------------------------------------------------\u001b[0m",
      "\u001b[0;31mKeyboardInterrupt\u001b[0m                         Traceback (most recent call last)",
      "Cell \u001b[0;32mIn[220], line 14\u001b[0m\n\u001b[1;32m     11\u001b[0m logger\u001b[38;5;241m.\u001b[39minfo(\u001b[38;5;124mf\u001b[39m\u001b[38;5;124m\"\u001b[39m\u001b[38;5;124mPrices data shape: \u001b[39m\u001b[38;5;132;01m{\u001b[39;00mprices_df\u001b[38;5;241m.\u001b[39mshape\u001b[38;5;132;01m}\u001b[39;00m\u001b[38;5;124m\"\u001b[39m)\n\u001b[1;32m     13\u001b[0m \u001b[38;5;66;03m# retrieve transfers data\u001b[39;00m\n\u001b[0;32m---> 14\u001b[0m transfers_df \u001b[38;5;241m=\u001b[39m \u001b[43mtd\u001b[49m\u001b[38;5;241;43m.\u001b[39;49m\u001b[43mretrieve_transfers_data\u001b[49m\u001b[43m(\u001b[49m\n\u001b[1;32m     15\u001b[0m \u001b[43m    \u001b[49m\u001b[43mconfig\u001b[49m\u001b[43m[\u001b[49m\u001b[38;5;124;43m'\u001b[39;49m\u001b[38;5;124;43mtraining_data\u001b[39;49m\u001b[38;5;124;43m'\u001b[39;49m\u001b[43m]\u001b[49m\u001b[43m[\u001b[49m\u001b[38;5;124;43m'\u001b[39;49m\u001b[38;5;124;43mtraining_period_start\u001b[39;49m\u001b[38;5;124;43m'\u001b[39;49m\u001b[43m]\u001b[49m\u001b[43m,\u001b[49m\n\u001b[1;32m     16\u001b[0m \u001b[43m    \u001b[49m\u001b[43mconfig\u001b[49m\u001b[43m[\u001b[49m\u001b[38;5;124;43m'\u001b[39;49m\u001b[38;5;124;43mtraining_data\u001b[39;49m\u001b[38;5;124;43m'\u001b[39;49m\u001b[43m]\u001b[49m\u001b[43m[\u001b[49m\u001b[38;5;124;43m'\u001b[39;49m\u001b[38;5;124;43mmodeling_period_start\u001b[39;49m\u001b[38;5;124;43m'\u001b[39;49m\u001b[43m]\u001b[49m\u001b[43m,\u001b[49m\n\u001b[1;32m     17\u001b[0m \u001b[43m    \u001b[49m\u001b[43mconfig\u001b[49m\u001b[43m[\u001b[49m\u001b[38;5;124;43m'\u001b[39;49m\u001b[38;5;124;43mtraining_data\u001b[39;49m\u001b[38;5;124;43m'\u001b[39;49m\u001b[43m]\u001b[49m\u001b[43m[\u001b[49m\u001b[38;5;124;43m'\u001b[39;49m\u001b[38;5;124;43mmodeling_period_end\u001b[39;49m\u001b[38;5;124;43m'\u001b[39;49m\u001b[43m]\u001b[49m\n\u001b[1;32m     18\u001b[0m \u001b[43m    \u001b[49m\u001b[43m)\u001b[49m\n\u001b[1;32m     20\u001b[0m \u001b[38;5;66;03m# compile profits_df\u001b[39;00m\n\u001b[1;32m     21\u001b[0m profits_df \u001b[38;5;241m=\u001b[39m td\u001b[38;5;241m.\u001b[39mprepare_profits_data(transfers_df, prices_df)\n",
      "File \u001b[0;32m~/DreamsData/GitHub/data-science/notebooks/..//src/training_data.py:408\u001b[0m, in \u001b[0;36mretrieve_transfers_data\u001b[0;34m(training_period_start, modeling_period_start, modeling_period_end)\u001b[0m\n\u001b[1;32m    406\u001b[0m start_time \u001b[38;5;241m=\u001b[39m time\u001b[38;5;241m.\u001b[39mtime()\n\u001b[1;32m    407\u001b[0m logger\u001b[38;5;241m.\u001b[39mdebug(\u001b[38;5;124m'\u001b[39m\u001b[38;5;124mretrieving transfers data...\u001b[39m\u001b[38;5;124m'\u001b[39m)\n\u001b[0;32m--> 408\u001b[0m transfers_df \u001b[38;5;241m=\u001b[39m \u001b[43mdgc\u001b[49m\u001b[43m(\u001b[49m\u001b[43m)\u001b[49m\u001b[38;5;241;43m.\u001b[39;49m\u001b[43mrun_sql\u001b[49m\u001b[43m(\u001b[49m\u001b[43mquery_sql\u001b[49m\u001b[43m)\u001b[49m\n\u001b[1;32m    410\u001b[0m \u001b[38;5;66;03m# Convert column types\u001b[39;00m\n\u001b[1;32m    411\u001b[0m transfers_df[\u001b[38;5;124m'\u001b[39m\u001b[38;5;124mcoin_id\u001b[39m\u001b[38;5;124m'\u001b[39m] \u001b[38;5;241m=\u001b[39m transfers_df[\u001b[38;5;124m'\u001b[39m\u001b[38;5;124mcoin_id\u001b[39m\u001b[38;5;124m'\u001b[39m]\u001b[38;5;241m.\u001b[39mastype(\u001b[38;5;124m'\u001b[39m\u001b[38;5;124mcategory\u001b[39m\u001b[38;5;124m'\u001b[39m)\n",
      "File \u001b[0;32m~/DreamsData/.venv/lib/python3.11/site-packages/dreams_core/googlecloud.py:95\u001b[0m, in \u001b[0;36mGoogleCloud.run_sql\u001b[0;34m(self, query_sql)\u001b[0m\n\u001b[1;32m     89\u001b[0m client \u001b[38;5;241m=\u001b[39m bigquery\u001b[38;5;241m.\u001b[39mClient(\n\u001b[1;32m     90\u001b[0m     project\u001b[38;5;241m=\u001b[39m\u001b[38;5;28mself\u001b[39m\u001b[38;5;241m.\u001b[39mproject_id,\n\u001b[1;32m     91\u001b[0m     location\u001b[38;5;241m=\u001b[39m\u001b[38;5;28mself\u001b[39m\u001b[38;5;241m.\u001b[39mlocation,\n\u001b[1;32m     92\u001b[0m     credentials\u001b[38;5;241m=\u001b[39m\u001b[38;5;28mself\u001b[39m\u001b[38;5;241m.\u001b[39mcredentials\n\u001b[1;32m     93\u001b[0m )\n\u001b[1;32m     94\u001b[0m query_job \u001b[38;5;241m=\u001b[39m client\u001b[38;5;241m.\u001b[39mquery(query_sql)\n\u001b[0;32m---> 95\u001b[0m query_df \u001b[38;5;241m=\u001b[39m \u001b[43mquery_job\u001b[49m\u001b[38;5;241;43m.\u001b[39;49m\u001b[43mto_dataframe\u001b[49m\u001b[43m(\u001b[49m\u001b[43m)\u001b[49m\n\u001b[1;32m     97\u001b[0m \u001b[38;5;28mself\u001b[39m\u001b[38;5;241m.\u001b[39mlogger\u001b[38;5;241m.\u001b[39mdebug(\u001b[38;5;124m'\u001b[39m\u001b[38;5;124mBigQuery query completed.\u001b[39m\u001b[38;5;124m'\u001b[39m)\n\u001b[1;32m     99\u001b[0m \u001b[38;5;28;01mreturn\u001b[39;00m query_df\n",
      "File \u001b[0;32m~/DreamsData/.venv/lib/python3.11/site-packages/google/cloud/bigquery/job/query.py:1861\u001b[0m, in \u001b[0;36mQueryJob.to_dataframe\u001b[0;34m(self, bqstorage_client, dtypes, progress_bar_type, create_bqstorage_client, max_results, geography_as_object, bool_dtype, int_dtype, float_dtype, string_dtype, date_dtype, datetime_dtype, time_dtype, timestamp_dtype)\u001b[0m\n\u001b[1;32m   1711\u001b[0m \u001b[38;5;250m\u001b[39m\u001b[38;5;124;03m\"\"\"Return a pandas DataFrame from a QueryJob\u001b[39;00m\n\u001b[1;32m   1712\u001b[0m \n\u001b[1;32m   1713\u001b[0m \u001b[38;5;124;03mArgs:\u001b[39;00m\n\u001b[0;32m   (...)\u001b[0m\n\u001b[1;32m   1858\u001b[0m \u001b[38;5;124;03m        :mod:`shapely` library cannot be imported.\u001b[39;00m\n\u001b[1;32m   1859\u001b[0m \u001b[38;5;124;03m\"\"\"\u001b[39;00m\n\u001b[1;32m   1860\u001b[0m query_result \u001b[38;5;241m=\u001b[39m wait_for_query(\u001b[38;5;28mself\u001b[39m, progress_bar_type, max_results\u001b[38;5;241m=\u001b[39mmax_results)\n\u001b[0;32m-> 1861\u001b[0m \u001b[38;5;28;01mreturn\u001b[39;00m \u001b[43mquery_result\u001b[49m\u001b[38;5;241;43m.\u001b[39;49m\u001b[43mto_dataframe\u001b[49m\u001b[43m(\u001b[49m\n\u001b[1;32m   1862\u001b[0m \u001b[43m    \u001b[49m\u001b[43mbqstorage_client\u001b[49m\u001b[38;5;241;43m=\u001b[39;49m\u001b[43mbqstorage_client\u001b[49m\u001b[43m,\u001b[49m\n\u001b[1;32m   1863\u001b[0m \u001b[43m    \u001b[49m\u001b[43mdtypes\u001b[49m\u001b[38;5;241;43m=\u001b[39;49m\u001b[43mdtypes\u001b[49m\u001b[43m,\u001b[49m\n\u001b[1;32m   1864\u001b[0m \u001b[43m    \u001b[49m\u001b[43mprogress_bar_type\u001b[49m\u001b[38;5;241;43m=\u001b[39;49m\u001b[43mprogress_bar_type\u001b[49m\u001b[43m,\u001b[49m\n\u001b[1;32m   1865\u001b[0m \u001b[43m    \u001b[49m\u001b[43mcreate_bqstorage_client\u001b[49m\u001b[38;5;241;43m=\u001b[39;49m\u001b[43mcreate_bqstorage_client\u001b[49m\u001b[43m,\u001b[49m\n\u001b[1;32m   1866\u001b[0m \u001b[43m    \u001b[49m\u001b[43mgeography_as_object\u001b[49m\u001b[38;5;241;43m=\u001b[39;49m\u001b[43mgeography_as_object\u001b[49m\u001b[43m,\u001b[49m\n\u001b[1;32m   1867\u001b[0m \u001b[43m    \u001b[49m\u001b[43mbool_dtype\u001b[49m\u001b[38;5;241;43m=\u001b[39;49m\u001b[43mbool_dtype\u001b[49m\u001b[43m,\u001b[49m\n\u001b[1;32m   1868\u001b[0m \u001b[43m    \u001b[49m\u001b[43mint_dtype\u001b[49m\u001b[38;5;241;43m=\u001b[39;49m\u001b[43mint_dtype\u001b[49m\u001b[43m,\u001b[49m\n\u001b[1;32m   1869\u001b[0m \u001b[43m    \u001b[49m\u001b[43mfloat_dtype\u001b[49m\u001b[38;5;241;43m=\u001b[39;49m\u001b[43mfloat_dtype\u001b[49m\u001b[43m,\u001b[49m\n\u001b[1;32m   1870\u001b[0m \u001b[43m    \u001b[49m\u001b[43mstring_dtype\u001b[49m\u001b[38;5;241;43m=\u001b[39;49m\u001b[43mstring_dtype\u001b[49m\u001b[43m,\u001b[49m\n\u001b[1;32m   1871\u001b[0m \u001b[43m    \u001b[49m\u001b[43mdate_dtype\u001b[49m\u001b[38;5;241;43m=\u001b[39;49m\u001b[43mdate_dtype\u001b[49m\u001b[43m,\u001b[49m\n\u001b[1;32m   1872\u001b[0m \u001b[43m    \u001b[49m\u001b[43mdatetime_dtype\u001b[49m\u001b[38;5;241;43m=\u001b[39;49m\u001b[43mdatetime_dtype\u001b[49m\u001b[43m,\u001b[49m\n\u001b[1;32m   1873\u001b[0m \u001b[43m    \u001b[49m\u001b[43mtime_dtype\u001b[49m\u001b[38;5;241;43m=\u001b[39;49m\u001b[43mtime_dtype\u001b[49m\u001b[43m,\u001b[49m\n\u001b[1;32m   1874\u001b[0m \u001b[43m    \u001b[49m\u001b[43mtimestamp_dtype\u001b[49m\u001b[38;5;241;43m=\u001b[39;49m\u001b[43mtimestamp_dtype\u001b[49m\u001b[43m,\u001b[49m\n\u001b[1;32m   1875\u001b[0m \u001b[43m\u001b[49m\u001b[43m)\u001b[49m\n",
      "File \u001b[0;32m~/DreamsData/.venv/lib/python3.11/site-packages/google/cloud/bigquery/table.py:2177\u001b[0m, in \u001b[0;36mRowIterator.to_dataframe\u001b[0;34m(self, bqstorage_client, dtypes, progress_bar_type, create_bqstorage_client, geography_as_object, bool_dtype, int_dtype, float_dtype, string_dtype, date_dtype, datetime_dtype, time_dtype, timestamp_dtype)\u001b[0m\n\u001b[1;32m   2175\u001b[0m timestamp_as_object \u001b[38;5;241m=\u001b[39m \u001b[38;5;28;01mFalse\u001b[39;00m\n\u001b[1;32m   2176\u001b[0m \u001b[38;5;28;01mif\u001b[39;00m datetime_dtype \u001b[38;5;129;01mis\u001b[39;00m \u001b[38;5;28;01mNone\u001b[39;00m \u001b[38;5;129;01mand\u001b[39;00m timestamp_dtype \u001b[38;5;129;01mis\u001b[39;00m \u001b[38;5;28;01mNone\u001b[39;00m:\n\u001b[0;32m-> 2177\u001b[0m     timestamp_as_object \u001b[38;5;241m=\u001b[39m \u001b[38;5;129;01mnot\u001b[39;00m \u001b[38;5;28mall\u001b[39m(\n\u001b[1;32m   2178\u001b[0m         \u001b[38;5;28mself\u001b[39m\u001b[38;5;241m.\u001b[39m__can_cast_timestamp_ns(col)\n\u001b[1;32m   2179\u001b[0m         \u001b[38;5;28;01mfor\u001b[39;00m col \u001b[38;5;129;01min\u001b[39;00m record_batch\n\u001b[1;32m   2180\u001b[0m         \u001b[38;5;66;03m# Type can be datetime and timestamp (plus units and time zone).\u001b[39;00m\n\u001b[1;32m   2181\u001b[0m         \u001b[38;5;66;03m# See: https://arrow.apache.org/docs/python/api/datatypes.html\u001b[39;00m\n\u001b[1;32m   2182\u001b[0m         \u001b[38;5;28;01mif\u001b[39;00m pyarrow\u001b[38;5;241m.\u001b[39mtypes\u001b[38;5;241m.\u001b[39mis_timestamp(col\u001b[38;5;241m.\u001b[39mtype)\n\u001b[1;32m   2183\u001b[0m     )\n\u001b[1;32m   2185\u001b[0m \u001b[38;5;28;01mif\u001b[39;00m \u001b[38;5;28mlen\u001b[39m(record_batch) \u001b[38;5;241m>\u001b[39m \u001b[38;5;241m0\u001b[39m:\n\u001b[1;32m   2186\u001b[0m     df \u001b[38;5;241m=\u001b[39m record_batch\u001b[38;5;241m.\u001b[39mto_pandas(\n\u001b[1;32m   2187\u001b[0m         date_as_object\u001b[38;5;241m=\u001b[39mdate_as_object,\n\u001b[1;32m   2188\u001b[0m         timestamp_as_object\u001b[38;5;241m=\u001b[39mtimestamp_as_object,\n\u001b[0;32m   (...)\u001b[0m\n\u001b[1;32m   2200\u001b[0m         ),\n\u001b[1;32m   2201\u001b[0m     )\n",
      "File \u001b[0;32m~/DreamsData/.venv/lib/python3.11/site-packages/google/cloud/bigquery/table.py:2178\u001b[0m, in \u001b[0;36m<genexpr>\u001b[0;34m(.0)\u001b[0m\n\u001b[1;32m   2175\u001b[0m timestamp_as_object \u001b[38;5;241m=\u001b[39m \u001b[38;5;28;01mFalse\u001b[39;00m\n\u001b[1;32m   2176\u001b[0m \u001b[38;5;28;01mif\u001b[39;00m datetime_dtype \u001b[38;5;129;01mis\u001b[39;00m \u001b[38;5;28;01mNone\u001b[39;00m \u001b[38;5;129;01mand\u001b[39;00m timestamp_dtype \u001b[38;5;129;01mis\u001b[39;00m \u001b[38;5;28;01mNone\u001b[39;00m:\n\u001b[1;32m   2177\u001b[0m     timestamp_as_object \u001b[38;5;241m=\u001b[39m \u001b[38;5;129;01mnot\u001b[39;00m \u001b[38;5;28mall\u001b[39m(\n\u001b[0;32m-> 2178\u001b[0m         \u001b[38;5;28;43mself\u001b[39;49m\u001b[38;5;241;43m.\u001b[39;49m\u001b[43m__can_cast_timestamp_ns\u001b[49m\u001b[43m(\u001b[49m\u001b[43mcol\u001b[49m\u001b[43m)\u001b[49m\n\u001b[1;32m   2179\u001b[0m         \u001b[38;5;28;01mfor\u001b[39;00m col \u001b[38;5;129;01min\u001b[39;00m record_batch\n\u001b[1;32m   2180\u001b[0m         \u001b[38;5;66;03m# Type can be datetime and timestamp (plus units and time zone).\u001b[39;00m\n\u001b[1;32m   2181\u001b[0m         \u001b[38;5;66;03m# See: https://arrow.apache.org/docs/python/api/datatypes.html\u001b[39;00m\n\u001b[1;32m   2182\u001b[0m         \u001b[38;5;28;01mif\u001b[39;00m pyarrow\u001b[38;5;241m.\u001b[39mtypes\u001b[38;5;241m.\u001b[39mis_timestamp(col\u001b[38;5;241m.\u001b[39mtype)\n\u001b[1;32m   2183\u001b[0m     )\n\u001b[1;32m   2185\u001b[0m \u001b[38;5;28;01mif\u001b[39;00m \u001b[38;5;28mlen\u001b[39m(record_batch) \u001b[38;5;241m>\u001b[39m \u001b[38;5;241m0\u001b[39m:\n\u001b[1;32m   2186\u001b[0m     df \u001b[38;5;241m=\u001b[39m record_batch\u001b[38;5;241m.\u001b[39mto_pandas(\n\u001b[1;32m   2187\u001b[0m         date_as_object\u001b[38;5;241m=\u001b[39mdate_as_object,\n\u001b[1;32m   2188\u001b[0m         timestamp_as_object\u001b[38;5;241m=\u001b[39mtimestamp_as_object,\n\u001b[0;32m   (...)\u001b[0m\n\u001b[1;32m   2200\u001b[0m         ),\n\u001b[1;32m   2201\u001b[0m     )\n",
      "File \u001b[0;32m~/DreamsData/.venv/lib/python3.11/site-packages/google/cloud/bigquery/table.py:2221\u001b[0m, in \u001b[0;36mRowIterator.__can_cast_timestamp_ns\u001b[0;34m(column)\u001b[0m\n\u001b[1;32m   2218\u001b[0m \u001b[38;5;129m@staticmethod\u001b[39m\n\u001b[1;32m   2219\u001b[0m \u001b[38;5;28;01mdef\u001b[39;00m \u001b[38;5;21m__can_cast_timestamp_ns\u001b[39m(column):\n\u001b[1;32m   2220\u001b[0m     \u001b[38;5;28;01mtry\u001b[39;00m:\n\u001b[0;32m-> 2221\u001b[0m         \u001b[43mcolumn\u001b[49m\u001b[38;5;241;43m.\u001b[39;49m\u001b[43mcast\u001b[49m\u001b[43m(\u001b[49m\u001b[38;5;124;43m\"\u001b[39;49m\u001b[38;5;124;43mtimestamp[ns]\u001b[39;49m\u001b[38;5;124;43m\"\u001b[39;49m\u001b[43m)\u001b[49m\n\u001b[1;32m   2222\u001b[0m     \u001b[38;5;28;01mexcept\u001b[39;00m pyarrow\u001b[38;5;241m.\u001b[39mlib\u001b[38;5;241m.\u001b[39mArrowInvalid:\n\u001b[1;32m   2223\u001b[0m         \u001b[38;5;28;01mreturn\u001b[39;00m \u001b[38;5;28;01mFalse\u001b[39;00m\n",
      "File \u001b[0;32m~/DreamsData/.venv/lib/python3.11/site-packages/pyarrow/table.pxi:574\u001b[0m, in \u001b[0;36mpyarrow.lib.ChunkedArray.cast\u001b[0;34m()\u001b[0m\n",
      "File \u001b[0;32m~/DreamsData/.venv/lib/python3.11/site-packages/pyarrow/compute.py:404\u001b[0m, in \u001b[0;36mcast\u001b[0;34m(arr, target_type, safe, options, memory_pool)\u001b[0m\n\u001b[1;32m    402\u001b[0m     \u001b[38;5;28;01melse\u001b[39;00m:\n\u001b[1;32m    403\u001b[0m         options \u001b[38;5;241m=\u001b[39m CastOptions\u001b[38;5;241m.\u001b[39msafe(target_type)\n\u001b[0;32m--> 404\u001b[0m \u001b[38;5;28;01mreturn\u001b[39;00m \u001b[43mcall_function\u001b[49m\u001b[43m(\u001b[49m\u001b[38;5;124;43m\"\u001b[39;49m\u001b[38;5;124;43mcast\u001b[39;49m\u001b[38;5;124;43m\"\u001b[39;49m\u001b[43m,\u001b[49m\u001b[43m \u001b[49m\u001b[43m[\u001b[49m\u001b[43marr\u001b[49m\u001b[43m]\u001b[49m\u001b[43m,\u001b[49m\u001b[43m \u001b[49m\u001b[43moptions\u001b[49m\u001b[43m,\u001b[49m\u001b[43m \u001b[49m\u001b[43mmemory_pool\u001b[49m\u001b[43m)\u001b[49m\n",
      "\u001b[0;31mKeyboardInterrupt\u001b[0m: "
     ]
    }
   ],
   "source": [
    "importlib.reload(td)\n",
    "importlib.reload(cwm)\n",
    "importlib.reload(fe)\n",
    "\n",
    "config = load_config('config.yaml')\n",
    "metrics_config = load_config('config_metrics.yaml')\n",
    "\n",
    "# retrieve and clean prices data\n",
    "prices_df = td.retrieve_prices_data()\n",
    "prices_df,_ = td.fill_prices_gaps(prices_df,config['data_cleaning']['max_gap_days'])\n",
    "logger.info(f\"Prices data shape: {prices_df.shape}\")\n",
    "\n",
    "# retrieve transfers data\n",
    "transfers_df = td.retrieve_transfers_data(\n",
    "    config['training_data']['training_period_start'],\n",
    "    config['training_data']['modeling_period_start'],\n",
    "    config['training_data']['modeling_period_end']\n",
    "    )\n",
    "\n",
    "# compile profits_df\n",
    "profits_df = td.prepare_profits_data(transfers_df, prices_df)\n",
    "profits_df = td.calculate_wallet_profitability(profits_df)\n",
    "profits_df,_ = td.clean_profits_df(profits_df, config['data_cleaning'])\n",
    "\n",
    "# identify sharks\n",
    "shark_coins_df = td.classify_shark_coins(profits_df, config['training_data'])\n",
    "shark_wallets_df = td.classify_shark_wallets(shark_coins_df,config['training_data'])\n",
    "\n",
    "# generate and flatten buysell_metrics\n",
    "cohort_wallets = shark_wallets_df[shark_wallets_df['is_shark']==True]['wallet_address'].unique()\n",
    "cohort_coins = shark_coins_df['coin_id'].unique()\n",
    "buysell_metrics_df = cwm.generate_buysell_metrics_df(profits_df,config['training_data']['training_period_end'],cohort_wallets,cohort_coins)\n",
    "flattened_buysell_metrics_df = fe.flatten_coin_date_df(buysell_metrics_df,metrics_config,config['training_data']['training_period_end'])\n"
   ]
  },
  {
   "cell_type": "code",
   "execution_count": 247,
   "metadata": {},
   "outputs": [
    {
     "name": "stderr",
     "output_type": "stream",
     "text": [
      "[12/Sep/2024 20:20:45] INFO [dreams_core.core.generate_buysell_metrics_df:33] Preparing buysell_metrics_df...\n",
      "[12/Sep/2024 20:20:54] INFO [dreams_core.core.generate_buysell_metrics_df:99] Generated buysell_metrics_df after 9.58 seconds.\n",
      "[12/Sep/2024 20:20:55] INFO [dreams_core.core.flatten_coin_date_df:63] Flattening columns ['buyers_new'] into coin-level features...\n",
      "[12/Sep/2024 20:20:55] INFO [dreams_core.core.flatten_coin_date_df:79] Flattened input df into coin-level features with shape (118, 37) after 0.09 seconds.\n"
     ]
    },
    {
     "data": {
      "text/plain": [
       "date                   datetime64[ns]\n",
       "buyers_new                    float64\n",
       "buyers_repeat                 float64\n",
       "total_buyers                  float64\n",
       "sellers_new                   float64\n",
       "sellers_repeat                float64\n",
       "total_sellers                 float64\n",
       "total_bought                  float64\n",
       "total_sold                    float64\n",
       "total_net_transfers           float64\n",
       "total_volume                  float64\n",
       "total_holders                 float64\n",
       "total_balance                 float64\n",
       "coin_id                        object\n",
       "dtype: object"
      ]
     },
     "execution_count": 247,
     "metadata": {},
     "output_type": "execute_result"
    }
   ],
   "source": [
    "importlib.reload(td)\n",
    "importlib.reload(cwm)\n",
    "importlib.reload(fe)\n",
    "\n",
    "\n",
    "# generate and flatten buysell_metrics\n",
    "cohort_wallets = shark_wallets_df[shark_wallets_df['is_shark']==True]['wallet_address'].unique()\n",
    "cohort_coins = shark_coins_df['coin_id'].unique()\n",
    "buysell_metrics_df = cwm.generate_buysell_metrics_df(profits_df,config['training_data']['training_period_end'],cohort_wallets,cohort_coins)\n",
    "flattened_buysell_metrics_df = fe.flatten_coin_date_df(buysell_metrics_df,metrics_config,config['training_data']['training_period_end'])\n",
    "\n",
    "buysell_metrics_df.dtypes"
   ]
  },
  {
   "cell_type": "code",
   "execution_count": 252,
   "metadata": {},
   "outputs": [],
   "source": [
    "buysell_metrics_df_test = pd.read_csv('../tests/fixtures/buysell_metrics_df.csv')\n",
    "buysell_metrics_df_test['date'] = pd.to_datetime(buysell_metrics_df_test['date']).astype('datetime64[ns]')\n",
    "\n",
    "buysell_metrics_df_test.head()\n",
    "\n",
    "buysell_metrics_df = buysell_metrics_df_test"
   ]
  },
  {
   "cell_type": "code",
   "execution_count": 253,
   "metadata": {},
   "outputs": [
    {
     "name": "stderr",
     "output_type": "stream",
     "text": [
      "[12/Sep/2024 20:25:01] INFO [dreams_core.core.flatten_coin_date_df:63] Flattening columns ['buyers_new'] into coin-level features...\n",
      "[12/Sep/2024 20:25:01] INFO [dreams_core.core.flatten_coin_date_df:79] Flattened input df into coin-level features with shape (118, 37) after 0.10 seconds.\n"
     ]
    },
    {
     "ename": "KeyError",
     "evalue": "\"['date', 'total_bought'] not in index\"",
     "output_type": "error",
     "traceback": [
      "\u001b[0;31m---------------------------------------------------------------------------\u001b[0m",
      "\u001b[0;31mKeyError\u001b[0m                                  Traceback (most recent call last)",
      "Cell \u001b[0;32mIn[253], line 18\u001b[0m\n\u001b[1;32m     15\u001b[0m expected_total_bought \u001b[38;5;241m=\u001b[39m buysell_metrics_df\u001b[38;5;241m.\u001b[39mgroupby([\u001b[38;5;124m'\u001b[39m\u001b[38;5;124mcoin_id\u001b[39m\u001b[38;5;124m'\u001b[39m, \u001b[38;5;124m'\u001b[39m\u001b[38;5;124mdate\u001b[39m\u001b[38;5;124m'\u001b[39m])[\u001b[38;5;124m'\u001b[39m\u001b[38;5;124mtotal_bought\u001b[39m\u001b[38;5;124m'\u001b[39m]\u001b[38;5;241m.\u001b[39msum()\u001b[38;5;241m.\u001b[39mreset_index()\n\u001b[1;32m     17\u001b[0m \u001b[38;5;66;03m# Compare to the flattened result\u001b[39;00m\n\u001b[0;32m---> 18\u001b[0m result_total_bought \u001b[38;5;241m=\u001b[39m \u001b[43mflattened_buysell_metrics_df\u001b[49m\u001b[43m[\u001b[49m\u001b[43m[\u001b[49m\u001b[38;5;124;43m'\u001b[39;49m\u001b[38;5;124;43mcoin_id\u001b[39;49m\u001b[38;5;124;43m'\u001b[39;49m\u001b[43m,\u001b[49m\u001b[43m \u001b[49m\u001b[38;5;124;43m'\u001b[39;49m\u001b[38;5;124;43mdate\u001b[39;49m\u001b[38;5;124;43m'\u001b[39;49m\u001b[43m,\u001b[49m\u001b[43m \u001b[49m\u001b[38;5;124;43m'\u001b[39;49m\u001b[38;5;124;43mtotal_bought\u001b[39;49m\u001b[38;5;124;43m'\u001b[39;49m\u001b[43m]\u001b[49m\u001b[43m]\u001b[49m\n\u001b[1;32m     20\u001b[0m pd\u001b[38;5;241m.\u001b[39mtesting\u001b[38;5;241m.\u001b[39massert_frame_equal(expected_total_bought, result_total_bought, check_like\u001b[38;5;241m=\u001b[39m\u001b[38;5;28;01mTrue\u001b[39;00m)\n",
      "File \u001b[0;32m~/DreamsData/.venv/lib/python3.11/site-packages/pandas/core/frame.py:4108\u001b[0m, in \u001b[0;36mDataFrame.__getitem__\u001b[0;34m(self, key)\u001b[0m\n\u001b[1;32m   4106\u001b[0m     \u001b[38;5;28;01mif\u001b[39;00m is_iterator(key):\n\u001b[1;32m   4107\u001b[0m         key \u001b[38;5;241m=\u001b[39m \u001b[38;5;28mlist\u001b[39m(key)\n\u001b[0;32m-> 4108\u001b[0m     indexer \u001b[38;5;241m=\u001b[39m \u001b[38;5;28;43mself\u001b[39;49m\u001b[38;5;241;43m.\u001b[39;49m\u001b[43mcolumns\u001b[49m\u001b[38;5;241;43m.\u001b[39;49m\u001b[43m_get_indexer_strict\u001b[49m\u001b[43m(\u001b[49m\u001b[43mkey\u001b[49m\u001b[43m,\u001b[49m\u001b[43m \u001b[49m\u001b[38;5;124;43m\"\u001b[39;49m\u001b[38;5;124;43mcolumns\u001b[39;49m\u001b[38;5;124;43m\"\u001b[39;49m\u001b[43m)\u001b[49m[\u001b[38;5;241m1\u001b[39m]\n\u001b[1;32m   4110\u001b[0m \u001b[38;5;66;03m# take() does not accept boolean indexers\u001b[39;00m\n\u001b[1;32m   4111\u001b[0m \u001b[38;5;28;01mif\u001b[39;00m \u001b[38;5;28mgetattr\u001b[39m(indexer, \u001b[38;5;124m\"\u001b[39m\u001b[38;5;124mdtype\u001b[39m\u001b[38;5;124m\"\u001b[39m, \u001b[38;5;28;01mNone\u001b[39;00m) \u001b[38;5;241m==\u001b[39m \u001b[38;5;28mbool\u001b[39m:\n",
      "File \u001b[0;32m~/DreamsData/.venv/lib/python3.11/site-packages/pandas/core/indexes/base.py:6200\u001b[0m, in \u001b[0;36mIndex._get_indexer_strict\u001b[0;34m(self, key, axis_name)\u001b[0m\n\u001b[1;32m   6197\u001b[0m \u001b[38;5;28;01melse\u001b[39;00m:\n\u001b[1;32m   6198\u001b[0m     keyarr, indexer, new_indexer \u001b[38;5;241m=\u001b[39m \u001b[38;5;28mself\u001b[39m\u001b[38;5;241m.\u001b[39m_reindex_non_unique(keyarr)\n\u001b[0;32m-> 6200\u001b[0m \u001b[38;5;28;43mself\u001b[39;49m\u001b[38;5;241;43m.\u001b[39;49m\u001b[43m_raise_if_missing\u001b[49m\u001b[43m(\u001b[49m\u001b[43mkeyarr\u001b[49m\u001b[43m,\u001b[49m\u001b[43m \u001b[49m\u001b[43mindexer\u001b[49m\u001b[43m,\u001b[49m\u001b[43m \u001b[49m\u001b[43maxis_name\u001b[49m\u001b[43m)\u001b[49m\n\u001b[1;32m   6202\u001b[0m keyarr \u001b[38;5;241m=\u001b[39m \u001b[38;5;28mself\u001b[39m\u001b[38;5;241m.\u001b[39mtake(indexer)\n\u001b[1;32m   6203\u001b[0m \u001b[38;5;28;01mif\u001b[39;00m \u001b[38;5;28misinstance\u001b[39m(key, Index):\n\u001b[1;32m   6204\u001b[0m     \u001b[38;5;66;03m# GH 42790 - Preserve name from an Index\u001b[39;00m\n",
      "File \u001b[0;32m~/DreamsData/.venv/lib/python3.11/site-packages/pandas/core/indexes/base.py:6252\u001b[0m, in \u001b[0;36mIndex._raise_if_missing\u001b[0;34m(self, key, indexer, axis_name)\u001b[0m\n\u001b[1;32m   6249\u001b[0m     \u001b[38;5;28;01mraise\u001b[39;00m \u001b[38;5;167;01mKeyError\u001b[39;00m(\u001b[38;5;124mf\u001b[39m\u001b[38;5;124m\"\u001b[39m\u001b[38;5;124mNone of [\u001b[39m\u001b[38;5;132;01m{\u001b[39;00mkey\u001b[38;5;132;01m}\u001b[39;00m\u001b[38;5;124m] are in the [\u001b[39m\u001b[38;5;132;01m{\u001b[39;00maxis_name\u001b[38;5;132;01m}\u001b[39;00m\u001b[38;5;124m]\u001b[39m\u001b[38;5;124m\"\u001b[39m)\n\u001b[1;32m   6251\u001b[0m not_found \u001b[38;5;241m=\u001b[39m \u001b[38;5;28mlist\u001b[39m(ensure_index(key)[missing_mask\u001b[38;5;241m.\u001b[39mnonzero()[\u001b[38;5;241m0\u001b[39m]]\u001b[38;5;241m.\u001b[39munique())\n\u001b[0;32m-> 6252\u001b[0m \u001b[38;5;28;01mraise\u001b[39;00m \u001b[38;5;167;01mKeyError\u001b[39;00m(\u001b[38;5;124mf\u001b[39m\u001b[38;5;124m\"\u001b[39m\u001b[38;5;132;01m{\u001b[39;00mnot_found\u001b[38;5;132;01m}\u001b[39;00m\u001b[38;5;124m not in index\u001b[39m\u001b[38;5;124m\"\u001b[39m)\n",
      "\u001b[0;31mKeyError\u001b[0m: \"['date', 'total_bought'] not in index\""
     ]
    }
   ],
   "source": [
    "# Extract column names from the DataFrame\n",
    "df_columns = buysell_metrics_df.columns\n",
    "\n",
    "# Find the intersection of DataFrame columns and config metrics\n",
    "matching_metrics = [metric for metric in df_columns if metric in metrics_config['metrics']]\n",
    "\n",
    "# Assert that at least one metric in the config applies to the buysell_metrics_df\n",
    "assert matching_metrics, \"No matching metrics found between buysell_metrics_df and the metrics configuration\"\n",
    "\n",
    "# Flatten the buysell metrics DataFrame\n",
    "flattened_buysell_metrics_df = fe.flatten_coin_date_df(buysell_metrics_df, metrics_config, config['training_data']['training_period_end'])\n",
    "\n",
    "# Example: Verify that total_bought is aggregated as a sum\n",
    "# Group original by coin_id and date for manual verification\n",
    "expected_total_bought = buysell_metrics_df.groupby(['coin_id', 'date'])['total_bought'].sum().reset_index()\n",
    "\n",
    "# Compare to the flattened result\n",
    "result_total_bought = flattened_buysell_metrics_df[['coin_id', 'date', 'total_bought']]\n",
    "\n",
    "pd.testing.assert_frame_equal(expected_total_bought, result_total_bought, check_like=True)"
   ]
  },
  {
   "cell_type": "code",
   "execution_count": 241,
   "metadata": {},
   "outputs": [
    {
     "data": {
      "text/plain": [
       "DatetimeIndex(['2024-01-01', '2024-01-02', '2024-01-03', '2024-01-04',\n",
       "               '2024-01-05', '2024-01-06', '2024-01-07', '2024-01-08',\n",
       "               '2024-01-09', '2024-01-10',\n",
       "               ...\n",
       "               '2024-04-21', '2024-04-22', '2024-04-23', '2024-04-24',\n",
       "               '2024-04-25', '2024-04-26', '2024-04-27', '2024-04-28',\n",
       "               '2024-04-29', '2024-04-30'],\n",
       "              dtype='datetime64[ns]', length=121, freq='D')"
      ]
     },
     "execution_count": 241,
     "metadata": {},
     "output_type": "execute_result"
    }
   ],
   "source": [
    "full_date_range"
   ]
  },
  {
   "cell_type": "code",
   "execution_count": 242,
   "metadata": {},
   "outputs": [
    {
     "data": {
      "text/plain": [
       "{Timestamp('2024-01-01 00:00:00'),\n",
       " Timestamp('2024-01-02 00:00:00'),\n",
       " Timestamp('2024-01-03 00:00:00'),\n",
       " Timestamp('2024-01-04 00:00:00'),\n",
       " Timestamp('2024-01-05 00:00:00'),\n",
       " Timestamp('2024-01-06 00:00:00'),\n",
       " Timestamp('2024-01-07 00:00:00'),\n",
       " Timestamp('2024-01-08 00:00:00'),\n",
       " Timestamp('2024-01-09 00:00:00'),\n",
       " Timestamp('2024-01-10 00:00:00'),\n",
       " Timestamp('2024-01-11 00:00:00'),\n",
       " Timestamp('2024-01-12 00:00:00'),\n",
       " Timestamp('2024-01-13 00:00:00'),\n",
       " Timestamp('2024-01-14 00:00:00'),\n",
       " Timestamp('2024-01-15 00:00:00'),\n",
       " Timestamp('2024-01-16 00:00:00'),\n",
       " Timestamp('2024-01-17 00:00:00'),\n",
       " Timestamp('2024-01-18 00:00:00'),\n",
       " Timestamp('2024-01-19 00:00:00'),\n",
       " Timestamp('2024-01-20 00:00:00'),\n",
       " Timestamp('2024-01-21 00:00:00'),\n",
       " Timestamp('2024-01-22 00:00:00'),\n",
       " Timestamp('2024-01-23 00:00:00'),\n",
       " Timestamp('2024-01-24 00:00:00'),\n",
       " Timestamp('2024-01-25 00:00:00'),\n",
       " Timestamp('2024-01-26 00:00:00'),\n",
       " Timestamp('2024-01-27 00:00:00'),\n",
       " Timestamp('2024-01-28 00:00:00'),\n",
       " Timestamp('2024-01-29 00:00:00'),\n",
       " Timestamp('2024-01-30 00:00:00'),\n",
       " Timestamp('2024-01-31 00:00:00'),\n",
       " Timestamp('2024-02-01 00:00:00'),\n",
       " Timestamp('2024-02-02 00:00:00'),\n",
       " Timestamp('2024-02-03 00:00:00'),\n",
       " Timestamp('2024-02-04 00:00:00'),\n",
       " Timestamp('2024-02-05 00:00:00'),\n",
       " Timestamp('2024-02-06 00:00:00'),\n",
       " Timestamp('2024-02-07 00:00:00'),\n",
       " Timestamp('2024-02-08 00:00:00'),\n",
       " Timestamp('2024-02-09 00:00:00'),\n",
       " Timestamp('2024-02-10 00:00:00'),\n",
       " Timestamp('2024-02-11 00:00:00'),\n",
       " Timestamp('2024-02-12 00:00:00'),\n",
       " Timestamp('2024-02-13 00:00:00'),\n",
       " Timestamp('2024-02-14 00:00:00'),\n",
       " Timestamp('2024-02-15 00:00:00'),\n",
       " Timestamp('2024-02-16 00:00:00'),\n",
       " Timestamp('2024-02-17 00:00:00'),\n",
       " Timestamp('2024-02-18 00:00:00'),\n",
       " Timestamp('2024-02-19 00:00:00'),\n",
       " Timestamp('2024-02-20 00:00:00'),\n",
       " Timestamp('2024-02-21 00:00:00'),\n",
       " Timestamp('2024-02-22 00:00:00'),\n",
       " Timestamp('2024-02-23 00:00:00'),\n",
       " Timestamp('2024-02-24 00:00:00'),\n",
       " Timestamp('2024-02-25 00:00:00'),\n",
       " Timestamp('2024-02-26 00:00:00'),\n",
       " Timestamp('2024-02-27 00:00:00'),\n",
       " Timestamp('2024-02-28 00:00:00'),\n",
       " Timestamp('2024-02-29 00:00:00'),\n",
       " Timestamp('2024-03-01 00:00:00'),\n",
       " Timestamp('2024-03-02 00:00:00'),\n",
       " Timestamp('2024-03-03 00:00:00'),\n",
       " Timestamp('2024-03-04 00:00:00'),\n",
       " Timestamp('2024-03-05 00:00:00'),\n",
       " Timestamp('2024-03-06 00:00:00'),\n",
       " Timestamp('2024-03-07 00:00:00'),\n",
       " Timestamp('2024-03-08 00:00:00'),\n",
       " Timestamp('2024-03-09 00:00:00'),\n",
       " Timestamp('2024-03-10 00:00:00'),\n",
       " Timestamp('2024-03-11 00:00:00'),\n",
       " Timestamp('2024-03-12 00:00:00'),\n",
       " Timestamp('2024-03-13 00:00:00'),\n",
       " Timestamp('2024-03-14 00:00:00'),\n",
       " Timestamp('2024-03-15 00:00:00'),\n",
       " Timestamp('2024-03-16 00:00:00'),\n",
       " Timestamp('2024-03-17 00:00:00'),\n",
       " Timestamp('2024-03-18 00:00:00'),\n",
       " Timestamp('2024-03-19 00:00:00'),\n",
       " Timestamp('2024-03-20 00:00:00'),\n",
       " Timestamp('2024-03-21 00:00:00'),\n",
       " Timestamp('2024-03-22 00:00:00'),\n",
       " Timestamp('2024-03-23 00:00:00'),\n",
       " Timestamp('2024-03-24 00:00:00'),\n",
       " Timestamp('2024-03-25 00:00:00'),\n",
       " Timestamp('2024-03-26 00:00:00'),\n",
       " Timestamp('2024-03-27 00:00:00'),\n",
       " Timestamp('2024-03-28 00:00:00'),\n",
       " Timestamp('2024-03-29 00:00:00'),\n",
       " Timestamp('2024-03-30 00:00:00'),\n",
       " Timestamp('2024-03-31 00:00:00'),\n",
       " Timestamp('2024-04-01 00:00:00'),\n",
       " Timestamp('2024-04-02 00:00:00'),\n",
       " Timestamp('2024-04-03 00:00:00'),\n",
       " Timestamp('2024-04-04 00:00:00'),\n",
       " Timestamp('2024-04-05 00:00:00'),\n",
       " Timestamp('2024-04-06 00:00:00'),\n",
       " Timestamp('2024-04-07 00:00:00'),\n",
       " Timestamp('2024-04-08 00:00:00'),\n",
       " Timestamp('2024-04-09 00:00:00'),\n",
       " Timestamp('2024-04-10 00:00:00'),\n",
       " Timestamp('2024-04-11 00:00:00'),\n",
       " Timestamp('2024-04-12 00:00:00'),\n",
       " Timestamp('2024-04-13 00:00:00'),\n",
       " Timestamp('2024-04-14 00:00:00'),\n",
       " Timestamp('2024-04-15 00:00:00'),\n",
       " Timestamp('2024-04-16 00:00:00'),\n",
       " Timestamp('2024-04-17 00:00:00'),\n",
       " Timestamp('2024-04-18 00:00:00'),\n",
       " Timestamp('2024-04-19 00:00:00'),\n",
       " Timestamp('2024-04-20 00:00:00'),\n",
       " Timestamp('2024-04-21 00:00:00'),\n",
       " Timestamp('2024-04-22 00:00:00'),\n",
       " Timestamp('2024-04-23 00:00:00'),\n",
       " Timestamp('2024-04-24 00:00:00'),\n",
       " Timestamp('2024-04-25 00:00:00'),\n",
       " Timestamp('2024-04-26 00:00:00'),\n",
       " Timestamp('2024-04-27 00:00:00'),\n",
       " Timestamp('2024-04-28 00:00:00'),\n",
       " Timestamp('2024-04-29 00:00:00'),\n",
       " Timestamp('2024-04-30 00:00:00')}"
      ]
     },
     "execution_count": 242,
     "metadata": {},
     "output_type": "execute_result"
    }
   ],
   "source": [
    "missing_dates"
   ]
  },
  {
   "cell_type": "code",
   "execution_count": 244,
   "metadata": {},
   "outputs": [
    {
     "data": {
      "text/html": [
       "<div>\n",
       "<style scoped>\n",
       "    .dataframe tbody tr th:only-of-type {\n",
       "        vertical-align: middle;\n",
       "    }\n",
       "\n",
       "    .dataframe tbody tr th {\n",
       "        vertical-align: top;\n",
       "    }\n",
       "\n",
       "    .dataframe thead th {\n",
       "        text-align: right;\n",
       "    }\n",
       "</style>\n",
       "<table border=\"1\" class=\"dataframe\">\n",
       "  <thead>\n",
       "    <tr style=\"text-align: right;\">\n",
       "      <th></th>\n",
       "      <th>coin_id</th>\n",
       "      <th>missing_dates</th>\n",
       "    </tr>\n",
       "  </thead>\n",
       "  <tbody>\n",
       "    <tr>\n",
       "      <th>0</th>\n",
       "      <td>04f6120a-f0dd-4260-bb2b-b8f827fdba61</td>\n",
       "      <td>[]</td>\n",
       "    </tr>\n",
       "  </tbody>\n",
       "</table>\n",
       "</div>"
      ],
      "text/plain": [
       "                                coin_id missing_dates\n",
       "0  04f6120a-f0dd-4260-bb2b-b8f827fdba61            []"
      ]
     },
     "execution_count": 244,
     "metadata": {},
     "output_type": "execute_result"
    }
   ],
   "source": [
    "# Initialize a dictionary to store missing dates\n",
    "missing_dates_dict = {}\n",
    "\n",
    "# Iterate over unique coin_ids\n",
    "for coin_id in df['coin_id'].unique():\n",
    "    # Filter data for the current coin_id\n",
    "    coin_df = df[df['coin_id'] == coin_id]\n",
    "    \n",
    "    # Create the full date range for the coin, explicitly cast to datetime\n",
    "    full_date_range = pd.to_datetime(pd.date_range(start=coin_df['date'].min(), end=training_period_end))\n",
    "    \n",
    "    # Get the existing dates for the coin, explicitly cast to datetime\n",
    "    existing_dates = set(pd.to_datetime(coin_df['date'].unique()))\n",
    "    \n",
    "    # Find the missing dates by subtracting existing from full date range\n",
    "    missing_dates = set(full_date_range) - existing_dates\n",
    "    \n",
    "    # Store the missing dates for the current coin_id\n",
    "    missing_dates_dict[coin_id] = sorted(missing_dates)\n",
    "\n",
    "# Convert to DataFrame for easier display\n",
    "missing_dates_df = pd.DataFrame(list(missing_dates_dict.items()), columns=['coin_id', 'missing_dates'])\n",
    "missing_dates_df"
   ]
  },
  {
   "cell_type": "code",
   "execution_count": 245,
   "metadata": {},
   "outputs": [
    {
     "data": {
      "text/html": [
       "<div>\n",
       "<style scoped>\n",
       "    .dataframe tbody tr th:only-of-type {\n",
       "        vertical-align: middle;\n",
       "    }\n",
       "\n",
       "    .dataframe tbody tr th {\n",
       "        vertical-align: top;\n",
       "    }\n",
       "\n",
       "    .dataframe thead th {\n",
       "        text-align: right;\n",
       "    }\n",
       "</style>\n",
       "<table border=\"1\" class=\"dataframe\">\n",
       "  <thead>\n",
       "    <tr style=\"text-align: right;\">\n",
       "      <th></th>\n",
       "      <th>date</th>\n",
       "    </tr>\n",
       "    <tr>\n",
       "      <th>coin_id</th>\n",
       "      <th></th>\n",
       "    </tr>\n",
       "  </thead>\n",
       "  <tbody>\n",
       "    <tr>\n",
       "      <th>04f6120a-f0dd-4260-bb2b-b8f827fdba61</th>\n",
       "      <td>DatetimeIndex(['2024-01-01', '2024-01-02', '20...</td>\n",
       "    </tr>\n",
       "    <tr>\n",
       "      <th>0b9d343d-4e25-4d22-b49c-fa17509a0333</th>\n",
       "      <td>DatetimeIndex(['2024-01-01', '2024-01-02', '20...</td>\n",
       "    </tr>\n",
       "    <tr>\n",
       "      <th>0db96a94-082b-4e13-a315-860850e9ff4f</th>\n",
       "      <td>DatetimeIndex(['2024-01-01', '2024-01-02', '20...</td>\n",
       "    </tr>\n",
       "    <tr>\n",
       "      <th>0e1c102e-2e7d-4aed-af2d-1526c2e0720a</th>\n",
       "      <td>DatetimeIndex(['2024-01-01', '2024-01-02', '20...</td>\n",
       "    </tr>\n",
       "    <tr>\n",
       "      <th>0eedc336-a78e-4b25-957e-57117227ef78</th>\n",
       "      <td>DatetimeIndex(['2024-01-01', '2024-01-02', '20...</td>\n",
       "    </tr>\n",
       "    <tr>\n",
       "      <th>...</th>\n",
       "      <td>...</td>\n",
       "    </tr>\n",
       "    <tr>\n",
       "      <th>f68b64ae-61d5-4dd6-b448-4ae9c754bd07</th>\n",
       "      <td>DatetimeIndex(['2024-01-01', '2024-01-02', '20...</td>\n",
       "    </tr>\n",
       "    <tr>\n",
       "      <th>f7b278de-7fa7-4f87-ba5d-3eb2e57d933a</th>\n",
       "      <td>DatetimeIndex(['2024-01-01', '2024-01-02', '20...</td>\n",
       "    </tr>\n",
       "    <tr>\n",
       "      <th>f87b6a04-49f1-475c-8a0d-e65ddea3129c</th>\n",
       "      <td>DatetimeIndex(['2024-01-01', '2024-01-02', '20...</td>\n",
       "    </tr>\n",
       "    <tr>\n",
       "      <th>f9d19e1d-8637-4e7c-b808-4b4bfe18e316</th>\n",
       "      <td>DatetimeIndex(['2024-01-01', '2024-01-02', '20...</td>\n",
       "    </tr>\n",
       "    <tr>\n",
       "      <th>fd1f38d9-5c05-4809-80fe-b67a07fd345c</th>\n",
       "      <td>DatetimeIndex(['2024-01-01', '2024-01-02', '20...</td>\n",
       "    </tr>\n",
       "  </tbody>\n",
       "</table>\n",
       "<p>118 rows × 1 columns</p>\n",
       "</div>"
      ],
      "text/plain": [
       "                                                                                   date\n",
       "coin_id                                                                                \n",
       "04f6120a-f0dd-4260-bb2b-b8f827fdba61  DatetimeIndex(['2024-01-01', '2024-01-02', '20...\n",
       "0b9d343d-4e25-4d22-b49c-fa17509a0333  DatetimeIndex(['2024-01-01', '2024-01-02', '20...\n",
       "0db96a94-082b-4e13-a315-860850e9ff4f  DatetimeIndex(['2024-01-01', '2024-01-02', '20...\n",
       "0e1c102e-2e7d-4aed-af2d-1526c2e0720a  DatetimeIndex(['2024-01-01', '2024-01-02', '20...\n",
       "0eedc336-a78e-4b25-957e-57117227ef78  DatetimeIndex(['2024-01-01', '2024-01-02', '20...\n",
       "...                                                                                 ...\n",
       "f68b64ae-61d5-4dd6-b448-4ae9c754bd07  DatetimeIndex(['2024-01-01', '2024-01-02', '20...\n",
       "f7b278de-7fa7-4f87-ba5d-3eb2e57d933a  DatetimeIndex(['2024-01-01', '2024-01-02', '20...\n",
       "f87b6a04-49f1-475c-8a0d-e65ddea3129c  DatetimeIndex(['2024-01-01', '2024-01-02', '20...\n",
       "f9d19e1d-8637-4e7c-b808-4b4bfe18e316  DatetimeIndex(['2024-01-01', '2024-01-02', '20...\n",
       "fd1f38d9-5c05-4809-80fe-b67a07fd345c  DatetimeIndex(['2024-01-01', '2024-01-02', '20...\n",
       "\n",
       "[118 rows x 1 columns]"
      ]
     },
     "execution_count": 245,
     "metadata": {},
     "output_type": "execute_result"
    }
   ],
   "source": [
    "training_period_end = '2024-04-30'\n",
    "\n",
    "df = buysell_metrics_df\n",
    "missing_dates = df.groupby('coin_id')['date'].apply(\n",
    "    lambda x: pd.date_range(start=x.min(), end=training_period_end).difference(x.unique())\n",
    ")\n",
    "# missing_dates_df = missing_dates.reset_index(level=0)\n",
    "pd.DataFrame(missing_dates)"
   ]
  },
  {
   "cell_type": "code",
   "execution_count": 246,
   "metadata": {},
   "outputs": [],
   "source": [
    "# Initialize a dictionary to store missing dates\n",
    "missing_dates_dict = {}\n",
    "\n",
    "# Iterate over unique coin_ids\n",
    "for coin_id in df['coin_id'].unique():\n",
    "    # Filter data for the current coin_id\n",
    "    coin_df = df[df['coin_id'] == coin_id]\n",
    "    \n",
    "    # Create the full date range for the coin, explicitly cast to pd.Timestamp\n",
    "    full_date_range = pd.to_datetime(pd.date_range(start=coin_df['date'].min(), end=training_period_end)).to_pydatetime()\n",
    "\n",
    "    # Get the existing dates for the coin, explicitly cast to pd.Timestamp\n",
    "    existing_dates = set(pd.to_datetime(coin_df['date'].unique()).to_pydatetime())\n",
    "    \n",
    "    # Find the missing dates by subtracting existing from full date range\n",
    "    missing_dates = set(full_date_range) - existing_dates\n",
    "    \n",
    "    # Store the missing dates for the current coin_id\n",
    "    missing_dates_dict[coin_id] = sorted(missing_dates)\n",
    "\n",
    "# Convert to DataFrame for easier display\n",
    "missing_dates_df = pd.DataFrame(list(missing_dates_dict.items()), columns=['coin_id', 'missing_dates'])"
   ]
  },
  {
   "cell_type": "code",
   "execution_count": 235,
   "metadata": {},
   "outputs": [
    {
     "data": {
      "text/html": [
       "<div>\n",
       "<style scoped>\n",
       "    .dataframe tbody tr th:only-of-type {\n",
       "        vertical-align: middle;\n",
       "    }\n",
       "\n",
       "    .dataframe tbody tr th {\n",
       "        vertical-align: top;\n",
       "    }\n",
       "\n",
       "    .dataframe thead th {\n",
       "        text-align: right;\n",
       "    }\n",
       "</style>\n",
       "<table border=\"1\" class=\"dataframe\">\n",
       "  <thead>\n",
       "    <tr style=\"text-align: right;\">\n",
       "      <th></th>\n",
       "      <th>coin_id</th>\n",
       "      <th>missing_dates</th>\n",
       "    </tr>\n",
       "  </thead>\n",
       "  <tbody>\n",
       "    <tr>\n",
       "      <th>0</th>\n",
       "      <td>04f6120a-f0dd-4260-bb2b-b8f827fdba61</td>\n",
       "      <td>[2024-01-01 00:00:00, 2024-01-02 00:00:00, 202...</td>\n",
       "    </tr>\n",
       "    <tr>\n",
       "      <th>1</th>\n",
       "      <td>0b9d343d-4e25-4d22-b49c-fa17509a0333</td>\n",
       "      <td>[2024-01-01 00:00:00, 2024-01-02 00:00:00, 202...</td>\n",
       "    </tr>\n",
       "    <tr>\n",
       "      <th>2</th>\n",
       "      <td>0db96a94-082b-4e13-a315-860850e9ff4f</td>\n",
       "      <td>[2024-01-01 00:00:00, 2024-01-02 00:00:00, 202...</td>\n",
       "    </tr>\n",
       "    <tr>\n",
       "      <th>3</th>\n",
       "      <td>0e1c102e-2e7d-4aed-af2d-1526c2e0720a</td>\n",
       "      <td>[2024-01-01 00:00:00, 2024-01-02 00:00:00, 202...</td>\n",
       "    </tr>\n",
       "    <tr>\n",
       "      <th>4</th>\n",
       "      <td>0eedc336-a78e-4b25-957e-57117227ef78</td>\n",
       "      <td>[2024-01-01 00:00:00, 2024-01-02 00:00:00, 202...</td>\n",
       "    </tr>\n",
       "    <tr>\n",
       "      <th>...</th>\n",
       "      <td>...</td>\n",
       "      <td>...</td>\n",
       "    </tr>\n",
       "    <tr>\n",
       "      <th>113</th>\n",
       "      <td>f68b64ae-61d5-4dd6-b448-4ae9c754bd07</td>\n",
       "      <td>[2024-01-01 00:00:00, 2024-01-02 00:00:00, 202...</td>\n",
       "    </tr>\n",
       "    <tr>\n",
       "      <th>114</th>\n",
       "      <td>f7b278de-7fa7-4f87-ba5d-3eb2e57d933a</td>\n",
       "      <td>[2024-01-01 00:00:00, 2024-01-02 00:00:00, 202...</td>\n",
       "    </tr>\n",
       "    <tr>\n",
       "      <th>115</th>\n",
       "      <td>f87b6a04-49f1-475c-8a0d-e65ddea3129c</td>\n",
       "      <td>[2024-01-01 00:00:00, 2024-01-02 00:00:00, 202...</td>\n",
       "    </tr>\n",
       "    <tr>\n",
       "      <th>116</th>\n",
       "      <td>f9d19e1d-8637-4e7c-b808-4b4bfe18e316</td>\n",
       "      <td>[2024-01-01 00:00:00, 2024-01-02 00:00:00, 202...</td>\n",
       "    </tr>\n",
       "    <tr>\n",
       "      <th>117</th>\n",
       "      <td>fd1f38d9-5c05-4809-80fe-b67a07fd345c</td>\n",
       "      <td>[2024-01-01 00:00:00, 2024-01-02 00:00:00, 202...</td>\n",
       "    </tr>\n",
       "  </tbody>\n",
       "</table>\n",
       "<p>118 rows × 2 columns</p>\n",
       "</div>"
      ],
      "text/plain": [
       "                                  coin_id  \\\n",
       "0    04f6120a-f0dd-4260-bb2b-b8f827fdba61   \n",
       "1    0b9d343d-4e25-4d22-b49c-fa17509a0333   \n",
       "2    0db96a94-082b-4e13-a315-860850e9ff4f   \n",
       "3    0e1c102e-2e7d-4aed-af2d-1526c2e0720a   \n",
       "4    0eedc336-a78e-4b25-957e-57117227ef78   \n",
       "..                                    ...   \n",
       "113  f68b64ae-61d5-4dd6-b448-4ae9c754bd07   \n",
       "114  f7b278de-7fa7-4f87-ba5d-3eb2e57d933a   \n",
       "115  f87b6a04-49f1-475c-8a0d-e65ddea3129c   \n",
       "116  f9d19e1d-8637-4e7c-b808-4b4bfe18e316   \n",
       "117  fd1f38d9-5c05-4809-80fe-b67a07fd345c   \n",
       "\n",
       "                                         missing_dates  \n",
       "0    [2024-01-01 00:00:00, 2024-01-02 00:00:00, 202...  \n",
       "1    [2024-01-01 00:00:00, 2024-01-02 00:00:00, 202...  \n",
       "2    [2024-01-01 00:00:00, 2024-01-02 00:00:00, 202...  \n",
       "3    [2024-01-01 00:00:00, 2024-01-02 00:00:00, 202...  \n",
       "4    [2024-01-01 00:00:00, 2024-01-02 00:00:00, 202...  \n",
       "..                                                 ...  \n",
       "113  [2024-01-01 00:00:00, 2024-01-02 00:00:00, 202...  \n",
       "114  [2024-01-01 00:00:00, 2024-01-02 00:00:00, 202...  \n",
       "115  [2024-01-01 00:00:00, 2024-01-02 00:00:00, 202...  \n",
       "116  [2024-01-01 00:00:00, 2024-01-02 00:00:00, 202...  \n",
       "117  [2024-01-01 00:00:00, 2024-01-02 00:00:00, 202...  \n",
       "\n",
       "[118 rows x 2 columns]"
      ]
     },
     "execution_count": 235,
     "metadata": {},
     "output_type": "execute_result"
    }
   ],
   "source": [
    "# Initialize a dictionary to store missing dates\n",
    "missing_dates_dict = {}\n",
    "\n",
    "# Iterate over unique coin_ids\n",
    "for coin_id in df['coin_id'].unique():\n",
    "    # Filter data for the current coin_id\n",
    "    coin_df = df[df['coin_id'] == coin_id]\n",
    "    \n",
    "    # Create the full date range for the coin\n",
    "    full_date_range = pd.date_range(start=coin_df['date'].min(), end=training_period_end)\n",
    "    \n",
    "    # Get the existing dates for the coin\n",
    "    existing_dates = set(coin_df['date'].unique())\n",
    "    \n",
    "    # Find the missing dates by subtracting existing from full date range\n",
    "    missing_dates = set(full_date_range) - existing_dates\n",
    "    \n",
    "    # Store the missing dates for the current coin_id\n",
    "    missing_dates_dict[coin_id] = sorted(missing_dates)\n",
    "\n",
    "# Convert to DataFrame for easier display\n",
    "missing_dates_df = pd.DataFrame(list(missing_dates_dict.items()), columns=['coin_id', 'missing_dates'])\n",
    "missing_dates_df"
   ]
  },
  {
   "cell_type": "code",
   "execution_count": 234,
   "metadata": {},
   "outputs": [
    {
     "data": {
      "text/plain": [
       "coin_id\n",
       "04f6120a-f0dd-4260-bb2b-b8f827fdba61    121\n",
       "0b9d343d-4e25-4d22-b49c-fa17509a0333    121\n",
       "0db96a94-082b-4e13-a315-860850e9ff4f    121\n",
       "0e1c102e-2e7d-4aed-af2d-1526c2e0720a    121\n",
       "0eedc336-a78e-4b25-957e-57117227ef78    121\n",
       "                                       ... \n",
       "f68b64ae-61d5-4dd6-b448-4ae9c754bd07    121\n",
       "f7b278de-7fa7-4f87-ba5d-3eb2e57d933a    121\n",
       "f87b6a04-49f1-475c-8a0d-e65ddea3129c    121\n",
       "f9d19e1d-8637-4e7c-b808-4b4bfe18e316    121\n",
       "fd1f38d9-5c05-4809-80fe-b67a07fd345c    121\n",
       "Name: date, Length: 118, dtype: int64"
      ]
     },
     "execution_count": 234,
     "metadata": {},
     "output_type": "execute_result"
    }
   ],
   "source": [
    "df.groupby('coin_id')['date'].count()"
   ]
  },
  {
   "cell_type": "code",
   "execution_count": 219,
   "metadata": {},
   "outputs": [
    {
     "ename": "ValueError",
     "evalue": "('Timeseries contains missing dates. Ensure all dates are filled up to the training_period_end for all coins. Missing dates found: %s', coin_id\n04f6120a-f0dd-4260-bb2b-b8f827fdba61    DatetimeIndex(['2024-01-01', '2024-01-02', '20...\n0b9d343d-4e25-4d22-b49c-fa17509a0333    DatetimeIndex(['2024-01-01', '2024-01-02', '20...\n0db96a94-082b-4e13-a315-860850e9ff4f    DatetimeIndex(['2024-01-01', '2024-01-02', '20...\n0e1c102e-2e7d-4aed-af2d-1526c2e0720a    DatetimeIndex(['2024-01-01', '2024-01-02', '20...\n0eedc336-a78e-4b25-957e-57117227ef78    DatetimeIndex(['2024-01-01', '2024-01-02', '20...\n                                                              ...                        \nf68b64ae-61d5-4dd6-b448-4ae9c754bd07    DatetimeIndex(['2024-01-01', '2024-01-02', '20...\nf7b278de-7fa7-4f87-ba5d-3eb2e57d933a    DatetimeIndex(['2024-01-01', '2024-01-02', '20...\nf87b6a04-49f1-475c-8a0d-e65ddea3129c    DatetimeIndex(['2024-01-01', '2024-01-02', '20...\nf9d19e1d-8637-4e7c-b808-4b4bfe18e316    DatetimeIndex(['2024-01-01', '2024-01-02', '20...\nfd1f38d9-5c05-4809-80fe-b67a07fd345c    DatetimeIndex(['2024-01-01', '2024-01-02', '20...\nName: date, Length: 118, dtype: object)",
     "output_type": "error",
     "traceback": [
      "\u001b[0;31m---------------------------------------------------------------------------\u001b[0m",
      "\u001b[0;31mValueError\u001b[0m                                Traceback (most recent call last)",
      "Cell \u001b[0;32mIn[219], line 5\u001b[0m\n\u001b[1;32m      2\u001b[0m importlib\u001b[38;5;241m.\u001b[39mreload(cwm)\n\u001b[1;32m      3\u001b[0m importlib\u001b[38;5;241m.\u001b[39mreload(fe)\n\u001b[0;32m----> 5\u001b[0m flattened_buysell_metrics_df \u001b[38;5;241m=\u001b[39m \u001b[43mfe\u001b[49m\u001b[38;5;241;43m.\u001b[39;49m\u001b[43mflatten_coin_date_df\u001b[49m\u001b[43m(\u001b[49m\u001b[43mbuysell_metrics_df\u001b[49m\u001b[43m,\u001b[49m\u001b[43m \u001b[49m\u001b[43mmetrics_config\u001b[49m\u001b[43m,\u001b[49m\u001b[43m \u001b[49m\u001b[43mconfig\u001b[49m\u001b[43m[\u001b[49m\u001b[38;5;124;43m'\u001b[39;49m\u001b[38;5;124;43mtraining_data\u001b[39;49m\u001b[38;5;124;43m'\u001b[39;49m\u001b[43m]\u001b[49m\u001b[43m[\u001b[49m\u001b[38;5;124;43m'\u001b[39;49m\u001b[38;5;124;43mtraining_period_end\u001b[39;49m\u001b[38;5;124;43m'\u001b[39;49m\u001b[43m]\u001b[49m\u001b[43m)\u001b[49m\n",
      "File \u001b[0;32m~/DreamsData/GitHub/data-science/notebooks/..//src/feature_engineering.py:45\u001b[0m, in \u001b[0;36mflatten_coin_date_df\u001b[0;34m(df, metrics_config, training_period_end)\u001b[0m\n\u001b[1;32m     41\u001b[0m missing_dates \u001b[38;5;241m=\u001b[39m df\u001b[38;5;241m.\u001b[39mgroupby(\u001b[38;5;124m'\u001b[39m\u001b[38;5;124mcoin_id\u001b[39m\u001b[38;5;124m'\u001b[39m)[\u001b[38;5;124m'\u001b[39m\u001b[38;5;124mdate\u001b[39m\u001b[38;5;124m'\u001b[39m]\u001b[38;5;241m.\u001b[39mapply(\n\u001b[1;32m     42\u001b[0m     \u001b[38;5;28;01mlambda\u001b[39;00m x: pd\u001b[38;5;241m.\u001b[39mdate_range(start\u001b[38;5;241m=\u001b[39mx\u001b[38;5;241m.\u001b[39mmin(), end\u001b[38;5;241m=\u001b[39mtraining_period_end)\u001b[38;5;241m.\u001b[39mdifference(x)\n\u001b[1;32m     43\u001b[0m )\n\u001b[1;32m     44\u001b[0m \u001b[38;5;28;01mif\u001b[39;00m \u001b[38;5;28many\u001b[39m(\u001b[38;5;28mlen\u001b[39m(missing) \u001b[38;5;241m>\u001b[39m \u001b[38;5;241m0\u001b[39m \u001b[38;5;28;01mfor\u001b[39;00m missing \u001b[38;5;129;01min\u001b[39;00m missing_dates):\n\u001b[0;32m---> 45\u001b[0m     \u001b[38;5;28;01mraise\u001b[39;00m \u001b[38;5;167;01mValueError\u001b[39;00m(\u001b[38;5;124m\"\u001b[39m\u001b[38;5;124mTimeseries contains missing dates. Ensure all dates are filled up to the training_period_end for all coins. Missing dates found: \u001b[39m\u001b[38;5;132;01m%s\u001b[39;00m\u001b[38;5;124m\"\u001b[39m, missing_dates)\n\u001b[1;32m     47\u001b[0m \u001b[38;5;66;03m# Check for NaN values\u001b[39;00m\n\u001b[1;32m     48\u001b[0m \u001b[38;5;28;01mif\u001b[39;00m df\u001b[38;5;241m.\u001b[39misnull()\u001b[38;5;241m.\u001b[39mvalues\u001b[38;5;241m.\u001b[39many():\n",
      "\u001b[0;31mValueError\u001b[0m: ('Timeseries contains missing dates. Ensure all dates are filled up to the training_period_end for all coins. Missing dates found: %s', coin_id\n04f6120a-f0dd-4260-bb2b-b8f827fdba61    DatetimeIndex(['2024-01-01', '2024-01-02', '20...\n0b9d343d-4e25-4d22-b49c-fa17509a0333    DatetimeIndex(['2024-01-01', '2024-01-02', '20...\n0db96a94-082b-4e13-a315-860850e9ff4f    DatetimeIndex(['2024-01-01', '2024-01-02', '20...\n0e1c102e-2e7d-4aed-af2d-1526c2e0720a    DatetimeIndex(['2024-01-01', '2024-01-02', '20...\n0eedc336-a78e-4b25-957e-57117227ef78    DatetimeIndex(['2024-01-01', '2024-01-02', '20...\n                                                              ...                        \nf68b64ae-61d5-4dd6-b448-4ae9c754bd07    DatetimeIndex(['2024-01-01', '2024-01-02', '20...\nf7b278de-7fa7-4f87-ba5d-3eb2e57d933a    DatetimeIndex(['2024-01-01', '2024-01-02', '20...\nf87b6a04-49f1-475c-8a0d-e65ddea3129c    DatetimeIndex(['2024-01-01', '2024-01-02', '20...\nf9d19e1d-8637-4e7c-b808-4b4bfe18e316    DatetimeIndex(['2024-01-01', '2024-01-02', '20...\nfd1f38d9-5c05-4809-80fe-b67a07fd345c    DatetimeIndex(['2024-01-01', '2024-01-02', '20...\nName: date, Length: 118, dtype: object)"
     ]
    }
   ],
   "source": [
    "importlib.reload(td)\n",
    "importlib.reload(cwm)\n",
    "importlib.reload(fe)\n",
    "\n",
    "flattened_buysell_metrics_df = fe.flatten_coin_date_df(buysell_metrics_df, metrics_config, config['training_data']['training_period_end'])\n"
   ]
  },
  {
   "cell_type": "code",
   "execution_count": 216,
   "metadata": {},
   "outputs": [
    {
     "ename": "ValueError",
     "evalue": "Timeseries contains missing dates. Ensure all dates are filled up to the training_period_end before calling flatten_coin_date_df().",
     "output_type": "error",
     "traceback": [
      "\u001b[0;31m---------------------------------------------------------------------------\u001b[0m",
      "\u001b[0;31mValueError\u001b[0m                                Traceback (most recent call last)",
      "Cell \u001b[0;32mIn[216], line 2\u001b[0m\n\u001b[1;32m      1\u001b[0m \u001b[38;5;66;03m# Flatten the buysell metrics DataFrame\u001b[39;00m\n\u001b[0;32m----> 2\u001b[0m flattened_buysell_metrics_df \u001b[38;5;241m=\u001b[39m \u001b[43mfe\u001b[49m\u001b[38;5;241;43m.\u001b[39;49m\u001b[43mflatten_coin_date_df\u001b[49m\u001b[43m(\u001b[49m\u001b[43mbuysell_metrics_df\u001b[49m\u001b[43m,\u001b[49m\u001b[43m \u001b[49m\u001b[43mmetrics_config\u001b[49m\u001b[43m,\u001b[49m\u001b[43m \u001b[49m\u001b[43mconfig\u001b[49m\u001b[43m[\u001b[49m\u001b[38;5;124;43m'\u001b[39;49m\u001b[38;5;124;43mtraining_data\u001b[39;49m\u001b[38;5;124;43m'\u001b[39;49m\u001b[43m]\u001b[49m\u001b[43m[\u001b[49m\u001b[38;5;124;43m'\u001b[39;49m\u001b[38;5;124;43mtraining_period_end\u001b[39;49m\u001b[38;5;124;43m'\u001b[39;49m\u001b[43m]\u001b[49m\u001b[43m)\u001b[49m\n\u001b[1;32m      4\u001b[0m \u001b[38;5;66;03m# Example: Verify that total_bought is aggregated as a sum\u001b[39;00m\n\u001b[1;32m      5\u001b[0m \u001b[38;5;66;03m# Group original by coin_id and date for manual verification\u001b[39;00m\n\u001b[1;32m      6\u001b[0m expected_total_bought \u001b[38;5;241m=\u001b[39m buysell_metrics_df\u001b[38;5;241m.\u001b[39mgroupby([\u001b[38;5;124m'\u001b[39m\u001b[38;5;124mcoin_id\u001b[39m\u001b[38;5;124m'\u001b[39m, \u001b[38;5;124m'\u001b[39m\u001b[38;5;124mdate\u001b[39m\u001b[38;5;124m'\u001b[39m])[\u001b[38;5;124m'\u001b[39m\u001b[38;5;124mtotal_bought\u001b[39m\u001b[38;5;124m'\u001b[39m]\u001b[38;5;241m.\u001b[39msum()\u001b[38;5;241m.\u001b[39mreset_index()\n",
      "File \u001b[0;32m~/DreamsData/GitHub/data-science/notebooks/..//src/feature_engineering.py:44\u001b[0m, in \u001b[0;36mflatten_coin_date_df\u001b[0;34m(df, metrics_config, training_period_end)\u001b[0m\n\u001b[1;32m     40\u001b[0m \u001b[38;5;66;03m# Check for missing dates in each coin-wallet pair up to the training_period_end\u001b[39;00m\n\u001b[1;32m     41\u001b[0m missing_dates \u001b[38;5;241m=\u001b[39m df\u001b[38;5;241m.\u001b[39mgroupby(\u001b[38;5;124m'\u001b[39m\u001b[38;5;124mcoin_id\u001b[39m\u001b[38;5;124m'\u001b[39m)[\u001b[38;5;124m'\u001b[39m\u001b[38;5;124mdate\u001b[39m\u001b[38;5;124m'\u001b[39m]\u001b[38;5;241m.\u001b[39mapply(\n\u001b[1;32m     42\u001b[0m     \u001b[38;5;28;01mlambda\u001b[39;00m x: pd\u001b[38;5;241m.\u001b[39mdate_range(start\u001b[38;5;241m=\u001b[39mx\u001b[38;5;241m.\u001b[39mmin(), end\u001b[38;5;241m=\u001b[39mtraining_period_end)\u001b[38;5;241m.\u001b[39mdifference(x)\n\u001b[1;32m     43\u001b[0m )\n\u001b[0;32m---> 44\u001b[0m \u001b[38;5;28;01mif\u001b[39;00m \u001b[38;5;28many\u001b[39m(\u001b[38;5;28mlen\u001b[39m(missing) \u001b[38;5;241m>\u001b[39m \u001b[38;5;241m0\u001b[39m \u001b[38;5;28;01mfor\u001b[39;00m missing \u001b[38;5;129;01min\u001b[39;00m missing_dates):\n\u001b[1;32m     45\u001b[0m     \u001b[38;5;28;01mraise\u001b[39;00m \u001b[38;5;167;01mValueError\u001b[39;00m(\u001b[38;5;124m\"\u001b[39m\u001b[38;5;124mTimeseries contains missing dates. Ensure all dates are filled up to the training_period_end before calling flatten_coin_date_df().\u001b[39m\u001b[38;5;124m\"\u001b[39m)\n\u001b[1;32m     47\u001b[0m \u001b[38;5;66;03m# Check for NaN values\u001b[39;00m\n",
      "\u001b[0;31mValueError\u001b[0m: Timeseries contains missing dates. Ensure all dates are filled up to the training_period_end before calling flatten_coin_date_df()."
     ]
    }
   ],
   "source": [
    "# Flatten the buysell metrics DataFrame\n",
    "flattened_buysell_metrics_df = fe.flatten_coin_date_df(buysell_metrics_df, metrics_config, config['training_data']['training_period_end'])\n",
    "\n",
    "# Example: Verify that total_bought is aggregated as a sum\n",
    "# Group original by coin_id and date for manual verification\n",
    "expected_total_bought = buysell_metrics_df.groupby(['coin_id', 'date'])['total_bought'].sum().reset_index()\n",
    "\n",
    "# Compare to the flattened result\n",
    "result_total_bought = flattened_buysell_metrics_df[['coin_id', 'date', 'total_bought']]\n"
   ]
  },
  {
   "cell_type": "code",
   "execution_count": 218,
   "metadata": {},
   "outputs": [
    {
     "data": {
      "text/plain": [
       "'2024-04-30'"
      ]
     },
     "execution_count": 218,
     "metadata": {},
     "output_type": "execute_result"
    }
   ],
   "source": [
    "config['training_data']['training_period_end']"
   ]
  },
  {
   "cell_type": "code",
   "execution_count": null,
   "metadata": {},
   "outputs": [],
   "source": []
  }
 ],
 "metadata": {
  "kernelspec": {
   "display_name": "dreams_venv",
   "language": "python",
   "name": "python3"
  },
  "language_info": {
   "codemirror_mode": {
    "name": "ipython",
    "version": 3
   },
   "file_extension": ".py",
   "mimetype": "text/x-python",
   "name": "python",
   "nbconvert_exporter": "python",
   "pygments_lexer": "ipython3",
   "version": "3.11.9"
  }
 },
 "nbformat": 4,
 "nbformat_minor": 2
}
