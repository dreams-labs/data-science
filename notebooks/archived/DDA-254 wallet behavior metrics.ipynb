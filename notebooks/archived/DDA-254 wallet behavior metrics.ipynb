{
 "cells": [
  {
   "cell_type": "code",
   "execution_count": null,
   "metadata": {},
   "outputs": [],
   "source": [
    "import sys\n",
    "import os\n",
    "import time\n",
    "import logging\n",
    "import datetime\n",
    "from datetime import datetime, timedelta\n",
    "import yaml\n",
    "import importlib\n",
    "from dotenv import load_dotenv\n",
    "import pandas as pd\n",
    "import numpy as np\n",
    "import requests\n",
    "import pandas_gbq\n",
    "from dreams_core.googlecloud import GoogleCloud as dgc\n",
    "from dreams_core import core as dc\n",
    "import matplotlib.pyplot as plt\n",
    "from scipy.signal import argrelextrema\n",
    "\n",
    "\n",
    "# import local files if necessary\n",
    "sys.path.append('..//src')\n",
    "import training_data as td\n",
    "importlib.reload(td)\n",
    "\n",
    "# load dotenv\n",
    "load_dotenv()\n",
    "\n",
    "# configure logger\n",
    "logger = dc.setup_logger()\n",
    "logger.setLevel(logging.INFO)\n",
    "\n",
    "# Custom format function for displaying numbers\n",
    "pd.set_option('display.float_format', lambda x: f'{x:.12g}')\n",
    "# pd.reset_option('display.float_format')\n",
    "\n",
    "\n",
    "def load_config(file_path='config.yaml'):\n",
    "    with open(file_path, 'r') as file:\n",
    "        return yaml.safe_load(file)\n",
    "config = load_config()\n",
    "\n",
    "def cw_filter_df(df, coin_id, wallet_address):\n",
    "    filtered_df = df[\n",
    "        (df['coin_id'] == coin_id) &\n",
    "        (df['wallet_address'] == wallet_address)\n",
    "    ]\n",
    "    return filtered_df\n"
   ]
  },
  {
   "cell_type": "markdown",
   "metadata": {},
   "source": [
    "#### Load the datasets"
   ]
  },
  {
   "cell_type": "code",
   "execution_count": null,
   "metadata": {},
   "outputs": [],
   "source": [
    "importlib.reload(td)\n",
    "config = load_config()\n",
    "\n",
    "\n",
    "# retrieve prices data\n",
    "prices_df = td.retrieve_prices_data()\n",
    "\n",
    "# fill gaps in prices data\n",
    "prices_df,_ = td.fill_prices_gaps(prices_df,config['data_cleaning']['max_gap_days'])\n",
    "logger.info(f\"Prices data shape: {prices_df.shape}\")\n",
    "\n",
    "# retrieve transfers data\n",
    "transfers_df = td.retrieve_transfers_data(\n",
    "    config['modeling']['training_period_start'],\n",
    "    config['modeling']['modeling_period_start'],\n",
    "    config['modeling']['modeling_period_end']\n",
    "    )\n",
    "logger.info(f\"Transfers data shape: {transfers_df.shape}\")\n",
    "\n",
    "# compile profits_df\n",
    "profits_df = td.prepare_profits_data(transfers_df, prices_df)\n",
    "profits_df = td.calculate_wallet_profitability(profits_df)\n",
    "profits_df,_ = td.clean_profits_df(profits_df, config['data_cleaning'])\n",
    "logger.info(f\"Profits data shape: {profits_df.shape}\")\n",
    "\n",
    "\n",
    "# identify sharks\n",
    "shark_coins_df = td.classify_shark_coins(profits_df, config['modeling'])\n",
    "shark_wallets_df = td.classify_shark_wallets(shark_coins_df,config['modeling'])\n",
    "\n",
    "\n",
    "# assess shark performance\n",
    "shark_agg_performance_df,shark_wallets_performance_df = td.calculate_shark_performance(transfers_df, prices_df, shark_wallets_df, config)\n",
    "shark_agg_performance_df"
   ]
  },
  {
   "cell_type": "code",
   "execution_count": null,
   "metadata": {},
   "outputs": [],
   "source": [
    "shark_wallets_performance_df.sort_values('usd_inflows_cumulative',ascending=False).head(10)"
   ]
  },
  {
   "cell_type": "code",
   "execution_count": null,
   "metadata": {},
   "outputs": [],
   "source": []
  },
  {
   "cell_type": "code",
   "execution_count": null,
   "metadata": {},
   "outputs": [],
   "source": [
    "w = '0x28c6c06298d514db089934071355e5743bf21d60'\n",
    "# transfers_df[transfers_df['wallet_address']==w]\n",
    "profits_df[profits_df['wallet_address']==w].max()\n",
    "# # shark_coins_df[shark_coins_df['wallet_address']==w]\n",
    "# shark_wallets_df[shark_wallets_df['wallet_address']==w]"
   ]
  },
  {
   "cell_type": "code",
   "execution_count": null,
   "metadata": {},
   "outputs": [],
   "source": []
  },
  {
   "cell_type": "code",
   "execution_count": null,
   "metadata": {},
   "outputs": [],
   "source": [
    "# Filter transfers for the modeling period\n",
    "modeling_period_transfers_df = transfers_df[\n",
    "    (transfers_df['date'] >= config['modeling']['modeling_period_start']) &\n",
    "    (transfers_df['date'] <= config['modeling']['modeling_period_end'])\n",
    "]\n",
    "\n",
    "# Create profits_df for the modeling period\n",
    "modeling_period_profits_df = td.prepare_profits_data(modeling_period_transfers_df, prices_df)\n",
    "modeling_period_profits_df = td.calculate_wallet_profitability(modeling_period_profits_df)\n",
    "\n",
    "# Retrieve profit state at the end of the period for each coin-wallet pair\n",
    "modeling_end_profits_df = modeling_period_profits_df[\n",
    "    modeling_period_profits_df['date'] == config['modeling']['modeling_period_end']\n",
    "]\n",
    "\n",
    "# Aggregate wallet-level metrics by summing usd inflows and profits\n",
    "modeling_end_wallet_profits_df = modeling_end_profits_df.groupby('wallet_address')[\n",
    "    ['usd_inflows_cumulative', 'profits_cumulative']\n",
    "].sum()\n",
    "\n",
    "# Classify wallets by shark status and compare their performance\n",
    "shark_performance_df = shark_wallets_df[['wallet_address', 'is_shark']].merge(\n",
    "    modeling_end_wallet_profits_df,\n",
    "    on='wallet_address',\n",
    "    how='left'\n",
    ")\n"
   ]
  },
  {
   "cell_type": "code",
   "execution_count": null,
   "metadata": {},
   "outputs": [],
   "source": [
    "modeling_end_wallet_profits_df.reset_index()"
   ]
  },
  {
   "cell_type": "code",
   "execution_count": null,
   "metadata": {},
   "outputs": [],
   "source": [
    "w = 'BmPLYFnk2wSSQZMd3TZoajeu62fF5fFrAkioi8vxZbHo'\n",
    "\n",
    "# transfers_df[transfers_df['wallet_address']==w]\n",
    "# profits_df[profits_df['wallet_address']==w]\n",
    "# shark_coins_df[shark_coins_df['wallet_address']==w]\n",
    "# shark_wallets_df[shark_wallets_df['wallet_address']==w]\n",
    "shark_wallets_df[shark_wallets_df['wallet_address']==w]"
   ]
  },
  {
   "cell_type": "code",
   "execution_count": null,
   "metadata": {},
   "outputs": [],
   "source": [
    "\n",
    "df = modeling_end_wallet_profits_df.reset_index()\n",
    "df[df['wallet_address']==w]"
   ]
  },
  {
   "cell_type": "code",
   "execution_count": null,
   "metadata": {},
   "outputs": [],
   "source": [
    "shark_performance_df[shark_performance_df['wallet_address']==w]"
   ]
  },
  {
   "cell_type": "code",
   "execution_count": null,
   "metadata": {},
   "outputs": [],
   "source": []
  },
  {
   "cell_type": "code",
   "execution_count": null,
   "metadata": {},
   "outputs": [],
   "source": [
    "# Classify wallets by shark status and compare their performance\n",
    "shark_performance_df = shark_wallets_df[['wallet_address', 'is_shark']].merge(\n",
    "    modeling_end_metrics_df,\n",
    "    on='wallet_address',\n",
    "    how='left'\n",
    ")\n",
    "\n",
    "# Replace NaNs with 0s for wallets that had no inflows and profits in the modeling period\n",
    "shark_performance_df['usd_inflows_cumulative'] = shark_performance_df['usd_inflows_cumulative'].fillna(0)\n",
    "shark_performance_df['profits_cumulative'] = shark_performance_df['profits_cumulative'].fillna(0)\n",
    "\n",
    "\n",
    "# Remove wallet_address for aggregation\n",
    "shark_performance_df = shark_performance_df.groupby('is_shark').agg(\n",
    "    count_wallets=('wallet_address', 'size'),\n",
    "    median_inflows=('usd_inflows_cumulative', 'median'),\n",
    "    median_profits=('profits_cumulative', 'median'),\n",
    "    mean_inflows=('usd_inflows_cumulative', 'mean'),\n",
    "    min_inflows=('usd_inflows_cumulative', 'min'),\n",
    "    max_inflows=('usd_inflows_cumulative', 'max'),\n",
    "    percentile_25_inflows=('usd_inflows_cumulative', lambda x: np.percentile(x.dropna(), 25) if len(x) > 1 else np.nan),\n",
    "    percentile_75_inflows=('usd_inflows_cumulative', lambda x: np.percentile(x.dropna(), 75) if len(x) > 1 else np.nan),\n",
    "    mean_profits=('profits_cumulative', 'mean'),\n",
    "    min_profits=('profits_cumulative', 'min'),\n",
    "    max_profits=('profits_cumulative', 'max'),\n",
    "    percentile_25_profits=('profits_cumulative', lambda x: np.percentile(x.dropna(), 25) if len(x) > 1 else np.nan),\n",
    "    percentile_75_profits=('profits_cumulative', lambda x: np.percentile(x.dropna(), 75) if len(x) > 1 else np.nan),\n",
    "    total_inflows=('usd_inflows_cumulative', 'sum'),\n",
    "    total_profits=('profits_cumulative', 'sum')\n",
    ")\n",
    "\n",
    "# Calculate median return\n",
    "shark_performance_df['median_return'] = np.divide(\n",
    "    shark_performance_df['median_profits'],\n",
    "    shark_performance_df['median_inflows'],\n",
    "    out=np.zeros_like(shark_performance_df['median_profits']),\n",
    "    where=shark_performance_df['median_inflows'] != 0\n",
    ")\n",
    "\n",
    "# Calculate aggregate return\n",
    "shark_performance_df['return_aggregate'] = np.divide(\n",
    "    shark_performance_df['total_profits'],\n",
    "    shark_performance_df['total_inflows'],\n",
    "    out=np.zeros_like(shark_performance_df['total_profits']),\n",
    "    where=shark_performance_df['total_inflows'] != 0\n",
    ")\n",
    "\n",
    "shark_performance_df"
   ]
  },
  {
   "cell_type": "markdown",
   "metadata": {},
   "source": [
    "### Sharkwork"
   ]
  },
  {
   "cell_type": "code",
   "execution_count": null,
   "metadata": {},
   "outputs": [],
   "source": [
    "importlib.reload(td)\n",
    "config = load_config()\n",
    "\n",
    "# create shark dfs\n",
    "shark_coins_df = td.classify_shark_coins(profits_df, config['modeling'])\n",
    "shark_wallets_df = td.classify_shark_wallets(shark_coins_df,config['modeling'])\n",
    "\n",
    "# assess shark performance\n",
    "shark_performance_df = td.calculate_shark_performance(transfers_df, prices_df, shark_wallets_df, config)\n",
    "shark_performance_df"
   ]
  },
  {
   "cell_type": "code",
   "execution_count": null,
   "metadata": {},
   "outputs": [],
   "source": [
    "# Filter transfers for the modeling period\n",
    "modeling_period_transfers_df = transfers_df[\n",
    "    (transfers_df['date'] >= config['modeling']['modeling_period_start']) &\n",
    "    (transfers_df['date'] <= config['modeling']['modeling_period_end'])\n",
    "]\n",
    "\n",
    "# Create profits_df for the modeling period\n",
    "modeling_period_profits_df = td.prepare_profits_data(modeling_period_transfers_df, prices_df)\n",
    "modeling_period_profits_df = td.calculate_wallet_profitability(modeling_period_profits_df)\n",
    "\n",
    "# Retrieve wallet-level profit state at the end of the period\n",
    "modeling_end_profits_df = modeling_period_profits_df[\n",
    "    modeling_period_profits_df['date'] == config['modeling']['modeling_period_end']\n",
    "]\n",
    "modeling_end_metrics_df = modeling_end_profits_df.groupby('wallet_address')[\n",
    "    ['usd_inflows_cumulative', 'profits_cumulative']\n",
    "].sum()\n",
    "\n",
    "# Classify wallets by shark status and merge with metrics\n",
    "shark_performance_df = shark_wallets_df[['wallet_address', 'is_shark']].merge(\n",
    "    modeling_end_metrics_df,\n",
    "    on='wallet_address',\n",
    "    how='left'\n",
    ")\n",
    "\n",
    "modeling_end_metrics_df"
   ]
  },
  {
   "cell_type": "code",
   "execution_count": null,
   "metadata": {},
   "outputs": [],
   "source": [
    "w = '0x00000000000a78c8727b6ae386f004e7e37a4875'\n",
    "\n",
    "# modeling_period_transfers_df[modeling_period_transfers_df['wallet_address']==w]\n",
    "modeling_period_profits_df[modeling_period_profits_df['wallet_address']==w]"
   ]
  },
  {
   "cell_type": "code",
   "execution_count": null,
   "metadata": {},
   "outputs": [],
   "source": []
  },
  {
   "cell_type": "code",
   "execution_count": null,
   "metadata": {},
   "outputs": [],
   "source": [
    "print(modeling_end_metrics_df.shape)\n",
    "modeling_end_metrics_df.isna().sum()"
   ]
  },
  {
   "cell_type": "code",
   "execution_count": null,
   "metadata": {},
   "outputs": [],
   "source": []
  },
  {
   "cell_type": "code",
   "execution_count": null,
   "metadata": {},
   "outputs": [],
   "source": [
    "# Classify wallets by shark status and merge with metrics\n",
    "shark_performance_df = shark_wallets_df[['wallet_address', 'is_shark']].merge(\n",
    "    modeling_end_metrics_df,\n",
    "    on='wallet_address',\n",
    "    how='left'\n",
    ")\n",
    "shark_performance_df\n",
    "\n"
   ]
  },
  {
   "cell_type": "code",
   "execution_count": null,
   "metadata": {},
   "outputs": [],
   "source": [
    "w = '0x00000000000a78c8727b6ae386f004e7e37a4875'\n",
    "\n",
    "transfers_df[transfers_df['wallet_address']==w]"
   ]
  },
  {
   "cell_type": "code",
   "execution_count": null,
   "metadata": {},
   "outputs": [],
   "source": [
    "shark_performance_df.isna().sum()"
   ]
  },
  {
   "cell_type": "code",
   "execution_count": null,
   "metadata": {},
   "outputs": [],
   "source": [
    "# Classify wallets by shark status and merge with metrics\n",
    "shark_performance_df = shark_wallets_df[['wallet_address', 'is_shark']].merge(\n",
    "    modeling_end_metrics_df,\n",
    "    on='wallet_address',\n",
    "    how='left'\n",
    ")\n",
    "\n",
    "shark_performance_df"
   ]
  },
  {
   "cell_type": "code",
   "execution_count": null,
   "metadata": {},
   "outputs": [],
   "source": [
    "print(modeling_end_metrics_df.shape)\n",
    "modeling_end_metrics_df.isna().sum()"
   ]
  },
  {
   "cell_type": "code",
   "execution_count": null,
   "metadata": {},
   "outputs": [],
   "source": [
    "# Classify wallets by shark status and merge with metrics\n",
    "shark_performance_df = shark_wallets_df[['wallet_address', 'is_shark']].merge(\n",
    "    modeling_end_metrics_df,\n",
    "    on='wallet_address',\n",
    "    how='left'\n",
    ")\n",
    "\n",
    "shark_performance_df.shape"
   ]
  },
  {
   "cell_type": "code",
   "execution_count": null,
   "metadata": {},
   "outputs": [],
   "source": [
    "shark_performance_df.head()"
   ]
  },
  {
   "cell_type": "code",
   "execution_count": null,
   "metadata": {},
   "outputs": [],
   "source": [
    "\n",
    "# Classify wallets by shark status and merge with metrics\n",
    "shark_performance_df = shark_wallets_df[['wallet_address', 'is_shark']].merge(\n",
    "    modeling_end_metrics_df,\n",
    "    on='wallet_address',\n",
    "    how='left'\n",
    ")\n",
    "\n",
    "# # Remove wallet_address for aggregation\n",
    "# shark_performance_df.groupby('is_shark').agg(\n",
    "#     count_wallets=('wallet_address', 'size'),\n",
    "#     median_inflows=('usd_inflows_cumulative', 'median'),\n",
    "#     median_profits=('profits_cumulative', 'median'),\n",
    "#     mean_inflows=('usd_inflows_cumulative', 'mean'),\n",
    "#     min_inflows=('usd_inflows_cumulative', 'min'),\n",
    "#     max_inflows=('usd_inflows_cumulative', 'max'),\n",
    "#     percentile_25_inflows=('usd_inflows_cumulative', lambda x: np.percentile(x, 25)),\n",
    "#     percentile_75_inflows=('usd_inflows_cumulative', lambda x: np.percentile(x, 75)),\n",
    "#     mean_profits=('profits_cumulative', 'mean'),\n",
    "#     min_profits=('profits_cumulative', 'min'),\n",
    "#     max_profits=('profits_cumulative', 'max'),\n",
    "#     percentile_25_profits=('profits_cumulative', lambda x: np.percentile(x, 25)),\n",
    "#     percentile_75_profits=('profits_cumulative', lambda x: np.percentile(x, 75)),\n",
    "#     total_inflows=('usd_inflows_cumulative', 'sum'),\n",
    "#     total_profits=('profits_cumulative', 'sum')\n",
    "# )\n",
    "\n",
    "# # # Calculate aggregate return\n",
    "# # shark_performance_df['return_aggregate'] = np.divide(\n",
    "# #     shark_performance_df['total_profits'],\n",
    "# #     shark_performance_df['total_inflows'],\n",
    "# #     out=np.zeros_like(shark_performance_df['total_profits']),\n",
    "# #     where=shark_performance_df['total_inflows'] != 0\n",
    "# # )\n",
    "\n",
    "shark_performance_df.head()"
   ]
  },
  {
   "cell_type": "code",
   "execution_count": null,
   "metadata": {},
   "outputs": [],
   "source": [
    "# calculate total inflows and total profits\n",
    "# modeling_end_metrics_df = modeling_end_profits_df.groupby('wallet_address')[['usd_inflows_cumulative','profits_cumulative']].sum()\n",
    "shark_performance_df = shark_wallets_df[['wallet_address', 'is_shark']].merge(\n",
    "    modeling_end_profits_df,\n",
    "    on='wallet_address',\n",
    "    how='left'\n",
    ")\n",
    "shark_performance_df = shark_performance_df.groupby('is_shark').sum()\n",
    "shark_performance_df['return_aggregate'] = shark_performance_df['profits_cumulative'] / shark_performance_df['usd_inflows_cumulative']"
   ]
  },
  {
   "cell_type": "code",
   "execution_count": null,
   "metadata": {},
   "outputs": [],
   "source": [
    "# calculate total inflows and total profits\n",
    "# modeling_end_metrics_df = modeling_end_profits_df.groupby('wallet_address')[['usd_inflows_cumulative','profits_cumulative']].sum()\n",
    "shark_performance_df = shark_wallets_df[['wallet_address', 'is_shark']].merge(\n",
    "    modeling_end_profits_df,\n",
    "    on='wallet_address',\n",
    "    how='left'\n",
    ")\n",
    "shark_performance_df.groupby('is_shark').sum()"
   ]
  },
  {
   "cell_type": "code",
   "execution_count": null,
   "metadata": {},
   "outputs": [],
   "source": [
    "w = '0x0000000000000000000000000000000000000002'\n",
    "profits_df[profits_df['wallet_address'==w]]"
   ]
  },
  {
   "cell_type": "code",
   "execution_count": null,
   "metadata": {},
   "outputs": [],
   "source": [
    "print(len(shark_wallets_df['wallet_address']))\n",
    "len(shark_wallets_df['wallet_address'].drop_duplicates())"
   ]
  },
  {
   "cell_type": "code",
   "execution_count": null,
   "metadata": {},
   "outputs": [],
   "source": [
    "\n",
    "modeling_period_profits_df.head()"
   ]
  },
  {
   "cell_type": "code",
   "execution_count": null,
   "metadata": {},
   "outputs": [],
   "source": [
    "def filter_df(df, coin_id, wallet_address):\n",
    "    filtered_df = df[\n",
    "        (df['coin_id'] == coin_id) &\n",
    "        (df['wallet_address'] == wallet_address)\n",
    "    ]\n",
    "    return filtered_df\n",
    "\n",
    "c=\n",
    "\n",
    "filter_df(modeling_period_profits_df,c,w)"
   ]
  },
  {
   "cell_type": "code",
   "execution_count": null,
   "metadata": {},
   "outputs": [],
   "source": [
    "transfers_df[\n",
    "    (transfers_df['date'] >= config['modeling']['modeling_period_start'])\n",
    "    (transfers_df['date'] <= config['modeling']['modeling_period_end'])\n",
    "]"
   ]
  },
  {
   "cell_type": "code",
   "execution_count": null,
   "metadata": {},
   "outputs": [],
   "source": [
    "# Calculate and clean profits data for the modeling period only\n",
    "profits_df = td.prepare_profits_data(transfers_df, prices_df)\n",
    "profits_df = td.calculate_wallet_profitability(profits_df)\n",
    "\n",
    "modeling_period_profits_df"
   ]
  },
  {
   "cell_type": "code",
   "execution_count": null,
   "metadata": {},
   "outputs": [],
   "source": [
    "importlib.reload(td)\n",
    "config = load_config()\n",
    "\n",
    "def calculate_modeling_period_profitability(profits_df, training_period_end, modeling_period_end):\n",
    "    \"\"\"\n",
    "    Calculate profitability during the modeling period by finding the difference in total_profits between\n",
    "    the end of the training period and the end of the modeling period.\n",
    "\n",
    "    Parameters:\n",
    "        profits_df (DataFrame): DataFrame containing wallet profitability data.\n",
    "        training_period_end (str): End date of the training period.\n",
    "        modeling_period_end (str): End date of the modeling period.\n",
    "\n",
    "    Returns:\n",
    "        modeling_period_profits_df (DataFrame): DataFrame with wallet_address, coin_id, and profitability change.\n",
    "    \"\"\"\n",
    "    # Step 1: Filter for the end of the training period and the modeling period\n",
    "    training_profits_df = profits_df[profits_df['date'] == training_period_end][['wallet_address', 'coin_id', 'profits_cumulative']]\n",
    "    modeling_profits_df = profits_df[profits_df['date'] == modeling_period_end][['wallet_address', 'coin_id', 'profits_cumulative']]\n",
    "\n",
    "    # Step 2: Merge the two DataFrames on wallet_address and coin_id\n",
    "    merged_profits_df = pd.merge(\n",
    "        training_profits_df,\n",
    "        modeling_profits_df,\n",
    "        on=['wallet_address', 'coin_id'],\n",
    "        suffixes=('_training', '_modeling')\n",
    "    )\n",
    "\n",
    "    # Step 3: Calculate the difference in total profits between the two periods\n",
    "    merged_profits_df['profit_during_modeling'] = merged_profits_df['profits_cumulative_modeling'] - merged_profits_df['profits_cumulative_training']\n",
    "\n",
    "    return merged_profits_df[['wallet_address', 'coin_id', 'profit_during_modeling']]\n",
    "\n",
    "\n",
    "training_period_end = config['modeling']['training_period_end']\n",
    "modeling_period_end = config['modeling']['modeling_period_end']\n",
    "modeling_period_profits_df = calculate_modeling_period_profitability(profits_df, training_period_end, modeling_period_end)\n",
    "modeling_period_profits_df"
   ]
  },
  {
   "cell_type": "code",
   "execution_count": null,
   "metadata": {},
   "outputs": [],
   "source": [
    "def assess_megashark_modeling_period_performance(modeling_period_profits_df, shark_wallets_df):\n",
    "    \"\"\"\n",
    "    Assess the performance of megasharks during the modeling period by comparing their profitability changes\n",
    "    to non-megasharks.\n",
    "\n",
    "    Parameters:\n",
    "        modeling_period_profits_df (DataFrame): DataFrame containing the change in profitability during the modeling period.\n",
    "        shark_wallets_df (DataFrame): DataFrame with wallets classified as megasharks.\n",
    "\n",
    "    Returns:\n",
    "        megasharks_performance_df (DataFrame): DataFrame comparing megashark performance vs. non-megasharks.\n",
    "    \"\"\"\n",
    "    # Step 1: Filter for megasharks and non-megasharks\n",
    "    megasharks_df = shark_wallets_df[shark_wallets_df['is_megashark']]\n",
    "    non_megasharks_df = shark_wallets_df[~shark_wallets_df['is_megashark']]\n",
    "\n",
    "    # Step 2: Merge megasharks with modeling period profits data\n",
    "    megasharks_performance_df = pd.merge(\n",
    "        megasharks_df[['wallet_address']],\n",
    "        modeling_period_profits_df,\n",
    "        on='wallet_address',\n",
    "        how='inner'\n",
    "    )\n",
    "\n",
    "    # Step 3: Merge non-megasharks with modeling period profits data\n",
    "    non_megasharks_performance_df = pd.merge(\n",
    "        non_megasharks_df[['wallet_address']],\n",
    "        modeling_period_profits_df,\n",
    "        on='wallet_address',\n",
    "        how='inner'\n",
    "    )\n",
    "\n",
    "    # Step 4: Calculate average performance for megasharks and non-megasharks\n",
    "    megasharks_avg_profit_change = megasharks_performance_df['profit_during_modeling'].mean()\n",
    "    non_megasharks_avg_profit_change = non_megasharks_performance_df['profit_during_modeling'].mean()\n",
    "\n",
    "    # Step 5: Create a comparison DataFrame\n",
    "    performance_comparison_df = pd.DataFrame({\n",
    "        'group': ['megasharks', 'non-megasharks'],\n",
    "        'avg_profit_change': [megasharks_avg_profit_change, non_megasharks_avg_profit_change]\n",
    "    })\n",
    "\n",
    "    return performance_comparison_df\n",
    "\n",
    "performance_comparison_df = assess_megashark_modeling_period_performance(modeling_period_profits_df, shark_wallets_df)\n",
    "performance_comparison_df"
   ]
  },
  {
   "cell_type": "code",
   "execution_count": null,
   "metadata": {},
   "outputs": [],
   "source": [
    "def calculate_modeling_period_rate_of_return(profits_df, training_period_end, modeling_period_end):\n",
    "    \"\"\"\n",
    "    Calculate the rate of return (ROR) during the modeling period for each wallet-coin pair.\n",
    "\n",
    "    Parameters:\n",
    "        profits_df (DataFrame): DataFrame containing wallet balances, inflows, and profits data.\n",
    "        training_period_end (str): End date of the training period.\n",
    "        modeling_period_end (str): End date of the modeling period.\n",
    "\n",
    "    Returns:\n",
    "        ror_df (DataFrame): DataFrame with wallet_address, coin_id, and rate of return (ROR).\n",
    "    \"\"\"\n",
    "    # Step 1: Filter for the end of the training period and the end of the modeling period\n",
    "    training_profits_df = profits_df[profits_df['date'] == training_period_end][['wallet_address', 'coin_id', 'balance', 'usd_inflows_cumulative']]\n",
    "    modeling_profits_df = profits_df[profits_df['date'] == modeling_period_end][['wallet_address', 'coin_id', 'balance', 'price']]\n",
    "\n",
    "    # Step 2: Merge the two DataFrames on wallet_address and coin_id\n",
    "    merged_profits_df = pd.merge(\n",
    "        training_profits_df,\n",
    "        modeling_profits_df,\n",
    "        on=['wallet_address', 'coin_id'],\n",
    "        suffixes=('_training', '_modeling')\n",
    "    )\n",
    "\n",
    "    # Step 3: Calculate the total inflows, outflows, and price changes during the modeling period\n",
    "    merged_profits_df['net_inflows'] = merged_profits_df['usd_inflows_cumulative']  # Assumed to be cumulative inflows\n",
    "    merged_profits_df['final_value'] = merged_profits_df['balance_modeling'] * merged_profits_df['price']\n",
    "\n",
    "    # Step 4: Calculate net investment (initial balance + inflows)\n",
    "    merged_profits_df['net_investment'] = merged_profits_df['balance_training'] + merged_profits_df['net_inflows']\n",
    "\n",
    "    # Step 5: Calculate the rate of return (ROR)\n",
    "    merged_profits_df['rate_of_return'] = ((merged_profits_df['final_value'] - merged_profits_df['net_investment']) / merged_profits_df['net_investment']) * 100\n",
    "\n",
    "    return merged_profits_df[['wallet_address', 'coin_id', 'rate_of_return']]\n"
   ]
  },
  {
   "cell_type": "code",
   "execution_count": null,
   "metadata": {},
   "outputs": [],
   "source": []
  }
 ],
 "metadata": {
  "kernelspec": {
   "display_name": "dreams_venv",
   "language": "python",
   "name": "python3"
  },
  "language_info": {
   "codemirror_mode": {
    "name": "ipython",
    "version": 3
   },
   "file_extension": ".py",
   "mimetype": "text/x-python",
   "name": "python",
   "nbconvert_exporter": "python",
   "pygments_lexer": "ipython3",
   "version": "3.11.9"
  }
 },
 "nbformat": 4,
 "nbformat_minor": 2
}
