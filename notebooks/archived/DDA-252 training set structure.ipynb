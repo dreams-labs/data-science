{
 "cells": [
  {
   "cell_type": "code",
   "execution_count": null,
   "metadata": {},
   "outputs": [],
   "source": [
    "# pyright: reportMissingImports=false\n",
    "import sys\n",
    "import os\n",
    "import time\n",
    "import logging\n",
    "import datetime\n",
    "import importlib\n",
    "from dotenv import load_dotenv\n",
    "import pandas as pd\n",
    "import numpy as np\n",
    "import requests\n",
    "import pandas_gbq\n",
    "from dreams_core.googlecloud import GoogleCloud as dgc\n",
    "from dreams_core import core as dc\n",
    "import matplotlib.pyplot as plt\n",
    "from scipy.signal import argrelextrema\n",
    "\n",
    "\n",
    "# import local files if necessary\n",
    "sys.path.append('..//src')\n",
    "import training_data as td\n",
    "importlib.reload(td)\n",
    "\n",
    "# load dotenv\n",
    "load_dotenv()\n",
    "\n",
    "# configure logger\n",
    "logger = dc.setup_logger()\n",
    "logger.setLevel(logging.INFO)\n"
   ]
  },
  {
   "cell_type": "markdown",
   "metadata": {},
   "source": [
    "### Model v0.1 notes\n",
    "\n",
    "#### Timing\n",
    "* The Modeling and Future periods will both extend 30 days.\n",
    "* The Modeling Period will be from 3/1/24-3/30/24\n",
    "\n",
    "#### Model implementation\n",
    "* The target variable will be defined as true if the price was up more than 30% at the end of the 30 day period. "
   ]
  },
  {
   "cell_type": "markdown",
   "metadata": {},
   "source": [
    "## Codespace"
   ]
  },
  {
   "cell_type": "code",
   "execution_count": null,
   "metadata": {},
   "outputs": [],
   "source": [
    "# retrieve prices data\n",
    "if 'prices_df' not in locals():\n",
    "    prices_df = td.retrieve_prices_data()\n",
    "\n",
    "# fill gaps in prices data\n",
    "prices_filled_df,prices_outcomes_df = td.fill_prices_gaps(prices_df, max_gap_days=2)\n",
    "\n",
    "# create target variable for each coin\n",
    "modeling_period_start = '2024-08-01'\n",
    "modeling_period_end = '2024-08-30'\n",
    "moon_threshold = 0.3\n",
    "crater_threshold = -0.3\n",
    "target_variables_df,targets_outcomes_df = td.create_target_variable(prices_filled_df, modeling_period_start, modeling_period_end, moon_threshold, crater_threshold)\n",
    "\n"
   ]
  },
  {
   "cell_type": "code",
   "execution_count": null,
   "metadata": {},
   "outputs": [],
   "source": []
  }
 ],
 "metadata": {
  "kernelspec": {
   "display_name": "dreams_venv",
   "language": "python",
   "name": "python3"
  },
  "language_info": {
   "codemirror_mode": {
    "name": "ipython",
    "version": 3
   },
   "file_extension": ".py",
   "mimetype": "text/x-python",
   "name": "python",
   "nbconvert_exporter": "python",
   "pygments_lexer": "ipython3",
   "version": "3.11.9"
  }
 },
 "nbformat": 4,
 "nbformat_minor": 2
}
